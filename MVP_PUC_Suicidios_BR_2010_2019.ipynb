{
 "cells": [
  {
   "cell_type": "code",
   "execution_count": 0,
   "metadata": {
    "application/vnd.databricks.v1+cell": {
     "cellMetadata": {
      "byteLimit": 2048000,
      "rowLimit": 10000
     },
     "inputWidgets": {},
     "nuid": "f4d6975d-3da3-401c-b728-1d3d7af3e510",
     "showTitle": true,
     "tableResultSettingsMap": {},
     "title": "Imports de bibliotecas"
    }
   },
   "outputs": [],
   "source": [
    "from pyspark.sql import SparkSession\n",
    "from pyspark.sql.functions import col, count, when\n",
    "\n",
    "import pandas as pd\n",
    "import matplotlib.pyplot as plt"
   ]
  },
  {
   "cell_type": "markdown",
   "metadata": {
    "application/vnd.databricks.v1+cell": {
     "cellMetadata": {
      "byteLimit": 2048000,
      "rowLimit": 10000
     },
     "inputWidgets": {},
     "nuid": "264ba51d-ea2a-47c6-ba9f-edcbc2df3d9f",
     "showTitle": false,
     "tableResultSettingsMap": {},
     "title": ""
    }
   },
   "source": [
    "# Projeto de Engenharia de Dados\n",
    "## Criando um pipeline de dados relacionados a suicídios cometidos no Brasil entre 2010 e 2019\n",
    "\n",
    "O suicídio é um problema grave de saúde pública que afeta milhões de pessoas em todo o mundo. No Brasil, como em muitos outros países, a Classificação Internacional de Doenças (CID) é utilizada para registrar e categorizar as causas de morte, incluindo suicídios. A CID-10, em particular, dedica uma seção específica às causas externas de morbidade e mortalidade, onde os suicídios são classificados sob os códigos X600 a X850. Esses códigos são essenciais para identificar e monitorar os casos de suicídio, permitindo que os profissionais de saúde e pesquisadores analisem tendências e desenvolvam estratégias de prevenção.\n",
    "\n",
    "Através da CID-10, é possível identificar que uma pessoa cometeu suicídio ao verificar se o código de causa de morte está dentro do grupo X600-X850, que inclui lesões autoprovocadas intencionalmente, como suicídio e tentativas de suicídio. Essa informação é crucial para a vigilância epidemiológica e para a implementação de políticas públicas eficazes na prevenção do suicídio.\n",
    "\n",
    "Ao correlacionar dados de suicídio com a CID-10 é possível realizar uma análise mais aprofundada dos padrões e tendências de suicídio, ajudando a melhorar a compreensão e a resposta a esse problema de saúde pública."
   ]
  },
  {
   "cell_type": "markdown",
   "metadata": {
    "application/vnd.databricks.v1+cell": {
     "cellMetadata": {
      "byteLimit": 2048000,
      "rowLimit": 10000
     },
     "inputWidgets": {},
     "nuid": "c14b9faf-883e-400d-9275-e47978e7bfb2",
     "showTitle": false,
     "tableResultSettingsMap": {},
     "title": ""
    }
   },
   "source": [
    "## Objetivo\n",
    "\n",
    "Este projeto visa desenvolver um pipeline de dados capaz de realizar a extração, transformação e carga (ETL) dos dados disponíveis sobre suicídio correlacionando-os com a Classificação Internacional de Doenças (CID-10). Ao final do pipeline, teremos a disposição um dataset com dados tratados que possibilitarão iniciar uma análise para geração de insights sobre este grave problema de saúde pública.\n",
    "\n",
    "O problema central a ser abordado é a dificuldade na identificação e análise precisa dos dados de suicídio, que são frequentemente registrados sob códigos específicos da CID-10 (X600 a X850). Esses códigos são cruciais para monitorar e entender as tendências de suicídio.\n",
    "\n",
    "As principais perguntas de negócio que este trabalho visa responder incluem:\n",
    "\n",
    "1. Qual o ano com a maior quantidade de registros de suicídio?\n",
    "2. Para cada ano, qual o estado brasileiro com o maior número de suicídios?\n",
    "3. Para cada estado brasileiro, quais os municípios que concentraram a maior parte dos indivíduos que cometeram suicídio (seus municípios de residência)?\n",
    "4. Quem mais cometeu suicídios: homens ou mulheres?\n",
    "5. Qual a taxa de suicídios entre as pessoas com diferentes níveis de escolaridade?\n",
    "6. Quais as TOP 5 ocupações das pessoas que cometeram suicídio?\n",
    "7. Quais as idades mínima e máxima das pessoas que cometeram suicídio?\n",
    "8. Qual a raça/cor das pessoas que mais cometeram suicídio?\n",
    "9. Quais os locais onde mais se cometeram suicídios?\n",
    "10. Qual o período do ano em que as pessoas mais cometeram suicídio? É um comportamento que se repete em todos os anos?\n",
    "11. Quais são as TOP 5 causas mais frequentes de suicídios?\n",
    "12. Para cada ano, quais as TOP 3 causas mais frequentes de suicídios? Há um padrão de comportamento ao longo dos anos?\n",
    "\n",
    "Ao responder a essas perguntas, este projeto busca contribuir para a melhoria da compreensão dos casos de suicídio que ocorreram no Brasil entre 2010 a 2019."
   ]
  },
  {
   "cell_type": "markdown",
   "metadata": {
    "application/vnd.databricks.v1+cell": {
     "cellMetadata": {
      "byteLimit": 2048000,
      "rowLimit": 10000
     },
     "inputWidgets": {},
     "nuid": "36190864-698e-4f13-93ea-a498f3e88725",
     "showTitle": false,
     "tableResultSettingsMap": {},
     "title": ""
    }
   },
   "source": [
    "## Linhagem dos Dados\n",
    "O DATASUS disponibiliza publicamente dados relacionados a suicídios cometidos no Brasil. Estes podem ser encontrados em:\n",
    "-  https://opendatasus.saude.gov.br/dataset/sim  \n",
    "\n",
    "Com base nestas informações, foi disponibilizado no Kaggle, um novo dataset contendo a série histórica dos suicídios cometidos no Brasil entre os anos de 2010 e 2019.\n",
    "- https://www.kaggle.com/datasets/psicodata/dados-de-suicidios-entre-2010-e-2019\n",
    "\n",
    "Importante mencionar que os dados de suicídio disponibilizados no Kaggle **não possuem dados nulos**: já houve a **tratativa dos dados faltantes**. Foi realizada a **substituição dos valores nulos pelo valor 'NA'**.\n",
    "\n",
    "Este dataset faz referência ao CID, informando em 2 de suas colunas o respectivo código. Como abordado anteriormente, o CID se refere a um Diagnóstico que, para este cenárop, foi utilizado para definir a causa do óbito do indivíduo. \n",
    "\n",
    "Porém, para fins de análise, a disponibilização somente do código CID não é suficiente para compreensão dos resultados encontrados e respectivas tomadas de decisão. Se faz necessária a descrição do Diagnóstico e, esta informação pode ser encontrada na seguinte referência:\n",
    "- http://www2.datasus.gov.br/cid10/V2008/cid10.htm\n",
    "\n",
    "Para este presente trabalho serão utilizados os seguintes datasets:\n",
    "\n",
    "- dados de suicídio entre 2010 e 2019\n",
    "  - https://www.kaggle.com/datasets/psicodata/dados-de-suicidios-entre-2010-e-2019\n",
    "    - suicidios_2010_a_2019.csv\n",
    "- dados do CID\n",
    "  - http://www2.datasus.gov.br/cid10/V2008/cid10.htm\n",
    "    - http://www2.datasus.gov.br/cid10/V2008/downloads/CID10CSV.zip\n",
    "      - CID-10-SUBCATEGORIAS.CSV"
   ]
  },
  {
   "cell_type": "markdown",
   "metadata": {
    "application/vnd.databricks.v1+cell": {
     "cellMetadata": {
      "byteLimit": 2048000,
      "rowLimit": 10000
     },
     "inputWidgets": {},
     "nuid": "595a0977-fba2-4c56-8f03-005d20742f55",
     "showTitle": false,
     "tableResultSettingsMap": {},
     "title": ""
    }
   },
   "source": [
    "## Catálogo de Dados\n",
    "\n",
    "### Entidade 'Ocorrência' \n",
    "\n",
    "| Nome da Coluna | Tipo    | Descrição                                             | Domínio                                                                 |\n",
    "|----------------|---------|-------------------------------------------------------|-------------------------------------------------------------------------|\n",
    "| `#`        | Inteiro | Identificação do registro (número sequencial)         | Valor mínimo: 1 Valor máximo: 112.491                                  |\n",
    "| `estado`         | Texto   | Estado brasileiro de registro do suicídio            | RJ, SP, MG e demais siglas dos estados                                 |\n",
    "| `ano`            | Inteiro | Ano de registro do suicídio                          | Valor mínimo: 2010 Valor máximo: 2019                                  |\n",
    "| `mes`            | Inteiro | Mês de registro do suicídio                          | Valor mínimo: 1 Valor máximo: 12                                       |\n",
    "| `DTOBITO`        | Data    | Data do óbito no formato YYYY-MM-DD                 | Valor mínimo: 2010-01-01 Valor máximo: 2019-12-31                       |\n",
    "| `DTNASC`         | Data    | Data de nascimento no formato YYYY-MM-DD            |                                                                         |\n",
    "| `sexo`           | Texto   | Sexo registrado                                       | Feminino, Masculino, NA                                                |\n",
    "| `RACACOR`        | Texto   | Raça ou cor de acordo com a classificação do IBGE    | Amarela, Branca, Parda, Preta, Indígena, NA                            |\n",
    "| `ASSISTMED`      | Texto   | Recebeu assistência médica?                          | Sim, Não, NA                                                            |\n",
    "| `escmae`         | Texto   | Escolaridade registrada da mãe                       | '1 a 3 anos', '4 a 7 anos', '8 a 11 anos', '12 e mais', 'Nenhuma', 'NA' |\n",
    "| `ESTCIV`         | Texto   | Estado civil                                          | Casado/a, Solteiro/a, 'União consensual', NA, 'Separado/a judicialmente', Viuvo/a |\n",
    "| `esc`            | Texto   | Escolaridade (em anos)                               | '1 a 3 anos', '4 a 7 anos', '8 a 11 anos', '12 e mais', 'Nenhuma', 'NA' |\n",
    "| `OCUP`           | Texto   | Ocupação (profissão)                                 | APOSENTADO/PENSIONISTA, ESTUDANTE, 'DONA DE CASA', dentre outros.      |\n",
    "| `CODMUNRES`      | Texto   | Município de residência                              | 'São Paulo', 'Porto Velho', 'Fortaleza', 'São Simão', 'Sobral', 'Sorocaba', 'Rio de Janeiro', 'São Gonçalo', dentre outros |\n",
    "| `CAUSABAS`       | Texto   | Causa básica da declaração de óbito (de acordo com CID) | X600, X700, X705, X850, dentre outros                                |\n",
    "| `CAUSABAS_O`     | Texto   | Causa básica da morte (de acordo com CID)            | X600, X700, X705, X850, dentre outros                                   |\n",
    "| `LOCOCOR`        | Texto   | Local de ocorrência da morte                         | Hospital, Domicílio, Outros, 'Via pública', 'Outro estabelecimento de saúde', NA |\n",
    "| `CIRURGIA`       | Texto   | Indica se foi realizada cirurgia                     | Sim, Não, NA                                                            |\n",
    "\n",
    "\n",
    "### Entidade 'Diagnóstico' \n",
    "\n",
    "| Nome da Coluna      | Tipo      | Descrição | Domínio |\n",
    "|---------------------|-----------|-----------|------------------|\n",
    "| `SUBCAT` | Texto   | Código CID   | A000, X600, X700, X705, X850, W800        |\n",
    "| `CLASSIF` | Texto   | Indica a categoria do CID   | em branco: não tem dupla classificação; </br> +: classificação por etiologia; </br> *: classificação por manifestação.        |\n",
    "| `RESTRSEXO` | Texto   |  Indica se o CID só pode ser usado para homens ou mulheres   | em branco: pode ser utilizada em qualquer situação; </br> F: só deve ser utilizada para o sexo feminino; </br> M: só deve ser utilizada para o sexo masculino.        |\n",
    "| `CAUSAOBITO` | Texto   |  Indica se o CID pode causar óbito   | em branco: não há restrição; </br> N: a subcategoria tem pouca probabilidade de causar óbito.         |\n",
    "| `DESCRICAO` | Texto   | Descrição do CID   | 'Febre tifóide',  'Cólera não especificada',  'Botulismo', 'Lesão autoprovocada intencionalmente por enforcamento, estrangulamento e sufocação - residência', dentre outros     |\n",
    "| `DESCRABREV` | Texto   | Descrição abreviada do CID   | 'A01.0 Febre tifoide', 'A00.9 Colera NE', 'A05.1 Botulismo', 'X70.0 Residencia', dentre outros    |\n",
    "| `REFER` | Texto   | Referencia outro código CID, quando aplicável   | 'B02.2+, 'A18.8+', 'A23.-+', dentre outros        |\n",
    "| `EXCLUIDOS` | Texto   | Indica códigos excluídos que agora se referem ao respectivo CID   | N975, Q352, S446, dentre outros   |"
   ]
  },
  {
   "cell_type": "markdown",
   "metadata": {
    "application/vnd.databricks.v1+cell": {
     "cellMetadata": {
      "byteLimit": 2048000,
      "rowLimit": 10000
     },
     "inputWidgets": {},
     "nuid": "e33ffc51-3838-4c2d-bbc5-2e39662f9ed4",
     "showTitle": false,
     "tableResultSettingsMap": {},
     "title": ""
    }
   },
   "source": [
    "## Modelagem de Dados\n",
    "\n",
    "Para este trabalho optou-se pela criação de uma tabela flat, como adotado em um Data Lake.\n",
    "\n",
    "Ao longo do pipeline descrito a seguir, será realizada a junção das 2 entidades descritas na seção acima para dar origem a entidade **OCORRENCIAS_SUICIDIOS**.\n",
    "\n",
    "A junção entre as entidades ocorre utilizando as seguintes informações:\n",
    "- **OCORRENCIA.CD_CID**\n",
    "    - nova coluna que será criada ao longo do pipeline a ser descrito a seguir\n",
    "    - esta nova coluna deverá receber valores de código CID que variam entre X600 e X850, visto que esta é a regra de negócio que indica que tal registro se trata de um suicídio\n",
    "    - tal valor de código CID é obtido através das colunas OCORRENCIA.CAUSABAS ou OCORRENCIA.CAUSABAS_O\n",
    "        - uma destas duas colunas possui o código CID que obedece esta regra\n",
    "        - o valor selecionado será carregado na nova coluna OCORRENCIA.CD_CID \n",
    "\n",
    "- **DIAGNOSTICO.SUBCAT**\n",
    "\n",
    "A seguir é apresentado o modelo de dados da tabela flat que será utilizada para responder as perguntas de negócio:\n",
    "\n",
    "![](https://github.com/andressapedrosa/data_engineering/blob/43911f3d8ea23f43911623412bebdfd39478b377/modelo_ocorrencias_suicidios.jpg?raw=true)"
   ]
  },
  {
   "cell_type": "markdown",
   "metadata": {
    "application/vnd.databricks.v1+cell": {
     "cellMetadata": {
      "byteLimit": 2048000,
      "rowLimit": 10000
     },
     "inputWidgets": {},
     "nuid": "9b084c19-cf75-4a1c-be94-a55db1fce2d5",
     "showTitle": false,
     "tableResultSettingsMap": {},
     "title": ""
    }
   },
   "source": [
    "## Busca dos Dados"
   ]
  },
  {
   "cell_type": "code",
   "execution_count": 0,
   "metadata": {
    "application/vnd.databricks.v1+cell": {
     "cellMetadata": {
      "byteLimit": 2048000,
      "rowLimit": 10000
     },
     "inputWidgets": {},
     "nuid": "f96617c6-6f36-4b17-ab44-5e4a7cc95dec",
     "showTitle": true,
     "tableResultSettingsMap": {},
     "title": "Criando uma sessão do Spark e realizando a leitura dos dados"
    }
   },
   "outputs": [],
   "source": [
    "# Criação de uma SparkSession\n",
    "spark = SparkSession.builder.appName(\"Leitura CSV com PySpark\").getOrCreate()\n",
    "\n",
    "# Leitura de arquivos CSVs e criação de DataFrames\n",
    "\n",
    "# Conjunto de Dados principal: contem registros dos suicidios\n",
    "df_suicidios = spark.read.csv('dbfs:/FileStore/suicidios_2010_a_2019.csv', header=True, inferSchema=True)\n",
    "\n",
    "# Conjunto de Dados auxiliar: contem informações do CID (Código Internacional de Doenças)\n",
    "df_cids = spark.read.csv('dbfs:/FileStore/CID_10_SUBCATEGORIAS.CSV', sep=';', encoding=\"Windows-1252\", header=True, inferSchema=True)"
   ]
  },
  {
   "cell_type": "code",
   "execution_count": 0,
   "metadata": {
    "application/vnd.databricks.v1+cell": {
     "cellMetadata": {
      "byteLimit": 2048000,
      "rowLimit": 10000
     },
     "inputWidgets": {},
     "nuid": "5731dabe-923b-4b92-8e74-2bcf10e3c136",
     "showTitle": true,
     "tableResultSettingsMap": {},
     "title": "Amostra de dados - conjunto principal (registros de Suicídios)"
    }
   },
   "outputs": [
    {
     "output_type": "display_data",
     "data": {
      "text/html": [
       "<style scoped>\n",
       "  .table-result-container {\n",
       "    max-height: 300px;\n",
       "    overflow: auto;\n",
       "  }\n",
       "  table, th, td {\n",
       "    border: 1px solid black;\n",
       "    border-collapse: collapse;\n",
       "  }\n",
       "  th, td {\n",
       "    padding: 5px;\n",
       "  }\n",
       "  th {\n",
       "    text-align: left;\n",
       "  }\n",
       "</style><div class='table-result-container'><table class='table-result'><thead style='background-color: white'><tr><th>_c0</th><th>estado</th><th>ano</th><th>mes</th><th>DTOBITO</th><th>DTNASC</th><th>SEXO</th><th>RACACOR</th><th>ASSISTMED</th><th>ESCMAE</th><th>ESTCIV</th><th>ESC</th><th>OCUP</th><th>CODMUNRES</th><th>CAUSABAS</th><th>CAUSABAS_O</th><th>LOCOCOR</th><th>CIRURGIA</th></tr></thead><tbody><tr><td>1</td><td>AC</td><td>2010</td><td>1</td><td>2010-01-31</td><td>1999-11-09</td><td>Masculino</td><td>Parda</td><td>NA</td><td>NA</td><td>Solteiro/a</td><td>1 a 3 anos</td><td>ESTUDANTE</td><td>Tarauacá</td><td>X780</td><td>X780</td><td>Via pública</td><td>Não</td></tr><tr><td>2</td><td>AC</td><td>2010</td><td>2</td><td>2010-02-07</td><td>1985-09-23</td><td>Masculino</td><td>Parda</td><td>NA</td><td>NA</td><td>Solteiro/a</td><td>1 a 3 anos</td><td>ESTUDANTE</td><td>Tarauacá</td><td>X780</td><td>X780</td><td>Hospital</td><td>Não</td></tr><tr><td>3</td><td>AC</td><td>2010</td><td>2</td><td>2010-02-19</td><td>1995-08-06</td><td>Masculino</td><td>Parda</td><td>NA</td><td>NA</td><td>Solteiro/a</td><td>1 a 3 anos</td><td>ESTUDANTE</td><td>Tarauacá</td><td>X780</td><td>X780</td><td>Hospital</td><td>Não</td></tr><tr><td>4</td><td>AC</td><td>2010</td><td>4</td><td>2010-04-20</td><td>1983-12-25</td><td>Feminino</td><td>Parda</td><td>NA</td><td>NA</td><td>Casado/a</td><td>1 a 3 anos</td><td>DONA DE CASA</td><td>Tarauacá</td><td>X780</td><td>X780</td><td>Domicílio</td><td>Não</td></tr><tr><td>5</td><td>AC</td><td>2010</td><td>7</td><td>2010-07-24</td><td>1982-05-13</td><td>Masculino</td><td>Parda</td><td>NA</td><td>NA</td><td>Casado/a</td><td>NA</td><td>DONA DE CASA</td><td>Tarauacá</td><td>X720</td><td>X720</td><td>Domicílio</td><td>Não</td></tr></tbody></table></div>"
      ]
     },
     "metadata": {
      "application/vnd.databricks.v1+output": {
       "addedWidgets": {},
       "aggData": [],
       "aggError": "",
       "aggOverflow": false,
       "aggSchema": [],
       "aggSeriesLimitReached": false,
       "aggType": "",
       "arguments": {},
       "columnCustomDisplayInfos": {},
       "data": [
        [
         1,
         "AC",
         2010,
         1,
         "2010-01-31",
         "1999-11-09",
         "Masculino",
         "Parda",
         "NA",
         "NA",
         "Solteiro/a",
         "1 a 3 anos",
         "ESTUDANTE",
         "Tarauacá",
         "X780",
         "X780",
         "Via pública",
         "Não"
        ],
        [
         2,
         "AC",
         2010,
         2,
         "2010-02-07",
         "1985-09-23",
         "Masculino",
         "Parda",
         "NA",
         "NA",
         "Solteiro/a",
         "1 a 3 anos",
         "ESTUDANTE",
         "Tarauacá",
         "X780",
         "X780",
         "Hospital",
         "Não"
        ],
        [
         3,
         "AC",
         2010,
         2,
         "2010-02-19",
         "1995-08-06",
         "Masculino",
         "Parda",
         "NA",
         "NA",
         "Solteiro/a",
         "1 a 3 anos",
         "ESTUDANTE",
         "Tarauacá",
         "X780",
         "X780",
         "Hospital",
         "Não"
        ],
        [
         4,
         "AC",
         2010,
         4,
         "2010-04-20",
         "1983-12-25",
         "Feminino",
         "Parda",
         "NA",
         "NA",
         "Casado/a",
         "1 a 3 anos",
         "DONA DE CASA",
         "Tarauacá",
         "X780",
         "X780",
         "Domicílio",
         "Não"
        ],
        [
         5,
         "AC",
         2010,
         7,
         "2010-07-24",
         "1982-05-13",
         "Masculino",
         "Parda",
         "NA",
         "NA",
         "Casado/a",
         "NA",
         "DONA DE CASA",
         "Tarauacá",
         "X720",
         "X720",
         "Domicílio",
         "Não"
        ]
       ],
       "datasetInfos": [],
       "dbfsResultPath": null,
       "isJsonSchema": true,
       "metadata": {},
       "overflow": false,
       "plotOptions": {
        "customPlotOptions": {},
        "displayType": "table",
        "pivotAggregation": null,
        "pivotColumns": null,
        "xColumns": null,
        "yColumns": null
       },
       "removedWidgets": [],
       "schema": [
        {
         "metadata": "{}",
         "name": "_c0",
         "type": "\"integer\""
        },
        {
         "metadata": "{}",
         "name": "estado",
         "type": "\"string\""
        },
        {
         "metadata": "{}",
         "name": "ano",
         "type": "\"integer\""
        },
        {
         "metadata": "{}",
         "name": "mes",
         "type": "\"integer\""
        },
        {
         "metadata": "{\"__detected_date_formats\":\"yyyy-M-d\"}",
         "name": "DTOBITO",
         "type": "\"date\""
        },
        {
         "metadata": "{}",
         "name": "DTNASC",
         "type": "\"string\""
        },
        {
         "metadata": "{}",
         "name": "SEXO",
         "type": "\"string\""
        },
        {
         "metadata": "{}",
         "name": "RACACOR",
         "type": "\"string\""
        },
        {
         "metadata": "{}",
         "name": "ASSISTMED",
         "type": "\"string\""
        },
        {
         "metadata": "{}",
         "name": "ESCMAE",
         "type": "\"string\""
        },
        {
         "metadata": "{}",
         "name": "ESTCIV",
         "type": "\"string\""
        },
        {
         "metadata": "{}",
         "name": "ESC",
         "type": "\"string\""
        },
        {
         "metadata": "{}",
         "name": "OCUP",
         "type": "\"string\""
        },
        {
         "metadata": "{}",
         "name": "CODMUNRES",
         "type": "\"string\""
        },
        {
         "metadata": "{}",
         "name": "CAUSABAS",
         "type": "\"string\""
        },
        {
         "metadata": "{}",
         "name": "CAUSABAS_O",
         "type": "\"string\""
        },
        {
         "metadata": "{}",
         "name": "LOCOCOR",
         "type": "\"string\""
        },
        {
         "metadata": "{}",
         "name": "CIRURGIA",
         "type": "\"string\""
        }
       ],
       "type": "table"
      }
     },
     "output_type": "display_data"
    }
   ],
   "source": [
    "# Exibição dos primeiros registros do DataFrame\n",
    "df_suicidios.limit(5).display()"
   ]
  },
  {
   "cell_type": "code",
   "execution_count": 0,
   "metadata": {
    "application/vnd.databricks.v1+cell": {
     "cellMetadata": {
      "byteLimit": 2048000,
      "rowLimit": 10000
     },
     "inputWidgets": {},
     "nuid": "e30883be-9d65-47fe-b772-77756e6c17bf",
     "showTitle": true,
     "tableResultSettingsMap": {},
     "title": "Amostra de dados - conjunto auxiliar (registros de CIDs)"
    }
   },
   "outputs": [
    {
     "output_type": "display_data",
     "data": {
      "text/html": [
       "<style scoped>\n",
       "  .table-result-container {\n",
       "    max-height: 300px;\n",
       "    overflow: auto;\n",
       "  }\n",
       "  table, th, td {\n",
       "    border: 1px solid black;\n",
       "    border-collapse: collapse;\n",
       "  }\n",
       "  th, td {\n",
       "    padding: 5px;\n",
       "  }\n",
       "  th {\n",
       "    text-align: left;\n",
       "  }\n",
       "</style><div class='table-result-container'><table class='table-result'><thead style='background-color: white'><tr><th>SUBCAT</th><th>CLASSIF</th><th>RESTRSEXO</th><th>CAUSAOBITO</th><th>DESCRICAO</th><th>DESCRABREV</th><th>REFER</th><th>EXCLUIDOS</th><th>_c8</th></tr></thead><tbody><tr><td>A000</td><td>null</td><td>null</td><td>null</td><td>Cólera devida a Vibrio cholerae 01, biótipo cholerae</td><td>A00.0 Colera dev Vibrio cholerae 01 biot cholerae</td><td>null</td><td>null</td><td>null</td></tr><tr><td>A001</td><td>null</td><td>null</td><td>null</td><td>Cólera devida a Vibrio cholerae 01, biótipo El Tor</td><td>A00.1 Colera dev Vibrio cholerae 01 biot El Tor</td><td>null</td><td>null</td><td>null</td></tr><tr><td>A009</td><td>null</td><td>null</td><td>null</td><td>Cólera não especificada</td><td>A00.9 Colera NE</td><td>null</td><td>null</td><td>null</td></tr><tr><td>A010</td><td>null</td><td>null</td><td>null</td><td>Febre tifóide</td><td>A01.0 Febre tifoide</td><td>null</td><td>null</td><td>null</td></tr><tr><td>A011</td><td>null</td><td>null</td><td>null</td><td>Febre paratifóide A</td><td>A01.1 Febre paratifoide A</td><td>null</td><td>null</td><td>null</td></tr></tbody></table></div>"
      ]
     },
     "metadata": {
      "application/vnd.databricks.v1+output": {
       "addedWidgets": {},
       "aggData": [],
       "aggError": "",
       "aggOverflow": false,
       "aggSchema": [],
       "aggSeriesLimitReached": false,
       "aggType": "",
       "arguments": {},
       "columnCustomDisplayInfos": {},
       "data": [
        [
         "A000",
         null,
         null,
         null,
         "Cólera devida a Vibrio cholerae 01, biótipo cholerae",
         "A00.0 Colera dev Vibrio cholerae 01 biot cholerae",
         null,
         null,
         null
        ],
        [
         "A001",
         null,
         null,
         null,
         "Cólera devida a Vibrio cholerae 01, biótipo El Tor",
         "A00.1 Colera dev Vibrio cholerae 01 biot El Tor",
         null,
         null,
         null
        ],
        [
         "A009",
         null,
         null,
         null,
         "Cólera não especificada",
         "A00.9 Colera NE",
         null,
         null,
         null
        ],
        [
         "A010",
         null,
         null,
         null,
         "Febre tifóide",
         "A01.0 Febre tifoide",
         null,
         null,
         null
        ],
        [
         "A011",
         null,
         null,
         null,
         "Febre paratifóide A",
         "A01.1 Febre paratifoide A",
         null,
         null,
         null
        ]
       ],
       "datasetInfos": [],
       "dbfsResultPath": null,
       "isJsonSchema": true,
       "metadata": {},
       "overflow": false,
       "plotOptions": {
        "customPlotOptions": {},
        "displayType": "table",
        "pivotAggregation": null,
        "pivotColumns": null,
        "xColumns": null,
        "yColumns": null
       },
       "removedWidgets": [],
       "schema": [
        {
         "metadata": "{}",
         "name": "SUBCAT",
         "type": "\"string\""
        },
        {
         "metadata": "{}",
         "name": "CLASSIF",
         "type": "\"string\""
        },
        {
         "metadata": "{}",
         "name": "RESTRSEXO",
         "type": "\"string\""
        },
        {
         "metadata": "{}",
         "name": "CAUSAOBITO",
         "type": "\"string\""
        },
        {
         "metadata": "{}",
         "name": "DESCRICAO",
         "type": "\"string\""
        },
        {
         "metadata": "{}",
         "name": "DESCRABREV",
         "type": "\"string\""
        },
        {
         "metadata": "{}",
         "name": "REFER",
         "type": "\"string\""
        },
        {
         "metadata": "{}",
         "name": "EXCLUIDOS",
         "type": "\"string\""
        },
        {
         "metadata": "{}",
         "name": "_c8",
         "type": "\"string\""
        }
       ],
       "type": "table"
      }
     },
     "output_type": "display_data"
    }
   ],
   "source": [
    "# Exibição dos primeiros registros do DataFrame\n",
    "df_cids.limit(5).display()"
   ]
  },
  {
   "cell_type": "markdown",
   "metadata": {
    "application/vnd.databricks.v1+cell": {
     "cellMetadata": {
      "byteLimit": 2048000,
      "rowLimit": 10000
     },
     "inputWidgets": {},
     "nuid": "a44b2912-3503-464c-89ca-bfa446dfdea2",
     "showTitle": false,
     "tableResultSettingsMap": {},
     "title": ""
    }
   },
   "source": [
    "## Carga dos dados\n",
    "\n",
    "Nesta sessão serão criadas 3 camadas de dados, sendo elas:\n",
    "\n",
    "- _suicidios_br_bronze_\n",
    "    - apresenta os dados no formato 'raw': são cópias idênticas das informações capturadas nas respectivas origens\n",
    "- _suicidios_br_silver_\n",
    "    - apresenta os dados tratados e refinados\n",
    "- _suicidios_br_gold_\n",
    "    - apresenta os dados curados: modelados para atender às necessidades de negócio"
   ]
  },
  {
   "cell_type": "code",
   "execution_count": 0,
   "metadata": {
    "application/vnd.databricks.v1+cell": {
     "cellMetadata": {
      "byteLimit": 2048000,
      "implicitDf": true,
      "rowLimit": 10000
     },
     "inputWidgets": {},
     "nuid": "da0e495f-a368-4ccc-a82c-910272e75dad",
     "showTitle": true,
     "tableResultSettingsMap": {},
     "title": "Criação dos Databases"
    }
   },
   "outputs": [
    {
     "output_type": "display_data",
     "data": {
      "text/html": [
       "<style scoped>\n",
       "  .table-result-container {\n",
       "    max-height: 300px;\n",
       "    overflow: auto;\n",
       "  }\n",
       "  table, th, td {\n",
       "    border: 1px solid black;\n",
       "    border-collapse: collapse;\n",
       "  }\n",
       "  th, td {\n",
       "    padding: 5px;\n",
       "  }\n",
       "  th {\n",
       "    text-align: left;\n",
       "  }\n",
       "</style><div class='table-result-container'><table class='table-result'><thead style='background-color: white'><tr></tr></thead><tbody></tbody></table></div>"
      ]
     },
     "metadata": {
      "application/vnd.databricks.v1+output": {
       "addedWidgets": {},
       "aggData": [],
       "aggError": "",
       "aggOverflow": false,
       "aggSchema": [],
       "aggSeriesLimitReached": false,
       "aggType": "",
       "arguments": {},
       "columnCustomDisplayInfos": {},
       "data": [],
       "datasetInfos": [],
       "dbfsResultPath": null,
       "isJsonSchema": true,
       "metadata": {},
       "overflow": false,
       "plotOptions": {
        "customPlotOptions": {},
        "displayType": "table",
        "pivotAggregation": null,
        "pivotColumns": null,
        "xColumns": null,
        "yColumns": null
       },
       "removedWidgets": [],
       "schema": [],
       "type": "table"
      }
     },
     "output_type": "display_data"
    }
   ],
   "source": [
    "%sql\n",
    "-- Criando a instância de banco de dados\n",
    "DROP DATABASE suicidios_br_bronze CASCADE;\n",
    "CREATE DATABASE suicidios_br_bronze;\n",
    "\n",
    "DROP DATABASE suicidios_br_silver CASCADE;\n",
    "CREATE DATABASE suicidios_br_silver;\n",
    "\n",
    "DROP DATABASE suicidios_br_gold CASCADE;\n",
    "CREATE DATABASE suicidios_br_gold;"
   ]
  },
  {
   "cell_type": "markdown",
   "metadata": {
    "application/vnd.databricks.v1+cell": {
     "cellMetadata": {
      "byteLimit": 2048000,
      "rowLimit": 10000
     },
     "inputWidgets": {},
     "nuid": "8315519c-93b3-462b-b255-9c2d4efa241d",
     "showTitle": false,
     "tableResultSettingsMap": {},
     "title": ""
    }
   },
   "source": [
    "###Carregando dados na camada bronze (raw)"
   ]
  },
  {
   "cell_type": "code",
   "execution_count": 0,
   "metadata": {
    "application/vnd.databricks.v1+cell": {
     "cellMetadata": {
      "byteLimit": 2048000,
      "implicitDf": true,
      "rowLimit": 10000
     },
     "inputWidgets": {},
     "nuid": "b3ff1ae0-164b-49ce-8efe-7e48b17adb67",
     "showTitle": true,
     "tableResultSettingsMap": {},
     "title": "Trabalhando com a camada bronze"
    }
   },
   "outputs": [
    {
     "output_type": "display_data",
     "data": {
      "text/html": [
       "<style scoped>\n",
       "  .table-result-container {\n",
       "    max-height: 300px;\n",
       "    overflow: auto;\n",
       "  }\n",
       "  table, th, td {\n",
       "    border: 1px solid black;\n",
       "    border-collapse: collapse;\n",
       "  }\n",
       "  th, td {\n",
       "    padding: 5px;\n",
       "  }\n",
       "  th {\n",
       "    text-align: left;\n",
       "  }\n",
       "</style><div class='table-result-container'><table class='table-result'><thead style='background-color: white'><tr></tr></thead><tbody></tbody></table></div>"
      ]
     },
     "metadata": {
      "application/vnd.databricks.v1+output": {
       "addedWidgets": {},
       "aggData": [],
       "aggError": "",
       "aggOverflow": false,
       "aggSchema": [],
       "aggSeriesLimitReached": false,
       "aggType": "",
       "arguments": {},
       "columnCustomDisplayInfos": {},
       "data": [],
       "datasetInfos": [],
       "dbfsResultPath": null,
       "isJsonSchema": true,
       "metadata": {},
       "overflow": false,
       "plotOptions": {
        "customPlotOptions": {},
        "displayType": "table",
        "pivotAggregation": null,
        "pivotColumns": null,
        "xColumns": null,
        "yColumns": null
       },
       "removedWidgets": [],
       "schema": [],
       "type": "table"
      }
     },
     "output_type": "display_data"
    }
   ],
   "source": [
    "%sql\n",
    "USE DATABASE suicidios_br_bronze;"
   ]
  },
  {
   "cell_type": "code",
   "execution_count": 0,
   "metadata": {
    "application/vnd.databricks.v1+cell": {
     "cellMetadata": {
      "byteLimit": 2048000,
      "implicitDf": true,
      "rowLimit": 10000
     },
     "inputWidgets": {},
     "nuid": "2b431c5d-c13c-4643-b01f-b516c3806e04",
     "showTitle": true,
     "tableResultSettingsMap": {},
     "title": "Carregando dados na camada bronze"
    }
   },
   "outputs": [],
   "source": [
    "# Salvando o DataFrame como uma tabela\n",
    "df_suicidios.write.mode(\"overwrite\").saveAsTable(\"ocorrencias\")\n",
    "df_cids.write.mode(\"overwrite\").option(\"overwriteSchema\", \"true\").saveAsTable(\"diagnosticos\")"
   ]
  },
  {
   "cell_type": "code",
   "execution_count": 0,
   "metadata": {
    "application/vnd.databricks.v1+cell": {
     "cellMetadata": {
      "byteLimit": 2048000,
      "implicitDf": true,
      "rowLimit": 10000
     },
     "inputWidgets": {},
     "nuid": "b83f7624-76f4-4322-af78-833c59dceb97",
     "showTitle": true,
     "tableResultSettingsMap": {},
     "title": "Amostra de Dados na Camada Bronze - Ocorrências de Suicídios"
    }
   },
   "outputs": [
    {
     "output_type": "display_data",
     "data": {
      "text/html": [
       "<style scoped>\n",
       "  .table-result-container {\n",
       "    max-height: 300px;\n",
       "    overflow: auto;\n",
       "  }\n",
       "  table, th, td {\n",
       "    border: 1px solid black;\n",
       "    border-collapse: collapse;\n",
       "  }\n",
       "  th, td {\n",
       "    padding: 5px;\n",
       "  }\n",
       "  th {\n",
       "    text-align: left;\n",
       "  }\n",
       "</style><div class='table-result-container'><table class='table-result'><thead style='background-color: white'><tr><th>_c0</th><th>estado</th><th>ano</th><th>mes</th><th>DTOBITO</th><th>DTNASC</th><th>SEXO</th><th>RACACOR</th><th>ASSISTMED</th><th>ESCMAE</th><th>ESTCIV</th><th>ESC</th><th>OCUP</th><th>CODMUNRES</th><th>CAUSABAS</th><th>CAUSABAS_O</th><th>LOCOCOR</th><th>CIRURGIA</th></tr></thead><tbody><tr><td>1</td><td>AC</td><td>2010</td><td>1</td><td>2010-01-31</td><td>1999-11-09</td><td>Masculino</td><td>Parda</td><td>NA</td><td>NA</td><td>Solteiro/a</td><td>1 a 3 anos</td><td>ESTUDANTE</td><td>Tarauacá</td><td>X780</td><td>X780</td><td>Via pública</td><td>Não</td></tr><tr><td>2</td><td>AC</td><td>2010</td><td>2</td><td>2010-02-07</td><td>1985-09-23</td><td>Masculino</td><td>Parda</td><td>NA</td><td>NA</td><td>Solteiro/a</td><td>1 a 3 anos</td><td>ESTUDANTE</td><td>Tarauacá</td><td>X780</td><td>X780</td><td>Hospital</td><td>Não</td></tr><tr><td>3</td><td>AC</td><td>2010</td><td>2</td><td>2010-02-19</td><td>1995-08-06</td><td>Masculino</td><td>Parda</td><td>NA</td><td>NA</td><td>Solteiro/a</td><td>1 a 3 anos</td><td>ESTUDANTE</td><td>Tarauacá</td><td>X780</td><td>X780</td><td>Hospital</td><td>Não</td></tr><tr><td>4</td><td>AC</td><td>2010</td><td>4</td><td>2010-04-20</td><td>1983-12-25</td><td>Feminino</td><td>Parda</td><td>NA</td><td>NA</td><td>Casado/a</td><td>1 a 3 anos</td><td>DONA DE CASA</td><td>Tarauacá</td><td>X780</td><td>X780</td><td>Domicílio</td><td>Não</td></tr><tr><td>5</td><td>AC</td><td>2010</td><td>7</td><td>2010-07-24</td><td>1982-05-13</td><td>Masculino</td><td>Parda</td><td>NA</td><td>NA</td><td>Casado/a</td><td>NA</td><td>DONA DE CASA</td><td>Tarauacá</td><td>X720</td><td>X720</td><td>Domicílio</td><td>Não</td></tr><tr><td>6</td><td>AC</td><td>2010</td><td>4</td><td>2010-04-30</td><td>1967-07-13</td><td>Feminino</td><td>Preta</td><td>NA</td><td>NA</td><td>Solteiro/a</td><td>4 a 7 anos</td><td>DONA DE CASA</td><td>Tarauacá</td><td>X780</td><td>X780</td><td>Hospital</td><td>Não</td></tr><tr><td>7</td><td>AC</td><td>2010</td><td>1</td><td>2010-01-15</td><td>1979-09-05</td><td>Masculino</td><td>Parda</td><td>NA</td><td>NA</td><td>Solteiro/a</td><td>4 a 7 anos</td><td>NA</td><td>Rio Branco</td><td>X700</td><td>X700</td><td>Domicílio</td><td>Não</td></tr><tr><td>8</td><td>AC</td><td>2010</td><td>1</td><td>2010-01-16</td><td>1994-01-19</td><td>Masculino</td><td>Parda</td><td>NA</td><td>NA</td><td>Solteiro/a</td><td>NA</td><td>NA</td><td>Rio Branco</td><td>X700</td><td>X700</td><td>Domicílio</td><td>Não</td></tr><tr><td>9</td><td>AC</td><td>2010</td><td>9</td><td>2010-09-15</td><td>1952-04-14</td><td>Masculino</td><td>Parda</td><td>NA</td><td>NA</td><td>Solteiro/a</td><td>NA</td><td>NA</td><td>Rio Branco</td><td>X629</td><td>R99</td><td>Domicílio</td><td>NA</td></tr><tr><td>10</td><td>AC</td><td>2010</td><td>9</td><td>2010-09-03</td><td>1968-08-14</td><td>Masculino</td><td>Parda</td><td>NA</td><td>NA</td><td>Solteiro/a</td><td>NA</td><td>NA</td><td>Epitaciolândia</td><td>X747</td><td>X747</td><td>Domicílio</td><td>Não</td></tr></tbody></table></div>"
      ]
     },
     "metadata": {
      "application/vnd.databricks.v1+output": {
       "addedWidgets": {},
       "aggData": [],
       "aggError": "",
       "aggOverflow": false,
       "aggSchema": [],
       "aggSeriesLimitReached": false,
       "aggType": "",
       "arguments": {},
       "columnCustomDisplayInfos": {},
       "data": [
        [
         1,
         "AC",
         2010,
         1,
         "2010-01-31",
         "1999-11-09",
         "Masculino",
         "Parda",
         "NA",
         "NA",
         "Solteiro/a",
         "1 a 3 anos",
         "ESTUDANTE",
         "Tarauacá",
         "X780",
         "X780",
         "Via pública",
         "Não"
        ],
        [
         2,
         "AC",
         2010,
         2,
         "2010-02-07",
         "1985-09-23",
         "Masculino",
         "Parda",
         "NA",
         "NA",
         "Solteiro/a",
         "1 a 3 anos",
         "ESTUDANTE",
         "Tarauacá",
         "X780",
         "X780",
         "Hospital",
         "Não"
        ],
        [
         3,
         "AC",
         2010,
         2,
         "2010-02-19",
         "1995-08-06",
         "Masculino",
         "Parda",
         "NA",
         "NA",
         "Solteiro/a",
         "1 a 3 anos",
         "ESTUDANTE",
         "Tarauacá",
         "X780",
         "X780",
         "Hospital",
         "Não"
        ],
        [
         4,
         "AC",
         2010,
         4,
         "2010-04-20",
         "1983-12-25",
         "Feminino",
         "Parda",
         "NA",
         "NA",
         "Casado/a",
         "1 a 3 anos",
         "DONA DE CASA",
         "Tarauacá",
         "X780",
         "X780",
         "Domicílio",
         "Não"
        ],
        [
         5,
         "AC",
         2010,
         7,
         "2010-07-24",
         "1982-05-13",
         "Masculino",
         "Parda",
         "NA",
         "NA",
         "Casado/a",
         "NA",
         "DONA DE CASA",
         "Tarauacá",
         "X720",
         "X720",
         "Domicílio",
         "Não"
        ],
        [
         6,
         "AC",
         2010,
         4,
         "2010-04-30",
         "1967-07-13",
         "Feminino",
         "Preta",
         "NA",
         "NA",
         "Solteiro/a",
         "4 a 7 anos",
         "DONA DE CASA",
         "Tarauacá",
         "X780",
         "X780",
         "Hospital",
         "Não"
        ],
        [
         7,
         "AC",
         2010,
         1,
         "2010-01-15",
         "1979-09-05",
         "Masculino",
         "Parda",
         "NA",
         "NA",
         "Solteiro/a",
         "4 a 7 anos",
         "NA",
         "Rio Branco",
         "X700",
         "X700",
         "Domicílio",
         "Não"
        ],
        [
         8,
         "AC",
         2010,
         1,
         "2010-01-16",
         "1994-01-19",
         "Masculino",
         "Parda",
         "NA",
         "NA",
         "Solteiro/a",
         "NA",
         "NA",
         "Rio Branco",
         "X700",
         "X700",
         "Domicílio",
         "Não"
        ],
        [
         9,
         "AC",
         2010,
         9,
         "2010-09-15",
         "1952-04-14",
         "Masculino",
         "Parda",
         "NA",
         "NA",
         "Solteiro/a",
         "NA",
         "NA",
         "Rio Branco",
         "X629",
         "R99",
         "Domicílio",
         "NA"
        ],
        [
         10,
         "AC",
         2010,
         9,
         "2010-09-03",
         "1968-08-14",
         "Masculino",
         "Parda",
         "NA",
         "NA",
         "Solteiro/a",
         "NA",
         "NA",
         "Epitaciolândia",
         "X747",
         "X747",
         "Domicílio",
         "Não"
        ]
       ],
       "datasetInfos": [],
       "dbfsResultPath": null,
       "isJsonSchema": true,
       "metadata": {},
       "overflow": false,
       "plotOptions": {
        "customPlotOptions": {},
        "displayType": "table",
        "pivotAggregation": null,
        "pivotColumns": null,
        "xColumns": null,
        "yColumns": null
       },
       "removedWidgets": [],
       "schema": [
        {
         "metadata": "{}",
         "name": "_c0",
         "type": "\"integer\""
        },
        {
         "metadata": "{}",
         "name": "estado",
         "type": "\"string\""
        },
        {
         "metadata": "{}",
         "name": "ano",
         "type": "\"integer\""
        },
        {
         "metadata": "{}",
         "name": "mes",
         "type": "\"integer\""
        },
        {
         "metadata": "{\"__detected_date_formats\":\"yyyy-M-d\"}",
         "name": "DTOBITO",
         "type": "\"date\""
        },
        {
         "metadata": "{}",
         "name": "DTNASC",
         "type": "\"string\""
        },
        {
         "metadata": "{}",
         "name": "SEXO",
         "type": "\"string\""
        },
        {
         "metadata": "{}",
         "name": "RACACOR",
         "type": "\"string\""
        },
        {
         "metadata": "{}",
         "name": "ASSISTMED",
         "type": "\"string\""
        },
        {
         "metadata": "{}",
         "name": "ESCMAE",
         "type": "\"string\""
        },
        {
         "metadata": "{}",
         "name": "ESTCIV",
         "type": "\"string\""
        },
        {
         "metadata": "{}",
         "name": "ESC",
         "type": "\"string\""
        },
        {
         "metadata": "{}",
         "name": "OCUP",
         "type": "\"string\""
        },
        {
         "metadata": "{}",
         "name": "CODMUNRES",
         "type": "\"string\""
        },
        {
         "metadata": "{}",
         "name": "CAUSABAS",
         "type": "\"string\""
        },
        {
         "metadata": "{}",
         "name": "CAUSABAS_O",
         "type": "\"string\""
        },
        {
         "metadata": "{}",
         "name": "LOCOCOR",
         "type": "\"string\""
        },
        {
         "metadata": "{}",
         "name": "CIRURGIA",
         "type": "\"string\""
        }
       ],
       "type": "table"
      }
     },
     "output_type": "display_data"
    }
   ],
   "source": [
    "%sql\n",
    "SELECT * FROM ocorrencias LIMIT 10;"
   ]
  },
  {
   "cell_type": "code",
   "execution_count": 0,
   "metadata": {
    "application/vnd.databricks.v1+cell": {
     "cellMetadata": {
      "byteLimit": 2048000,
      "implicitDf": true,
      "rowLimit": 10000
     },
     "inputWidgets": {},
     "nuid": "ed20c861-652f-4634-8b26-200a04f5a20d",
     "showTitle": true,
     "tableResultSettingsMap": {},
     "title": "Amostra de Dados na Camada Bronze - Descrição dos Diagnósticos"
    }
   },
   "outputs": [
    {
     "output_type": "display_data",
     "data": {
      "text/html": [
       "<style scoped>\n",
       "  .table-result-container {\n",
       "    max-height: 300px;\n",
       "    overflow: auto;\n",
       "  }\n",
       "  table, th, td {\n",
       "    border: 1px solid black;\n",
       "    border-collapse: collapse;\n",
       "  }\n",
       "  th, td {\n",
       "    padding: 5px;\n",
       "  }\n",
       "  th {\n",
       "    text-align: left;\n",
       "  }\n",
       "</style><div class='table-result-container'><table class='table-result'><thead style='background-color: white'><tr><th>SUBCAT</th><th>CLASSIF</th><th>RESTRSEXO</th><th>CAUSAOBITO</th><th>DESCRICAO</th><th>DESCRABREV</th><th>REFER</th><th>EXCLUIDOS</th><th>_c8</th></tr></thead><tbody><tr><td>A000</td><td>null</td><td>null</td><td>null</td><td>Cólera devida a Vibrio cholerae 01, biótipo cholerae</td><td>A00.0 Colera dev Vibrio cholerae 01 biot cholerae</td><td>null</td><td>null</td><td>null</td></tr><tr><td>A001</td><td>null</td><td>null</td><td>null</td><td>Cólera devida a Vibrio cholerae 01, biótipo El Tor</td><td>A00.1 Colera dev Vibrio cholerae 01 biot El Tor</td><td>null</td><td>null</td><td>null</td></tr><tr><td>A009</td><td>null</td><td>null</td><td>null</td><td>Cólera não especificada</td><td>A00.9 Colera NE</td><td>null</td><td>null</td><td>null</td></tr><tr><td>A010</td><td>null</td><td>null</td><td>null</td><td>Febre tifóide</td><td>A01.0 Febre tifoide</td><td>null</td><td>null</td><td>null</td></tr><tr><td>A011</td><td>null</td><td>null</td><td>null</td><td>Febre paratifóide A</td><td>A01.1 Febre paratifoide A</td><td>null</td><td>null</td><td>null</td></tr><tr><td>A012</td><td>null</td><td>null</td><td>null</td><td>Febre paratifóide B</td><td>A01.2 Febre paratifoide B</td><td>null</td><td>null</td><td>null</td></tr><tr><td>A013</td><td>null</td><td>null</td><td>null</td><td>Febre paratifóide C</td><td>A01.3 Febre paratifoide C</td><td>null</td><td>null</td><td>null</td></tr><tr><td>A014</td><td>null</td><td>null</td><td>null</td><td>Febre paratifóide não especificada</td><td>A01.4 Febre paratifoide NE</td><td>null</td><td>null</td><td>null</td></tr><tr><td>A020</td><td>null</td><td>null</td><td>null</td><td>Enterite por salmonela</td><td>A02.0 Enterite p/salmonela</td><td>null</td><td>null</td><td>null</td></tr><tr><td>A021</td><td>null</td><td>null</td><td>null</td><td>Septicemia por salmonela</td><td>A02.1 Septicemia p/salmonela</td><td>null</td><td>null</td><td>null</td></tr></tbody></table></div>"
      ]
     },
     "metadata": {
      "application/vnd.databricks.v1+output": {
       "addedWidgets": {},
       "aggData": [],
       "aggError": "",
       "aggOverflow": false,
       "aggSchema": [],
       "aggSeriesLimitReached": false,
       "aggType": "",
       "arguments": {},
       "columnCustomDisplayInfos": {},
       "data": [
        [
         "A000",
         null,
         null,
         null,
         "Cólera devida a Vibrio cholerae 01, biótipo cholerae",
         "A00.0 Colera dev Vibrio cholerae 01 biot cholerae",
         null,
         null,
         null
        ],
        [
         "A001",
         null,
         null,
         null,
         "Cólera devida a Vibrio cholerae 01, biótipo El Tor",
         "A00.1 Colera dev Vibrio cholerae 01 biot El Tor",
         null,
         null,
         null
        ],
        [
         "A009",
         null,
         null,
         null,
         "Cólera não especificada",
         "A00.9 Colera NE",
         null,
         null,
         null
        ],
        [
         "A010",
         null,
         null,
         null,
         "Febre tifóide",
         "A01.0 Febre tifoide",
         null,
         null,
         null
        ],
        [
         "A011",
         null,
         null,
         null,
         "Febre paratifóide A",
         "A01.1 Febre paratifoide A",
         null,
         null,
         null
        ],
        [
         "A012",
         null,
         null,
         null,
         "Febre paratifóide B",
         "A01.2 Febre paratifoide B",
         null,
         null,
         null
        ],
        [
         "A013",
         null,
         null,
         null,
         "Febre paratifóide C",
         "A01.3 Febre paratifoide C",
         null,
         null,
         null
        ],
        [
         "A014",
         null,
         null,
         null,
         "Febre paratifóide não especificada",
         "A01.4 Febre paratifoide NE",
         null,
         null,
         null
        ],
        [
         "A020",
         null,
         null,
         null,
         "Enterite por salmonela",
         "A02.0 Enterite p/salmonela",
         null,
         null,
         null
        ],
        [
         "A021",
         null,
         null,
         null,
         "Septicemia por salmonela",
         "A02.1 Septicemia p/salmonela",
         null,
         null,
         null
        ]
       ],
       "datasetInfos": [],
       "dbfsResultPath": null,
       "isJsonSchema": true,
       "metadata": {},
       "overflow": false,
       "plotOptions": {
        "customPlotOptions": {},
        "displayType": "table",
        "pivotAggregation": null,
        "pivotColumns": null,
        "xColumns": null,
        "yColumns": null
       },
       "removedWidgets": [],
       "schema": [
        {
         "metadata": "{}",
         "name": "SUBCAT",
         "type": "\"string\""
        },
        {
         "metadata": "{}",
         "name": "CLASSIF",
         "type": "\"string\""
        },
        {
         "metadata": "{}",
         "name": "RESTRSEXO",
         "type": "\"string\""
        },
        {
         "metadata": "{}",
         "name": "CAUSAOBITO",
         "type": "\"string\""
        },
        {
         "metadata": "{}",
         "name": "DESCRICAO",
         "type": "\"string\""
        },
        {
         "metadata": "{}",
         "name": "DESCRABREV",
         "type": "\"string\""
        },
        {
         "metadata": "{}",
         "name": "REFER",
         "type": "\"string\""
        },
        {
         "metadata": "{}",
         "name": "EXCLUIDOS",
         "type": "\"string\""
        },
        {
         "metadata": "{}",
         "name": "_c8",
         "type": "\"string\""
        }
       ],
       "type": "table"
      }
     },
     "output_type": "display_data"
    }
   ],
   "source": [
    "%sql\n",
    "SELECT * FROM diagnosticos LIMIT 10"
   ]
  },
  {
   "cell_type": "markdown",
   "metadata": {
    "application/vnd.databricks.v1+cell": {
     "cellMetadata": {
      "byteLimit": 2048000,
      "rowLimit": 10000
     },
     "inputWidgets": {},
     "nuid": "3d6544f8-c2d3-474f-8e35-7ddfe718d615",
     "showTitle": false,
     "tableResultSettingsMap": {},
     "title": ""
    }
   },
   "source": [
    "###Data Quality\n",
    "\n",
    "Nesta seção realizaremos uma análise da qualidade dos dados a fim de identificar potenciais problemas nos conjuntos de dados.\n",
    "\n",
    "Caso sejam encontrados problemas, serão apresentados os tratamentos necessários antes da respectiva carga na camada silver."
   ]
  },
  {
   "cell_type": "markdown",
   "metadata": {
    "application/vnd.databricks.v1+cell": {
     "cellMetadata": {
      "byteLimit": 2048000,
      "rowLimit": 10000
     },
     "inputWidgets": {},
     "nuid": "8ce9eab1-9d5a-4f11-a0e7-b008a5a7bde7",
     "showTitle": false,
     "tableResultSettingsMap": {},
     "title": ""
    }
   },
   "source": [
    "#### Análise de dados nulos/faltantes"
   ]
  },
  {
   "cell_type": "code",
   "execution_count": 0,
   "metadata": {
    "application/vnd.databricks.v1+cell": {
     "cellMetadata": {
      "byteLimit": 2048000,
      "implicitDf": true,
      "rowLimit": 10000
     },
     "inputWidgets": {},
     "nuid": "904f3292-1173-458c-9d9d-097e5a6692fb",
     "showTitle": true,
     "tableResultSettingsMap": {},
     "title": "Identificando a quantidade de dados nulos na tabela de Ocorrências de Suicidios"
    }
   },
   "outputs": [
    {
     "output_type": "display_data",
     "data": {
      "text/html": [
       "<style scoped>\n",
       "  .table-result-container {\n",
       "    max-height: 300px;\n",
       "    overflow: auto;\n",
       "  }\n",
       "  table, th, td {\n",
       "    border: 1px solid black;\n",
       "    border-collapse: collapse;\n",
       "  }\n",
       "  th, td {\n",
       "    padding: 5px;\n",
       "  }\n",
       "  th {\n",
       "    text-align: left;\n",
       "  }\n",
       "</style><div class='table-result-container'><table class='table-result'><thead style='background-color: white'><tr><th>total_linhas</th><th>c0_nulos</th><th>estado_nulos</th><th>ano_nulos</th><th>mes_nulos</th><th>dt_obito_nulos</th><th>dt_nasc_nulos</th><th>sexo_nulos</th><th>racacor_nulos</th><th>assistmed_nulos</th><th>escmae_nulos</th><th>estciv_nulos</th><th>esc_nulos</th><th>ocup_nulos</th><th>codmunres_nulos</th><th>causabas_nulos</th><th>causabas_o_nulos</th><th>lococor_nulos</th><th>cirurgia_nulos</th></tr></thead><tbody><tr><td>112491</td><td>0</td><td>0</td><td>0</td><td>0</td><td>0</td><td>10858</td><td>22</td><td>3171</td><td>41804</td><td>112476</td><td>8700</td><td>28164</td><td>52217</td><td>0</td><td>0</td><td>287</td><td>460</td><td>103942</td></tr></tbody></table></div>"
      ]
     },
     "metadata": {
      "application/vnd.databricks.v1+output": {
       "addedWidgets": {},
       "aggData": [],
       "aggError": "",
       "aggOverflow": false,
       "aggSchema": [],
       "aggSeriesLimitReached": false,
       "aggType": "",
       "arguments": {},
       "columnCustomDisplayInfos": {},
       "data": [
        [
         112491,
         0,
         0,
         0,
         0,
         0,
         10858,
         22,
         3171,
         41804,
         112476,
         8700,
         28164,
         52217,
         0,
         0,
         287,
         460,
         103942
        ]
       ],
       "datasetInfos": [],
       "dbfsResultPath": null,
       "isJsonSchema": true,
       "metadata": {},
       "overflow": false,
       "plotOptions": {
        "customPlotOptions": {},
        "displayType": "table",
        "pivotAggregation": null,
        "pivotColumns": null,
        "xColumns": null,
        "yColumns": null
       },
       "removedWidgets": [],
       "schema": [
        {
         "metadata": "{}",
         "name": "total_linhas",
         "type": "\"long\""
        },
        {
         "metadata": "{}",
         "name": "c0_nulos",
         "type": "\"long\""
        },
        {
         "metadata": "{}",
         "name": "estado_nulos",
         "type": "\"long\""
        },
        {
         "metadata": "{}",
         "name": "ano_nulos",
         "type": "\"long\""
        },
        {
         "metadata": "{}",
         "name": "mes_nulos",
         "type": "\"long\""
        },
        {
         "metadata": "{}",
         "name": "dt_obito_nulos",
         "type": "\"long\""
        },
        {
         "metadata": "{}",
         "name": "dt_nasc_nulos",
         "type": "\"long\""
        },
        {
         "metadata": "{}",
         "name": "sexo_nulos",
         "type": "\"long\""
        },
        {
         "metadata": "{}",
         "name": "racacor_nulos",
         "type": "\"long\""
        },
        {
         "metadata": "{}",
         "name": "assistmed_nulos",
         "type": "\"long\""
        },
        {
         "metadata": "{}",
         "name": "escmae_nulos",
         "type": "\"long\""
        },
        {
         "metadata": "{}",
         "name": "estciv_nulos",
         "type": "\"long\""
        },
        {
         "metadata": "{}",
         "name": "esc_nulos",
         "type": "\"long\""
        },
        {
         "metadata": "{}",
         "name": "ocup_nulos",
         "type": "\"long\""
        },
        {
         "metadata": "{}",
         "name": "codmunres_nulos",
         "type": "\"long\""
        },
        {
         "metadata": "{}",
         "name": "causabas_nulos",
         "type": "\"long\""
        },
        {
         "metadata": "{}",
         "name": "causabas_o_nulos",
         "type": "\"long\""
        },
        {
         "metadata": "{}",
         "name": "lococor_nulos",
         "type": "\"long\""
        },
        {
         "metadata": "{}",
         "name": "cirurgia_nulos",
         "type": "\"long\""
        }
       ],
       "type": "table"
      }
     },
     "output_type": "display_data"
    }
   ],
   "source": [
    "%sql\n",
    "SELECT \n",
    "  COUNT(*) AS total_linhas,\n",
    "  COUNT(CASE WHEN (_c0 IS NULL or _c0 = 'NA') THEN 1 END) AS c0_nulos,\n",
    "  COUNT(CASE WHEN (estado IS NULL or estado = 'NA') THEN 1 END) AS estado_nulos,\n",
    "  COUNT(CASE WHEN (ano IS NULL or ano = 'NA') THEN 1 END) AS ano_nulos,\n",
    "  COUNT(CASE WHEN (mes IS NULL or mes = 'NA') THEN 1 END) AS mes_nulos,\n",
    "  COUNT(CASE WHEN (dtobito IS NULL or dtobito = 'NA') THEN 1 END) AS dt_obito_nulos,\n",
    "  COUNT(CASE WHEN (dtnasc IS NULL or dtnasc = 'NA') THEN 1 END) AS dt_nasc_nulos,\n",
    "  COUNT(CASE WHEN (sexo IS NULL or sexo = 'NA') THEN 1 END) AS sexo_nulos,\n",
    "  COUNT(CASE WHEN (racacor IS NULL or racacor = 'NA')THEN 1 END) AS racacor_nulos,\n",
    "  COUNT(CASE WHEN (assistmed IS NULL or assistmed = 'NA') THEN 1 END) AS assistmed_nulos,\n",
    "  COUNT(CASE WHEN (escmae IS NULL or escmae = 'NA') THEN 1 END) AS escmae_nulos,\n",
    "  COUNT(CASE WHEN (estciv IS NULL or estciv = 'NA') THEN 1 END) AS estciv_nulos,\n",
    "  COUNT(CASE WHEN (esc IS NULL or esc = 'NA') THEN 1 END) AS esc_nulos,\n",
    "  COUNT(CASE WHEN (ocup IS NULL or ocup = 'NA') THEN 1 END) AS ocup_nulos,\n",
    "  COUNT(CASE WHEN (codmunres IS NULL or codmunres = 'NA') THEN 1 END) AS codmunres_nulos,\n",
    "  COUNT(CASE WHEN (causabas IS NULL or causabas = 'NA') THEN 1 END) AS causabas_nulos,\n",
    "  COUNT(CASE WHEN (causabas_o IS NULL or causabas_o = 'NA') THEN 1 END) AS causabas_o_nulos,\n",
    "  COUNT(CASE WHEN (lococor IS NULL or lococor = 'NA') THEN 1 END) AS lococor_nulos,\n",
    "  COUNT(CASE WHEN (cirurgia IS NULL or cirurgia = 'NA') THEN 1 END) AS cirurgia_nulos\n",
    "FROM \n",
    "  suicidios_br_bronze.ocorrencias;"
   ]
  },
  {
   "cell_type": "markdown",
   "metadata": {
    "application/vnd.databricks.v1+cell": {
     "cellMetadata": {
      "byteLimit": 2048000,
      "rowLimit": 10000
     },
     "inputWidgets": {},
     "nuid": "7804716b-c0bb-4e7d-a589-ee718f62d79c",
     "showTitle": false,
     "tableResultSettingsMap": {},
     "title": ""
    }
   },
   "source": [
    "**Conclusão:**\n",
    "- nenhuma coluna possui 100% dos dados nulos\n",
    "- algumas colunas possuem um valor alto de dados faltantes, porém analisar dados percentuais auxiliam ainda mais nas tomadas de decisão voltadas a dados.\n",
    "\n",
    "Portanto, seguiremos com uma abordagem de identificação dos percentuais de dados nulos ou faltantes para cada coluna."
   ]
  },
  {
   "cell_type": "code",
   "execution_count": 0,
   "metadata": {
    "application/vnd.databricks.v1+cell": {
     "cellMetadata": {
      "byteLimit": 2048000,
      "implicitDf": true,
      "rowLimit": 10000
     },
     "inputWidgets": {},
     "nuid": "41eda0f1-2624-41ca-bb5a-1908faf8ea64",
     "showTitle": true,
     "tableResultSettingsMap": {},
     "title": "Percentual de dados nulos na tabela de Ocorrências"
    }
   },
   "outputs": [
    {
     "output_type": "display_data",
     "data": {
      "text/html": [
       "<style scoped>\n",
       "  .table-result-container {\n",
       "    max-height: 300px;\n",
       "    overflow: auto;\n",
       "  }\n",
       "  table, th, td {\n",
       "    border: 1px solid black;\n",
       "    border-collapse: collapse;\n",
       "  }\n",
       "  th, td {\n",
       "    padding: 5px;\n",
       "  }\n",
       "  th {\n",
       "    text-align: left;\n",
       "  }\n",
       "</style><div class='table-result-container'><table class='table-result'><thead style='background-color: white'><tr><th>total_linhas</th><th>c0_percent_nulos</th><th>estado_percent_nulos</th><th>ano_percent_nulos</th><th>mes_percent_nulos</th><th>dt_obito_percent_nulos</th><th>dt_nasc_percent_nulos</th><th>sexo_percent_nulos</th><th>racacor_percent_nulos</th><th>assistmed_percent_nulos</th><th>escmae_percent_nulos</th><th>estciv_percent_nulos</th><th>esc_percent_nulos</th><th>ocup_percent_nulos</th><th>codmunres_percent_nulos</th><th>causabas_percent_nulos</th><th>causabas_o_percent_nulos</th><th>lococor_percent_nulos</th><th>cirurgia_percent_nulos</th></tr></thead><tbody><tr><td>112491</td><td>0.0</td><td>0.0</td><td>0.0</td><td>0.0</td><td>0.0</td><td>9.65</td><td>0.02</td><td>2.82</td><td>37.16</td><td>99.99</td><td>7.73</td><td>25.04</td><td>46.42</td><td>0.0</td><td>0.0</td><td>0.26</td><td>0.41</td><td>92.4</td></tr></tbody></table></div>"
      ]
     },
     "metadata": {
      "application/vnd.databricks.v1+output": {
       "addedWidgets": {},
       "aggData": [],
       "aggError": "",
       "aggOverflow": false,
       "aggSchema": [],
       "aggSeriesLimitReached": false,
       "aggType": "",
       "arguments": {},
       "columnCustomDisplayInfos": {},
       "data": [
        [
         112491,
         0.0,
         0.0,
         0.0,
         0.0,
         0.0,
         9.65,
         0.02,
         2.82,
         37.16,
         99.99,
         7.73,
         25.04,
         46.42,
         0.0,
         0.0,
         0.26,
         0.41,
         92.4
        ]
       ],
       "datasetInfos": [],
       "dbfsResultPath": null,
       "isJsonSchema": true,
       "metadata": {},
       "overflow": false,
       "plotOptions": {
        "customPlotOptions": {},
        "displayType": "table",
        "pivotAggregation": null,
        "pivotColumns": null,
        "xColumns": null,
        "yColumns": null
       },
       "removedWidgets": [],
       "schema": [
        {
         "metadata": "{}",
         "name": "total_linhas",
         "type": "\"long\""
        },
        {
         "metadata": "{}",
         "name": "c0_percent_nulos",
         "type": "\"double\""
        },
        {
         "metadata": "{}",
         "name": "estado_percent_nulos",
         "type": "\"double\""
        },
        {
         "metadata": "{}",
         "name": "ano_percent_nulos",
         "type": "\"double\""
        },
        {
         "metadata": "{}",
         "name": "mes_percent_nulos",
         "type": "\"double\""
        },
        {
         "metadata": "{}",
         "name": "dt_obito_percent_nulos",
         "type": "\"double\""
        },
        {
         "metadata": "{}",
         "name": "dt_nasc_percent_nulos",
         "type": "\"double\""
        },
        {
         "metadata": "{}",
         "name": "sexo_percent_nulos",
         "type": "\"double\""
        },
        {
         "metadata": "{}",
         "name": "racacor_percent_nulos",
         "type": "\"double\""
        },
        {
         "metadata": "{}",
         "name": "assistmed_percent_nulos",
         "type": "\"double\""
        },
        {
         "metadata": "{}",
         "name": "escmae_percent_nulos",
         "type": "\"double\""
        },
        {
         "metadata": "{}",
         "name": "estciv_percent_nulos",
         "type": "\"double\""
        },
        {
         "metadata": "{}",
         "name": "esc_percent_nulos",
         "type": "\"double\""
        },
        {
         "metadata": "{}",
         "name": "ocup_percent_nulos",
         "type": "\"double\""
        },
        {
         "metadata": "{}",
         "name": "codmunres_percent_nulos",
         "type": "\"double\""
        },
        {
         "metadata": "{}",
         "name": "causabas_percent_nulos",
         "type": "\"double\""
        },
        {
         "metadata": "{}",
         "name": "causabas_o_percent_nulos",
         "type": "\"double\""
        },
        {
         "metadata": "{}",
         "name": "lococor_percent_nulos",
         "type": "\"double\""
        },
        {
         "metadata": "{}",
         "name": "cirurgia_percent_nulos",
         "type": "\"double\""
        }
       ],
       "type": "table"
      }
     },
     "output_type": "display_data"
    }
   ],
   "source": [
    "%sql\n",
    "SELECT \n",
    "  COUNT(*) AS total_linhas,\n",
    "  ROUND((COUNT(CASE WHEN (_c0 IS NULL or _c0 = 'NA') THEN 1 END)/COUNT(*)) * 100, 2) AS c0_percent_nulos,\n",
    "  ROUND((COUNT(CASE WHEN (estado IS NULL or estado = 'NA') THEN 1 END)/COUNT(*)) * 100, 2) AS estado_percent_nulos,\n",
    "  ROUND((COUNT(CASE WHEN (ano IS NULL or ano = 'NA') THEN 1 END)/COUNT(*)) * 100, 2) AS ano_percent_nulos,\n",
    "  ROUND((COUNT(CASE WHEN (mes IS NULL or mes = 'NA') THEN 1 END)/COUNT(*)) * 100, 2) AS mes_percent_nulos,\n",
    "  ROUND((COUNT(CASE WHEN (dtobito IS NULL or dtobito = 'NA') THEN 1 END)/COUNT(*)) * 100, 2) AS dt_obito_percent_nulos,\n",
    "  ROUND((COUNT(CASE WHEN (dtnasc IS NULL or dtnasc = 'NA') THEN 1 END)/COUNT(*)) * 100, 2) AS dt_nasc_percent_nulos,\n",
    "  ROUND((COUNT(CASE WHEN (sexo IS NULL or sexo = 'NA') THEN 1 END)/COUNT(*)) * 100, 2) AS sexo_percent_nulos,\n",
    "  ROUND((COUNT(CASE WHEN (racacor IS NULL or racacor = 'NA')THEN 1 END)/COUNT(*)) * 100, 2) AS racacor_percent_nulos,\n",
    "  ROUND((COUNT(CASE WHEN (assistmed IS NULL or assistmed = 'NA') THEN 1 END)/COUNT(*)) * 100, 2) AS assistmed_percent_nulos,\n",
    "  ROUND((COUNT(CASE WHEN (escmae IS NULL or escmae = 'NA') THEN 1 END)/COUNT(*)) * 100, 2) AS escmae_percent_nulos,\n",
    "  ROUND((COUNT(CASE WHEN (estciv IS NULL or estciv = 'NA') THEN 1 END)/COUNT(*)) * 100, 2) AS estciv_percent_nulos,\n",
    "  ROUND((COUNT(CASE WHEN (esc IS NULL or esc = 'NA') THEN 1 END)/COUNT(*)) * 100, 2) AS esc_percent_nulos,\n",
    "  ROUND((COUNT(CASE WHEN (ocup IS NULL or ocup = 'NA') THEN 1 END)/COUNT(*)) * 100, 2) AS ocup_percent_nulos,\n",
    "  ROUND((COUNT(CASE WHEN (codmunres IS NULL or codmunres = 'NA') THEN 1 END)/COUNT(*)) * 100, 2) AS codmunres_percent_nulos,\n",
    "  ROUND((COUNT(CASE WHEN (causabas IS NULL or causabas = 'NA') THEN 1 END)/COUNT(*)) * 100, 2) AS causabas_percent_nulos,\n",
    "  ROUND((COUNT(CASE WHEN (causabas_o IS NULL or causabas_o = 'NA') THEN 1 END)/COUNT(*)) * 100, 2) AS causabas_o_percent_nulos,\n",
    "  ROUND((COUNT(CASE WHEN (lococor IS NULL or lococor = 'NA') THEN 1 END)/COUNT(*)) * 100, 2) AS lococor_percent_nulos,\n",
    "  ROUND((COUNT(CASE WHEN (cirurgia IS NULL or cirurgia = 'NA') THEN 1 END)/COUNT(*)) * 100, 2) AS cirurgia_percent_nulos\n",
    "FROM \n",
    "  suicidios_br_bronze.ocorrencias;"
   ]
  },
  {
   "cell_type": "markdown",
   "metadata": {
    "application/vnd.databricks.v1+cell": {
     "cellMetadata": {
      "byteLimit": 2048000,
      "rowLimit": 10000
     },
     "inputWidgets": {},
     "nuid": "502b4ed9-968f-4a62-8de9-89fdc622ba73",
     "showTitle": false,
     "tableResultSettingsMap": {},
     "title": ""
    }
   },
   "source": [
    "**Conclusão:**\n",
    "- existem 2 informações com mais de 90% de dados nulos e que, portanto, não agregam valor na solução do problema: \n",
    "  - 'esc_mae' (escolaridade da mãe) com 99% de dados faltantes\n",
    "  - 'cirurgia' (indicativo se houve cirurgia) com 92% de dados faltantes\n",
    "- existem 3 informações com um percentual de dados nulos variando entre 25% e 50%, mas que ainda assim agregam valor na solução do problema:\n",
    "  - 'assistmed' (indica se houve atendimento médico durante a enfermidade que ocasionou o óbito) com 37% de dados faltantes\n",
    "  - 'esc' (escolaridade do indivíduo) com 25% de dados faltantes\n",
    "  - 'ocup' (ocupação do indivíduo) com 46% de dados faltantes\n",
    "- as demais informações possuem uma boa taxa de preenchimento de dados: menos do que 10% de dados faltantes\n",
    "\n",
    "**As colunas 'esc_mae' e 'cirurgia' não serão carregadas para a próxima camada de dados.**\n",
    "\n",
    "Da mesma forma que as **colunas abaixo também não serão carregadas**:\n",
    "- **_c0**: por se tratar de um número sequencial sem valor relevante para a análise\n",
    "- **ano** e **mes**: são informações que podem ser derivadas da coluna 'DTOBITO'"
   ]
  },
  {
   "cell_type": "code",
   "execution_count": 0,
   "metadata": {
    "application/vnd.databricks.v1+cell": {
     "cellMetadata": {
      "byteLimit": 2048000,
      "implicitDf": true,
      "rowLimit": 10000
     },
     "inputWidgets": {},
     "nuid": "d1923fc1-301b-46e2-8d69-4db60a93617a",
     "showTitle": true,
     "tableResultSettingsMap": {},
     "title": "Identificando a quantidade de dados nulos na tabela de Diagnósticos"
    }
   },
   "outputs": [
    {
     "output_type": "display_data",
     "data": {
      "text/html": [
       "<style scoped>\n",
       "  .table-result-container {\n",
       "    max-height: 300px;\n",
       "    overflow: auto;\n",
       "  }\n",
       "  table, th, td {\n",
       "    border: 1px solid black;\n",
       "    border-collapse: collapse;\n",
       "  }\n",
       "  th, td {\n",
       "    padding: 5px;\n",
       "  }\n",
       "  th {\n",
       "    text-align: left;\n",
       "  }\n",
       "</style><div class='table-result-container'><table class='table-result'><thead style='background-color: white'><tr><th>total_linhas</th><th>subcat_nulos</th><th>classif_nulos</th><th>restrsexo_nulos</th><th>causaobito_nulos</th><th>descricao_nulos</th><th>descrabrev_nulos</th><th>refer_nulos</th><th>excluidos_nulos</th><th>c8_nulos</th></tr></thead><tbody><tr><td>12451</td><td>0</td><td>12073</td><td>11577</td><td>11160</td><td>0</td><td>0</td><td>12294</td><td>12435</td><td>12451</td></tr></tbody></table></div>"
      ]
     },
     "metadata": {
      "application/vnd.databricks.v1+output": {
       "addedWidgets": {},
       "aggData": [],
       "aggError": "",
       "aggOverflow": false,
       "aggSchema": [],
       "aggSeriesLimitReached": false,
       "aggType": "",
       "arguments": {},
       "columnCustomDisplayInfos": {},
       "data": [
        [
         12451,
         0,
         12073,
         11577,
         11160,
         0,
         0,
         12294,
         12435,
         12451
        ]
       ],
       "datasetInfos": [],
       "dbfsResultPath": null,
       "isJsonSchema": true,
       "metadata": {},
       "overflow": false,
       "plotOptions": {
        "customPlotOptions": {},
        "displayType": "table",
        "pivotAggregation": null,
        "pivotColumns": null,
        "xColumns": null,
        "yColumns": null
       },
       "removedWidgets": [],
       "schema": [
        {
         "metadata": "{}",
         "name": "total_linhas",
         "type": "\"long\""
        },
        {
         "metadata": "{}",
         "name": "subcat_nulos",
         "type": "\"long\""
        },
        {
         "metadata": "{}",
         "name": "classif_nulos",
         "type": "\"long\""
        },
        {
         "metadata": "{}",
         "name": "restrsexo_nulos",
         "type": "\"long\""
        },
        {
         "metadata": "{}",
         "name": "causaobito_nulos",
         "type": "\"long\""
        },
        {
         "metadata": "{}",
         "name": "descricao_nulos",
         "type": "\"long\""
        },
        {
         "metadata": "{}",
         "name": "descrabrev_nulos",
         "type": "\"long\""
        },
        {
         "metadata": "{}",
         "name": "refer_nulos",
         "type": "\"long\""
        },
        {
         "metadata": "{}",
         "name": "excluidos_nulos",
         "type": "\"long\""
        },
        {
         "metadata": "{}",
         "name": "c8_nulos",
         "type": "\"long\""
        }
       ],
       "type": "table"
      }
     },
     "output_type": "display_data"
    }
   ],
   "source": [
    "%sql\n",
    "SELECT \n",
    "  COUNT(*) AS total_linhas,\n",
    "  COUNT(CASE WHEN subcat IS NULL THEN 1 END) AS subcat_nulos,\n",
    "  COUNT(CASE WHEN classif IS NULL THEN 1 END) AS classif_nulos,\n",
    "  COUNT(CASE WHEN restrsexo IS NULL THEN 1 END) AS restrsexo_nulos,\n",
    "  COUNT(CASE WHEN causaobito IS NULL THEN 1 END) AS causaobito_nulos,\n",
    "  COUNT(CASE WHEN descricao IS NULL THEN 1 END) AS descricao_nulos,\n",
    "  COUNT(CASE WHEN descrabrev IS NULL THEN 1 END) AS descrabrev_nulos,\n",
    "  COUNT(CASE WHEN refer IS NULL THEN 1 END) AS refer_nulos,\n",
    "  COUNT(CASE WHEN excluidos IS NULL THEN 1 END) AS excluidos_nulos,\n",
    "  COUNT(CASE WHEN _c8 IS NULL THEN 1 END) AS c8_nulos\n",
    "FROM \n",
    "  suicidios_br_bronze.diagnosticos;"
   ]
  },
  {
   "cell_type": "markdown",
   "metadata": {
    "application/vnd.databricks.v1+cell": {
     "cellMetadata": {
      "byteLimit": 2048000,
      "rowLimit": 10000
     },
     "inputWidgets": {},
     "nuid": "748a98f9-3f1f-4dc4-848a-2741305f23b0",
     "showTitle": false,
     "tableResultSettingsMap": {},
     "title": ""
    }
   },
   "source": [
    "**Conclusão:**\n",
    "- uma coluna possui todos os dados nulos ('_c8')\n",
    "- cinco colunas possuem praticamente todos os dados nulos ('classif', 'restrsexo', 'causaobito', 'refer', 'excluidos')\n",
    "- as demais colunas não possuem dados nulos\n",
    "\n",
    "Mantendo a mesma lógica abordada anteriormente, seguiremos com a abordagem de identificação dos **percentuais** de dados nulos ou faltantes para cada coluna. Assim, garantimos uma estratégia mais assertiva na tomada de decisão."
   ]
  },
  {
   "cell_type": "code",
   "execution_count": 0,
   "metadata": {
    "application/vnd.databricks.v1+cell": {
     "cellMetadata": {
      "byteLimit": 2048000,
      "implicitDf": true,
      "rowLimit": 10000
     },
     "inputWidgets": {},
     "nuid": "f141da2e-fe23-49e2-952f-a3dda0935eba",
     "showTitle": true,
     "tableResultSettingsMap": {},
     "title": "Percentual de dados nulos na tabela de Diagnósticos"
    }
   },
   "outputs": [
    {
     "output_type": "display_data",
     "data": {
      "text/html": [
       "<style scoped>\n",
       "  .table-result-container {\n",
       "    max-height: 300px;\n",
       "    overflow: auto;\n",
       "  }\n",
       "  table, th, td {\n",
       "    border: 1px solid black;\n",
       "    border-collapse: collapse;\n",
       "  }\n",
       "  th, td {\n",
       "    padding: 5px;\n",
       "  }\n",
       "  th {\n",
       "    text-align: left;\n",
       "  }\n",
       "</style><div class='table-result-container'><table class='table-result'><thead style='background-color: white'><tr><th>total_linhas</th><th>subcat_percent_nulos</th><th>classif_percent_nulos</th><th>restrsexo_percent_nulos</th><th>causaobito_percent_nulos</th><th>descricao_percent_nulos</th><th>descrabrev_percent_nulos</th><th>refer_percent_nulos</th><th>excluidos_percent_nulos</th><th>c8_nulos</th></tr></thead><tbody><tr><td>12451</td><td>0.0</td><td>96.96</td><td>92.98</td><td>89.63</td><td>0.0</td><td>0.0</td><td>98.74</td><td>99.87</td><td>100.0</td></tr></tbody></table></div>"
      ]
     },
     "metadata": {
      "application/vnd.databricks.v1+output": {
       "addedWidgets": {},
       "aggData": [],
       "aggError": "",
       "aggOverflow": false,
       "aggSchema": [],
       "aggSeriesLimitReached": false,
       "aggType": "",
       "arguments": {},
       "columnCustomDisplayInfos": {},
       "data": [
        [
         12451,
         0.0,
         96.96,
         92.98,
         89.63,
         0.0,
         0.0,
         98.74,
         99.87,
         100.0
        ]
       ],
       "datasetInfos": [],
       "dbfsResultPath": null,
       "isJsonSchema": true,
       "metadata": {},
       "overflow": false,
       "plotOptions": {
        "customPlotOptions": {},
        "displayType": "table",
        "pivotAggregation": null,
        "pivotColumns": null,
        "xColumns": null,
        "yColumns": null
       },
       "removedWidgets": [],
       "schema": [
        {
         "metadata": "{}",
         "name": "total_linhas",
         "type": "\"long\""
        },
        {
         "metadata": "{}",
         "name": "subcat_percent_nulos",
         "type": "\"double\""
        },
        {
         "metadata": "{}",
         "name": "classif_percent_nulos",
         "type": "\"double\""
        },
        {
         "metadata": "{}",
         "name": "restrsexo_percent_nulos",
         "type": "\"double\""
        },
        {
         "metadata": "{}",
         "name": "causaobito_percent_nulos",
         "type": "\"double\""
        },
        {
         "metadata": "{}",
         "name": "descricao_percent_nulos",
         "type": "\"double\""
        },
        {
         "metadata": "{}",
         "name": "descrabrev_percent_nulos",
         "type": "\"double\""
        },
        {
         "metadata": "{}",
         "name": "refer_percent_nulos",
         "type": "\"double\""
        },
        {
         "metadata": "{}",
         "name": "excluidos_percent_nulos",
         "type": "\"double\""
        },
        {
         "metadata": "{}",
         "name": "c8_nulos",
         "type": "\"double\""
        }
       ],
       "type": "table"
      }
     },
     "output_type": "display_data"
    }
   ],
   "source": [
    "%sql\n",
    "SELECT \n",
    "  COUNT(*) AS total_linhas,\n",
    "  ROUND((COUNT(CASE WHEN subcat IS NULL THEN 1 END) / COUNT(*)) * 100, 2) AS subcat_percent_nulos,\n",
    "  ROUND((COUNT(CASE WHEN classif IS NULL THEN 1 END) / COUNT(*)) * 100, 2) AS classif_percent_nulos,\n",
    "  ROUND((COUNT(CASE WHEN restrsexo IS NULL THEN 1 END) / COUNT(*)) * 100, 2) AS restrsexo_percent_nulos,\n",
    "  ROUND((COUNT(CASE WHEN causaobito IS NULL THEN 1 END) / COUNT(*)) * 100, 2) AS causaobito_percent_nulos,\n",
    "  ROUND((COUNT(CASE WHEN descricao IS NULL THEN 1 END) / COUNT(*)) * 100, 2) AS descricao_percent_nulos,\n",
    "  ROUND((COUNT(CASE WHEN descrabrev IS NULL THEN 1 END) / COUNT(*)) * 100, 2) AS descrabrev_percent_nulos,\n",
    "  ROUND((COUNT(CASE WHEN refer IS NULL THEN 1 END) / COUNT(*)) * 100, 2) AS refer_percent_nulos,\n",
    "  ROUND((COUNT(CASE WHEN excluidos IS NULL THEN 1 END) / COUNT(*)) * 100, 2) AS excluidos_percent_nulos,\n",
    "  ROUND((COUNT(CASE WHEN _c8 IS NULL THEN 1 END) / COUNT(*)) * 100, 2) AS c8_nulos\n",
    "FROM \n",
    "  suicidios_br_bronze.diagnosticos;"
   ]
  },
  {
   "cell_type": "markdown",
   "metadata": {
    "application/vnd.databricks.v1+cell": {
     "cellMetadata": {
      "byteLimit": 2048000,
      "rowLimit": 10000
     },
     "inputWidgets": {},
     "nuid": "3127da66-ce99-4800-be3f-3a25340e8ef4",
     "showTitle": false,
     "tableResultSettingsMap": {},
     "title": ""
    }
   },
   "source": [
    "**Conclusão:**\n",
    "- existem 4 informações com mais de 90% de dados nulos e que, portanto, não agregam valor na solução do problema: \n",
    "  - 'classif' (indica a classificação da categoria do Diagnóstico) com 96% de dados faltantes\n",
    "  - 'restrsexo' (indica se a subcategoria é restrita a homens ou melhores) com 92% de dados faltantes\n",
    "  - 'refer' (indica que há duas classificações para o mesmo Diagnóstico) com 98% de dados faltantes\n",
    "  - 'excluidos' (indica se a respectiva categoria foi excluída) com 99% de dados faltantes\n",
    "- existe 1 coluna com 100% dos dados nulos e que, portanto, também não agrega valor na solução do problema:\n",
    "  - '_c8' (coluna extra criada de forma equivocada)\n",
    "- as demais informações possuem 100% de preenchimento de dados\n",
    "\n",
    "**As colunas 'classif', 'restrsexo', 'refer', 'excluidos' e '_c8' não serão carregadas para a próxima camada de dados.**"
   ]
  },
  {
   "cell_type": "markdown",
   "metadata": {
    "application/vnd.databricks.v1+cell": {
     "cellMetadata": {
      "byteLimit": 2048000,
      "rowLimit": 10000
     },
     "inputWidgets": {},
     "nuid": "b85c7b66-b484-4277-accb-5686f625cfd9",
     "showTitle": false,
     "tableResultSettingsMap": {},
     "title": ""
    }
   },
   "source": [
    "#### Qualidade de dados - atributo 'estado'\n",
    "\n",
    "**Resultado da análise de qualidade:**\n",
    "\n",
    "- **Não há problemas**. \n",
    "- Temos 27 siglas de estado corretas e dentro do valor máximo esperado."
   ]
  },
  {
   "cell_type": "code",
   "execution_count": 0,
   "metadata": {
    "application/vnd.databricks.v1+cell": {
     "cellMetadata": {
      "byteLimit": 2048000,
      "implicitDf": true,
      "rowLimit": 10000
     },
     "inputWidgets": {},
     "nuid": "0ee5a41c-ab82-440f-a927-85e771aecde3",
     "showTitle": true,
     "tableResultSettingsMap": {},
     "title": "Distinct - coluna estado"
    }
   },
   "outputs": [
    {
     "output_type": "display_data",
     "data": {
      "text/html": [
       "<style scoped>\n",
       "  .table-result-container {\n",
       "    max-height: 300px;\n",
       "    overflow: auto;\n",
       "  }\n",
       "  table, th, td {\n",
       "    border: 1px solid black;\n",
       "    border-collapse: collapse;\n",
       "  }\n",
       "  th, td {\n",
       "    padding: 5px;\n",
       "  }\n",
       "  th {\n",
       "    text-align: left;\n",
       "  }\n",
       "</style><div class='table-result-container'><table class='table-result'><thead style='background-color: white'><tr><th>estado</th></tr></thead><tbody><tr><td>AC</td></tr><tr><td>AL</td></tr><tr><td>AM</td></tr><tr><td>AP</td></tr><tr><td>BA</td></tr><tr><td>CE</td></tr><tr><td>DF</td></tr><tr><td>ES</td></tr><tr><td>GO</td></tr><tr><td>MA</td></tr><tr><td>MG</td></tr><tr><td>MS</td></tr><tr><td>MT</td></tr><tr><td>PA</td></tr><tr><td>PB</td></tr><tr><td>PE</td></tr><tr><td>PI</td></tr><tr><td>PR</td></tr><tr><td>RJ</td></tr><tr><td>RN</td></tr><tr><td>RO</td></tr><tr><td>RR</td></tr><tr><td>RS</td></tr><tr><td>SC</td></tr><tr><td>SE</td></tr><tr><td>SP</td></tr><tr><td>TO</td></tr></tbody></table></div>"
      ]
     },
     "metadata": {
      "application/vnd.databricks.v1+output": {
       "addedWidgets": {},
       "aggData": [],
       "aggError": "",
       "aggOverflow": false,
       "aggSchema": [],
       "aggSeriesLimitReached": false,
       "aggType": "",
       "arguments": {},
       "columnCustomDisplayInfos": {},
       "data": [
        [
         "AC"
        ],
        [
         "AL"
        ],
        [
         "AM"
        ],
        [
         "AP"
        ],
        [
         "BA"
        ],
        [
         "CE"
        ],
        [
         "DF"
        ],
        [
         "ES"
        ],
        [
         "GO"
        ],
        [
         "MA"
        ],
        [
         "MG"
        ],
        [
         "MS"
        ],
        [
         "MT"
        ],
        [
         "PA"
        ],
        [
         "PB"
        ],
        [
         "PE"
        ],
        [
         "PI"
        ],
        [
         "PR"
        ],
        [
         "RJ"
        ],
        [
         "RN"
        ],
        [
         "RO"
        ],
        [
         "RR"
        ],
        [
         "RS"
        ],
        [
         "SC"
        ],
        [
         "SE"
        ],
        [
         "SP"
        ],
        [
         "TO"
        ]
       ],
       "datasetInfos": [],
       "dbfsResultPath": null,
       "isJsonSchema": true,
       "metadata": {},
       "overflow": false,
       "plotOptions": {
        "customPlotOptions": {},
        "displayType": "table",
        "pivotAggregation": null,
        "pivotColumns": null,
        "xColumns": null,
        "yColumns": null
       },
       "removedWidgets": [],
       "schema": [
        {
         "metadata": "{}",
         "name": "estado",
         "type": "\"string\""
        }
       ],
       "type": "table"
      }
     },
     "output_type": "display_data"
    }
   ],
   "source": [
    "%sql\n",
    "SELECT \n",
    "  distinct estado\n",
    "FROM \n",
    "  suicidios_br_bronze.ocorrencias\n",
    "ORDER BY estado;"
   ]
  },
  {
   "cell_type": "markdown",
   "metadata": {
    "application/vnd.databricks.v1+cell": {
     "cellMetadata": {
      "byteLimit": 2048000,
      "rowLimit": 10000
     },
     "inputWidgets": {},
     "nuid": "818151d7-fb0e-43d6-92dc-9fb31ca43c13",
     "showTitle": false,
     "tableResultSettingsMap": {},
     "title": ""
    }
   },
   "source": [
    "#### Qualidade de dados - atributo 'dtobito'\n",
    "\n",
    "**Resultado da análise de qualidade:**\n",
    "\n",
    "- **Não há problemas**. \n",
    "- Temos o intervalo de datas dentro do esperado (01/01/2010 a 31/12/2019)"
   ]
  },
  {
   "cell_type": "code",
   "execution_count": 0,
   "metadata": {
    "application/vnd.databricks.v1+cell": {
     "cellMetadata": {
      "byteLimit": 2048000,
      "implicitDf": true,
      "rowLimit": 10000
     },
     "inputWidgets": {},
     "nuid": "10bef7ab-75bc-42ac-ad2d-bbe4b12af0bc",
     "showTitle": true,
     "tableResultSettingsMap": {},
     "title": "Intervalo de datas- coluna dtobito"
    }
   },
   "outputs": [
    {
     "output_type": "display_data",
     "data": {
      "text/html": [
       "<style scoped>\n",
       "  .table-result-container {\n",
       "    max-height: 300px;\n",
       "    overflow: auto;\n",
       "  }\n",
       "  table, th, td {\n",
       "    border: 1px solid black;\n",
       "    border-collapse: collapse;\n",
       "  }\n",
       "  th, td {\n",
       "    padding: 5px;\n",
       "  }\n",
       "  th {\n",
       "    text-align: left;\n",
       "  }\n",
       "</style><div class='table-result-container'><table class='table-result'><thead style='background-color: white'><tr><th>min(DTOBITO)</th><th>max(DTOBITO)</th></tr></thead><tbody><tr><td>2010-01-01</td><td>2019-12-31</td></tr></tbody></table></div>"
      ]
     },
     "metadata": {
      "application/vnd.databricks.v1+output": {
       "addedWidgets": {},
       "aggData": [],
       "aggError": "",
       "aggOverflow": false,
       "aggSchema": [],
       "aggSeriesLimitReached": false,
       "aggType": "",
       "arguments": {},
       "columnCustomDisplayInfos": {},
       "data": [
        [
         "2010-01-01",
         "2019-12-31"
        ]
       ],
       "datasetInfos": [],
       "dbfsResultPath": null,
       "isJsonSchema": true,
       "metadata": {},
       "overflow": false,
       "plotOptions": {
        "customPlotOptions": {},
        "displayType": "table",
        "pivotAggregation": null,
        "pivotColumns": null,
        "xColumns": null,
        "yColumns": null
       },
       "removedWidgets": [],
       "schema": [
        {
         "metadata": "{\"__autoGeneratedAlias\":\"true\"}",
         "name": "min(DTOBITO)",
         "type": "\"date\""
        },
        {
         "metadata": "{\"__autoGeneratedAlias\":\"true\"}",
         "name": "max(DTOBITO)",
         "type": "\"date\""
        }
       ],
       "type": "table"
      }
     },
     "output_type": "display_data"
    }
   ],
   "source": [
    "%sql\n",
    "SELECT \n",
    "  min(DTOBITO), max(DTOBITO)\n",
    "FROM \n",
    "  suicidios_br_bronze.ocorrencias;"
   ]
  },
  {
   "cell_type": "markdown",
   "metadata": {
    "application/vnd.databricks.v1+cell": {
     "cellMetadata": {
      "byteLimit": 2048000,
      "rowLimit": 10000
     },
     "inputWidgets": {},
     "nuid": "c49dad04-193e-4d9a-a1f7-fa1832ca7c5f",
     "showTitle": false,
     "tableResultSettingsMap": {},
     "title": ""
    }
   },
   "source": [
    "#### Qualidade de dados - atributo 'dtnasc'\n",
    "\n",
    "**Resultado da análise de qualidade:**\n",
    "\n",
    "- **Existem problemas**. \n",
    "- Temos um pouco mais de 1000 datas de nascimento distintas fora de um intervalo válido: anos de 1900 e 2025\n",
    "- Para a próxima camada de dados (silver) será necessário realizar um tratamento de dados: tais datas serão substituídas por 'NA'"
   ]
  },
  {
   "cell_type": "code",
   "execution_count": 0,
   "metadata": {
    "application/vnd.databricks.v1+cell": {
     "cellMetadata": {
      "byteLimit": 2048000,
      "implicitDf": true,
      "rowLimit": 10000
     },
     "inputWidgets": {},
     "nuid": "a026789a-0c9e-411f-8b39-dbdb1d4f4c75",
     "showTitle": true,
     "tableResultSettingsMap": {},
     "title": "Intervalo de datas- coluna dtnasc"
    }
   },
   "outputs": [
    {
     "output_type": "display_data",
     "data": {
      "text/html": [
       "<style scoped>\n",
       "  .table-result-container {\n",
       "    max-height: 300px;\n",
       "    overflow: auto;\n",
       "  }\n",
       "  table, th, td {\n",
       "    border: 1px solid black;\n",
       "    border-collapse: collapse;\n",
       "  }\n",
       "  th, td {\n",
       "    padding: 5px;\n",
       "  }\n",
       "  th {\n",
       "    text-align: left;\n",
       "  }\n",
       "</style><div class='table-result-container'><table class='table-result'><thead style='background-color: white'><tr><th>min(DTNASC)</th><th>max(DTNASC)</th></tr></thead><tbody><tr><td>0193-11-02</td><td>9199-10-02</td></tr></tbody></table></div>"
      ]
     },
     "metadata": {
      "application/vnd.databricks.v1+output": {
       "addedWidgets": {},
       "aggData": [],
       "aggError": "",
       "aggOverflow": false,
       "aggSchema": [],
       "aggSeriesLimitReached": false,
       "aggType": "",
       "arguments": {},
       "columnCustomDisplayInfos": {},
       "data": [
        [
         "0193-11-02",
         "9199-10-02"
        ]
       ],
       "datasetInfos": [],
       "dbfsResultPath": null,
       "isJsonSchema": true,
       "metadata": {},
       "overflow": false,
       "plotOptions": {
        "customPlotOptions": {},
        "displayType": "table",
        "pivotAggregation": null,
        "pivotColumns": null,
        "xColumns": null,
        "yColumns": null
       },
       "removedWidgets": [],
       "schema": [
        {
         "metadata": "{\"__autoGeneratedAlias\":\"true\"}",
         "name": "min(DTNASC)",
         "type": "\"string\""
        },
        {
         "metadata": "{\"__autoGeneratedAlias\":\"true\"}",
         "name": "max(DTNASC)",
         "type": "\"string\""
        }
       ],
       "type": "table"
      }
     },
     "output_type": "display_data"
    }
   ],
   "source": [
    "%sql\n",
    "SELECT \n",
    "  min(DTNASC), max(DTNASC)\n",
    "FROM \n",
    "  suicidios_br_bronze.ocorrencias\n",
    "  where DTNASC <> 'NA';"
   ]
  },
  {
   "cell_type": "code",
   "execution_count": 0,
   "metadata": {
    "application/vnd.databricks.v1+cell": {
     "cellMetadata": {
      "byteLimit": 2048000,
      "implicitDf": true,
      "rowLimit": 10000
     },
     "inputWidgets": {},
     "nuid": "07be3c05-aaa6-4a9c-851f-1e7fe23a9ae6",
     "showTitle": true,
     "tableResultSettingsMap": {},
     "title": "Quantidade total de datas de nascimento inválidas"
    }
   },
   "outputs": [
    {
     "output_type": "display_data",
     "data": {
      "text/html": [
       "<style scoped>\n",
       "  .table-result-container {\n",
       "    max-height: 300px;\n",
       "    overflow: auto;\n",
       "  }\n",
       "  table, th, td {\n",
       "    border: 1px solid black;\n",
       "    border-collapse: collapse;\n",
       "  }\n",
       "  th, td {\n",
       "    padding: 5px;\n",
       "  }\n",
       "  th {\n",
       "    text-align: left;\n",
       "  }\n",
       "</style><div class='table-result-container'><table class='table-result'><thead style='background-color: white'><tr><th>count(1)</th></tr></thead><tbody><tr><td>1086</td></tr></tbody></table></div>"
      ]
     },
     "metadata": {
      "application/vnd.databricks.v1+output": {
       "addedWidgets": {},
       "aggData": [],
       "aggError": "",
       "aggOverflow": false,
       "aggSchema": [],
       "aggSeriesLimitReached": false,
       "aggType": "",
       "arguments": {},
       "columnCustomDisplayInfos": {},
       "data": [
        [
         1086
        ]
       ],
       "datasetInfos": [],
       "dbfsResultPath": null,
       "isJsonSchema": true,
       "metadata": {},
       "overflow": false,
       "plotOptions": {
        "customPlotOptions": {},
        "displayType": "table",
        "pivotAggregation": null,
        "pivotColumns": null,
        "xColumns": null,
        "yColumns": null
       },
       "removedWidgets": [],
       "schema": [
        {
         "metadata": "{\"__autoGeneratedAlias\":\"true\"}",
         "name": "count(1)",
         "type": "\"long\""
        }
       ],
       "type": "table"
      }
     },
     "output_type": "display_data"
    }
   ],
   "source": [
    "%sql\n",
    "SELECT \n",
    "  count(1)\n",
    "FROM \n",
    "  suicidios_br_bronze.ocorrencias\n",
    "where \n",
    "  DTNASC <> 'NA'\n",
    "  and year(DTNASC) not between 1900 and 2025;"
   ]
  },
  {
   "cell_type": "code",
   "execution_count": 0,
   "metadata": {
    "application/vnd.databricks.v1+cell": {
     "cellMetadata": {
      "byteLimit": 2048000,
      "implicitDf": true,
      "rowLimit": 10000
     },
     "inputWidgets": {},
     "nuid": "3236db98-c3bb-44a8-866b-79fb37e4e610",
     "showTitle": true,
     "tableResultSettingsMap": {},
     "title": "Datas de nascimento inválidas - antes de 1900"
    }
   },
   "outputs": [
    {
     "output_type": "display_data",
     "data": {
      "text/html": [
       "<style scoped>\n",
       "  .table-result-container {\n",
       "    max-height: 300px;\n",
       "    overflow: auto;\n",
       "  }\n",
       "  table, th, td {\n",
       "    border: 1px solid black;\n",
       "    border-collapse: collapse;\n",
       "  }\n",
       "  th, td {\n",
       "    padding: 5px;\n",
       "  }\n",
       "  th {\n",
       "    text-align: left;\n",
       "  }\n",
       "</style><div class='table-result-container'><table class='table-result'><thead style='background-color: white'><tr><th>DTNASC</th></tr></thead><tbody><tr><td>0193-11-02</td></tr><tr><td>0194-01-01</td></tr><tr><td>0194-01-01</td></tr><tr><td>0194-01-01</td></tr><tr><td>0194-01-01</td></tr></tbody></table></div>"
      ]
     },
     "metadata": {
      "application/vnd.databricks.v1+output": {
       "addedWidgets": {},
       "aggData": [],
       "aggError": "",
       "aggOverflow": false,
       "aggSchema": [],
       "aggSeriesLimitReached": false,
       "aggType": "",
       "arguments": {},
       "columnCustomDisplayInfos": {},
       "data": [
        [
         "0193-11-02"
        ],
        [
         "0194-01-01"
        ],
        [
         "0194-01-01"
        ],
        [
         "0194-01-01"
        ],
        [
         "0194-01-01"
        ]
       ],
       "datasetInfos": [],
       "dbfsResultPath": null,
       "isJsonSchema": true,
       "metadata": {},
       "overflow": false,
       "plotOptions": {
        "customPlotOptions": {},
        "displayType": "table",
        "pivotAggregation": null,
        "pivotColumns": null,
        "xColumns": null,
        "yColumns": null
       },
       "removedWidgets": [],
       "schema": [
        {
         "metadata": "{}",
         "name": "DTNASC",
         "type": "\"string\""
        }
       ],
       "type": "table"
      }
     },
     "output_type": "display_data"
    }
   ],
   "source": [
    "%sql\n",
    "SELECT \n",
    "  DTNASC\n",
    "FROM \n",
    "  suicidios_br_bronze.ocorrencias\n",
    "where \n",
    "  DTNASC <> 'NA'\n",
    "  and year(DTNASC) not between 1900 and 2025\n",
    "order by DTNASC\n",
    "limit 5;"
   ]
  },
  {
   "cell_type": "code",
   "execution_count": 0,
   "metadata": {
    "application/vnd.databricks.v1+cell": {
     "cellMetadata": {
      "byteLimit": 2048000,
      "implicitDf": true,
      "rowLimit": 10000
     },
     "inputWidgets": {},
     "nuid": "579128ab-ae62-4eee-b49d-becb1bedce4d",
     "showTitle": true,
     "tableResultSettingsMap": {},
     "title": "Datas de nascimento inválidas - após 2025"
    }
   },
   "outputs": [
    {
     "output_type": "display_data",
     "data": {
      "text/html": [
       "<style scoped>\n",
       "  .table-result-container {\n",
       "    max-height: 300px;\n",
       "    overflow: auto;\n",
       "  }\n",
       "  table, th, td {\n",
       "    border: 1px solid black;\n",
       "    border-collapse: collapse;\n",
       "  }\n",
       "  th, td {\n",
       "    padding: 5px;\n",
       "  }\n",
       "  th {\n",
       "    text-align: left;\n",
       "  }\n",
       "</style><div class='table-result-container'><table class='table-result'><thead style='background-color: white'><tr><th>DTNASC</th></tr></thead><tbody><tr><td>9199-10-02</td></tr><tr><td>9199-10-02</td></tr><tr><td>9199-10-02</td></tr><tr><td>9199-10-01</td></tr><tr><td>9199-10-01</td></tr></tbody></table></div>"
      ]
     },
     "metadata": {
      "application/vnd.databricks.v1+output": {
       "addedWidgets": {},
       "aggData": [],
       "aggError": "",
       "aggOverflow": false,
       "aggSchema": [],
       "aggSeriesLimitReached": false,
       "aggType": "",
       "arguments": {},
       "columnCustomDisplayInfos": {},
       "data": [
        [
         "9199-10-02"
        ],
        [
         "9199-10-02"
        ],
        [
         "9199-10-02"
        ],
        [
         "9199-10-01"
        ],
        [
         "9199-10-01"
        ]
       ],
       "datasetInfos": [],
       "dbfsResultPath": null,
       "isJsonSchema": true,
       "metadata": {},
       "overflow": false,
       "plotOptions": {
        "customPlotOptions": {},
        "displayType": "table",
        "pivotAggregation": null,
        "pivotColumns": null,
        "xColumns": null,
        "yColumns": null
       },
       "removedWidgets": [],
       "schema": [
        {
         "metadata": "{}",
         "name": "DTNASC",
         "type": "\"string\""
        }
       ],
       "type": "table"
      }
     },
     "output_type": "display_data"
    }
   ],
   "source": [
    "%sql\n",
    "SELECT \n",
    "  DTNASC\n",
    "FROM \n",
    "  suicidios_br_bronze.ocorrencias\n",
    "where \n",
    "  DTNASC <> 'NA'\n",
    "  and year(DTNASC) not between 1900 and 2025\n",
    "order by DTNASC desc\n",
    "limit 5;"
   ]
  },
  {
   "cell_type": "markdown",
   "metadata": {
    "application/vnd.databricks.v1+cell": {
     "cellMetadata": {
      "byteLimit": 2048000,
      "rowLimit": 10000
     },
     "inputWidgets": {},
     "nuid": "6920e006-5d73-46fe-a93e-d068a8026316",
     "showTitle": false,
     "tableResultSettingsMap": {},
     "title": ""
    }
   },
   "source": [
    "#### Qualidade de dados - atributo 'sexo'\n",
    "\n",
    "**Resultado da análise de qualidade:**\n",
    "\n",
    "- **Não há problemas**. \n",
    "- Temos 3 possíveis opções válidas."
   ]
  },
  {
   "cell_type": "code",
   "execution_count": 0,
   "metadata": {
    "application/vnd.databricks.v1+cell": {
     "cellMetadata": {
      "byteLimit": 2048000,
      "implicitDf": true,
      "rowLimit": 10000
     },
     "inputWidgets": {},
     "nuid": "f010abd7-71ea-4c62-bb99-ce1317acec1d",
     "showTitle": true,
     "tableResultSettingsMap": {},
     "title": "Distinct - coluna sexo"
    }
   },
   "outputs": [
    {
     "output_type": "display_data",
     "data": {
      "text/html": [
       "<style scoped>\n",
       "  .table-result-container {\n",
       "    max-height: 300px;\n",
       "    overflow: auto;\n",
       "  }\n",
       "  table, th, td {\n",
       "    border: 1px solid black;\n",
       "    border-collapse: collapse;\n",
       "  }\n",
       "  th, td {\n",
       "    padding: 5px;\n",
       "  }\n",
       "  th {\n",
       "    text-align: left;\n",
       "  }\n",
       "</style><div class='table-result-container'><table class='table-result'><thead style='background-color: white'><tr><th>sexo</th></tr></thead><tbody><tr><td>Feminino</td></tr><tr><td>Masculino</td></tr><tr><td>NA</td></tr></tbody></table></div>"
      ]
     },
     "metadata": {
      "application/vnd.databricks.v1+output": {
       "addedWidgets": {},
       "aggData": [],
       "aggError": "",
       "aggOverflow": false,
       "aggSchema": [],
       "aggSeriesLimitReached": false,
       "aggType": "",
       "arguments": {},
       "columnCustomDisplayInfos": {},
       "data": [
        [
         "Feminino"
        ],
        [
         "Masculino"
        ],
        [
         "NA"
        ]
       ],
       "datasetInfos": [],
       "dbfsResultPath": null,
       "isJsonSchema": true,
       "metadata": {},
       "overflow": false,
       "plotOptions": {
        "customPlotOptions": {},
        "displayType": "table",
        "pivotAggregation": null,
        "pivotColumns": null,
        "xColumns": null,
        "yColumns": null
       },
       "removedWidgets": [],
       "schema": [
        {
         "metadata": "{}",
         "name": "sexo",
         "type": "\"string\""
        }
       ],
       "type": "table"
      }
     },
     "output_type": "display_data"
    }
   ],
   "source": [
    "%sql\n",
    "SELECT \n",
    "  distinct sexo\n",
    "FROM \n",
    "  suicidios_br_bronze.ocorrencias\n",
    "ORDER BY sexo;"
   ]
  },
  {
   "cell_type": "markdown",
   "metadata": {
    "application/vnd.databricks.v1+cell": {
     "cellMetadata": {
      "byteLimit": 2048000,
      "rowLimit": 10000
     },
     "inputWidgets": {},
     "nuid": "4af328fc-9ae0-408e-bf63-722f41abdfc4",
     "showTitle": false,
     "tableResultSettingsMap": {},
     "title": ""
    }
   },
   "source": [
    "#### Qualidade de dados - atributo 'racacor'\n",
    "\n",
    "**Resultado da análise de qualidade:**\n",
    "\n",
    "- **Não há problemas**. \n",
    "- Temos 6 possíveis opções válidas."
   ]
  },
  {
   "cell_type": "code",
   "execution_count": 0,
   "metadata": {
    "application/vnd.databricks.v1+cell": {
     "cellMetadata": {
      "byteLimit": 2048000,
      "implicitDf": true,
      "rowLimit": 10000
     },
     "inputWidgets": {},
     "nuid": "10389891-4520-46bc-9262-9b0743b5035e",
     "showTitle": true,
     "tableResultSettingsMap": {},
     "title": "Distinct - coluna racacor"
    }
   },
   "outputs": [
    {
     "output_type": "display_data",
     "data": {
      "text/html": [
       "<style scoped>\n",
       "  .table-result-container {\n",
       "    max-height: 300px;\n",
       "    overflow: auto;\n",
       "  }\n",
       "  table, th, td {\n",
       "    border: 1px solid black;\n",
       "    border-collapse: collapse;\n",
       "  }\n",
       "  th, td {\n",
       "    padding: 5px;\n",
       "  }\n",
       "  th {\n",
       "    text-align: left;\n",
       "  }\n",
       "</style><div class='table-result-container'><table class='table-result'><thead style='background-color: white'><tr><th>racacor</th></tr></thead><tbody><tr><td>Amarela</td></tr><tr><td>Branca</td></tr><tr><td>Indígena</td></tr><tr><td>NA</td></tr><tr><td>Parda</td></tr><tr><td>Preta</td></tr></tbody></table></div>"
      ]
     },
     "metadata": {
      "application/vnd.databricks.v1+output": {
       "addedWidgets": {},
       "aggData": [],
       "aggError": "",
       "aggOverflow": false,
       "aggSchema": [],
       "aggSeriesLimitReached": false,
       "aggType": "",
       "arguments": {},
       "columnCustomDisplayInfos": {},
       "data": [
        [
         "Amarela"
        ],
        [
         "Branca"
        ],
        [
         "Indígena"
        ],
        [
         "NA"
        ],
        [
         "Parda"
        ],
        [
         "Preta"
        ]
       ],
       "datasetInfos": [],
       "dbfsResultPath": null,
       "isJsonSchema": true,
       "metadata": {},
       "overflow": false,
       "plotOptions": {
        "customPlotOptions": {},
        "displayType": "table",
        "pivotAggregation": null,
        "pivotColumns": null,
        "xColumns": null,
        "yColumns": null
       },
       "removedWidgets": [],
       "schema": [
        {
         "metadata": "{}",
         "name": "racacor",
         "type": "\"string\""
        }
       ],
       "type": "table"
      }
     },
     "output_type": "display_data"
    }
   ],
   "source": [
    "%sql\n",
    "SELECT \n",
    "  distinct racacor\n",
    "FROM \n",
    "  suicidios_br_bronze.ocorrencias\n",
    "ORDER BY racacor;"
   ]
  },
  {
   "cell_type": "markdown",
   "metadata": {
    "application/vnd.databricks.v1+cell": {
     "cellMetadata": {
      "byteLimit": 2048000,
      "rowLimit": 10000
     },
     "inputWidgets": {},
     "nuid": "96b27c0f-2ab3-4dcc-bbb7-7d378f357eee",
     "showTitle": false,
     "tableResultSettingsMap": {},
     "title": ""
    }
   },
   "source": [
    "#### Qualidade de dados - atributo 'assistmed'\n",
    "\n",
    "**Resultado da análise de qualidade:**\n",
    "\n",
    "- **Não há problemas**. \n",
    "- Temos 3 possíveis opções válidas.\n"
   ]
  },
  {
   "cell_type": "code",
   "execution_count": 0,
   "metadata": {
    "application/vnd.databricks.v1+cell": {
     "cellMetadata": {
      "byteLimit": 2048000,
      "implicitDf": true,
      "rowLimit": 10000
     },
     "inputWidgets": {},
     "nuid": "ba51d63c-15e4-459e-bec3-b45a680be141",
     "showTitle": true,
     "tableResultSettingsMap": {},
     "title": "Distinct - coluna assistmed"
    }
   },
   "outputs": [
    {
     "output_type": "display_data",
     "data": {
      "text/html": [
       "<style scoped>\n",
       "  .table-result-container {\n",
       "    max-height: 300px;\n",
       "    overflow: auto;\n",
       "  }\n",
       "  table, th, td {\n",
       "    border: 1px solid black;\n",
       "    border-collapse: collapse;\n",
       "  }\n",
       "  th, td {\n",
       "    padding: 5px;\n",
       "  }\n",
       "  th {\n",
       "    text-align: left;\n",
       "  }\n",
       "</style><div class='table-result-container'><table class='table-result'><thead style='background-color: white'><tr><th>assistmed</th></tr></thead><tbody><tr><td>NA</td></tr><tr><td>Não</td></tr><tr><td>Sim</td></tr></tbody></table></div>"
      ]
     },
     "metadata": {
      "application/vnd.databricks.v1+output": {
       "addedWidgets": {},
       "aggData": [],
       "aggError": "",
       "aggOverflow": false,
       "aggSchema": [],
       "aggSeriesLimitReached": false,
       "aggType": "",
       "arguments": {},
       "columnCustomDisplayInfos": {},
       "data": [
        [
         "NA"
        ],
        [
         "Não"
        ],
        [
         "Sim"
        ]
       ],
       "datasetInfos": [],
       "dbfsResultPath": null,
       "isJsonSchema": true,
       "metadata": {},
       "overflow": false,
       "plotOptions": {
        "customPlotOptions": {},
        "displayType": "table",
        "pivotAggregation": null,
        "pivotColumns": null,
        "xColumns": null,
        "yColumns": null
       },
       "removedWidgets": [],
       "schema": [
        {
         "metadata": "{}",
         "name": "assistmed",
         "type": "\"string\""
        }
       ],
       "type": "table"
      }
     },
     "output_type": "display_data"
    }
   ],
   "source": [
    "%sql\n",
    "SELECT \n",
    "  distinct assistmed\n",
    "FROM \n",
    "  suicidios_br_bronze.ocorrencias\n",
    "ORDER BY assistmed;"
   ]
  },
  {
   "cell_type": "markdown",
   "metadata": {
    "application/vnd.databricks.v1+cell": {
     "cellMetadata": {
      "byteLimit": 2048000,
      "rowLimit": 10000
     },
     "inputWidgets": {},
     "nuid": "a8679c72-56ee-4900-afaf-c28fc9340bc7",
     "showTitle": false,
     "tableResultSettingsMap": {},
     "title": ""
    }
   },
   "source": [
    "#### Qualidade de dados - atributo 'escmae'\n",
    "\n",
    "**Resultado da análise de qualidade:**\n",
    "\n",
    "- **Não há problemas**. \n",
    "- Temos 5 possíveis opções válidas."
   ]
  },
  {
   "cell_type": "code",
   "execution_count": 0,
   "metadata": {
    "application/vnd.databricks.v1+cell": {
     "cellMetadata": {
      "byteLimit": 2048000,
      "implicitDf": true,
      "rowLimit": 10000
     },
     "inputWidgets": {},
     "nuid": "02ca74a5-2768-43c4-9971-ca5a329f7973",
     "showTitle": true,
     "tableResultSettingsMap": {},
     "title": "Distinct - coluna escmae"
    }
   },
   "outputs": [
    {
     "output_type": "display_data",
     "data": {
      "text/html": [
       "<style scoped>\n",
       "  .table-result-container {\n",
       "    max-height: 300px;\n",
       "    overflow: auto;\n",
       "  }\n",
       "  table, th, td {\n",
       "    border: 1px solid black;\n",
       "    border-collapse: collapse;\n",
       "  }\n",
       "  th, td {\n",
       "    padding: 5px;\n",
       "  }\n",
       "  th {\n",
       "    text-align: left;\n",
       "  }\n",
       "</style><div class='table-result-container'><table class='table-result'><thead style='background-color: white'><tr><th>escmae</th></tr></thead><tbody><tr><td>1 a 3 anos</td></tr><tr><td>12 e mais</td></tr><tr><td>4 a 7 anos</td></tr><tr><td>8 a 11 anos</td></tr><tr><td>NA</td></tr></tbody></table></div>"
      ]
     },
     "metadata": {
      "application/vnd.databricks.v1+output": {
       "addedWidgets": {},
       "aggData": [],
       "aggError": "",
       "aggOverflow": false,
       "aggSchema": [],
       "aggSeriesLimitReached": false,
       "aggType": "",
       "arguments": {},
       "columnCustomDisplayInfos": {},
       "data": [
        [
         "1 a 3 anos"
        ],
        [
         "12 e mais"
        ],
        [
         "4 a 7 anos"
        ],
        [
         "8 a 11 anos"
        ],
        [
         "NA"
        ]
       ],
       "datasetInfos": [],
       "dbfsResultPath": null,
       "isJsonSchema": true,
       "metadata": {},
       "overflow": false,
       "plotOptions": {
        "customPlotOptions": {},
        "displayType": "table",
        "pivotAggregation": null,
        "pivotColumns": null,
        "xColumns": null,
        "yColumns": null
       },
       "removedWidgets": [],
       "schema": [
        {
         "metadata": "{}",
         "name": "escmae",
         "type": "\"string\""
        }
       ],
       "type": "table"
      }
     },
     "output_type": "display_data"
    }
   ],
   "source": [
    "%sql\n",
    "SELECT \n",
    "  distinct escmae\n",
    "FROM \n",
    "  suicidios_br_bronze.ocorrencias\n",
    "ORDER BY escmae;"
   ]
  },
  {
   "cell_type": "markdown",
   "metadata": {
    "application/vnd.databricks.v1+cell": {
     "cellMetadata": {
      "byteLimit": 2048000,
      "rowLimit": 10000
     },
     "inputWidgets": {},
     "nuid": "de299c26-6d4d-4ce1-b24e-7885e82cb8df",
     "showTitle": false,
     "tableResultSettingsMap": {},
     "title": ""
    }
   },
   "source": [
    "#### Qualidade de dados - atributo 'estciv'\n",
    "\n",
    "**Resultado da análise de qualidade:**\n",
    "\n",
    "- **Não há problemas**. \n",
    "- Temos 6 possíveis opções válidas."
   ]
  },
  {
   "cell_type": "code",
   "execution_count": 0,
   "metadata": {
    "application/vnd.databricks.v1+cell": {
     "cellMetadata": {
      "byteLimit": 2048000,
      "implicitDf": true,
      "rowLimit": 10000
     },
     "inputWidgets": {},
     "nuid": "bbb415dc-68a0-459c-8e58-f26a8ff7f240",
     "showTitle": true,
     "tableResultSettingsMap": {},
     "title": "Distinct - coluna estciv"
    }
   },
   "outputs": [
    {
     "output_type": "display_data",
     "data": {
      "text/html": [
       "<style scoped>\n",
       "  .table-result-container {\n",
       "    max-height: 300px;\n",
       "    overflow: auto;\n",
       "  }\n",
       "  table, th, td {\n",
       "    border: 1px solid black;\n",
       "    border-collapse: collapse;\n",
       "  }\n",
       "  th, td {\n",
       "    padding: 5px;\n",
       "  }\n",
       "  th {\n",
       "    text-align: left;\n",
       "  }\n",
       "</style><div class='table-result-container'><table class='table-result'><thead style='background-color: white'><tr><th>estciv</th></tr></thead><tbody><tr><td>Casado/a</td></tr><tr><td>NA</td></tr><tr><td>Separado/a judicialmente</td></tr><tr><td>Solteiro/a</td></tr><tr><td>União consensual</td></tr><tr><td>Viúvo/a</td></tr></tbody></table></div>"
      ]
     },
     "metadata": {
      "application/vnd.databricks.v1+output": {
       "addedWidgets": {},
       "aggData": [],
       "aggError": "",
       "aggOverflow": false,
       "aggSchema": [],
       "aggSeriesLimitReached": false,
       "aggType": "",
       "arguments": {},
       "columnCustomDisplayInfos": {},
       "data": [
        [
         "Casado/a"
        ],
        [
         "NA"
        ],
        [
         "Separado/a judicialmente"
        ],
        [
         "Solteiro/a"
        ],
        [
         "União consensual"
        ],
        [
         "Viúvo/a"
        ]
       ],
       "datasetInfos": [],
       "dbfsResultPath": null,
       "isJsonSchema": true,
       "metadata": {},
       "overflow": false,
       "plotOptions": {
        "customPlotOptions": {},
        "displayType": "table",
        "pivotAggregation": null,
        "pivotColumns": null,
        "xColumns": null,
        "yColumns": null
       },
       "removedWidgets": [],
       "schema": [
        {
         "metadata": "{}",
         "name": "estciv",
         "type": "\"string\""
        }
       ],
       "type": "table"
      }
     },
     "output_type": "display_data"
    }
   ],
   "source": [
    "%sql\n",
    "SELECT \n",
    "  distinct estciv\n",
    "FROM \n",
    "  suicidios_br_bronze.ocorrencias\n",
    "ORDER BY estciv;"
   ]
  },
  {
   "cell_type": "markdown",
   "metadata": {
    "application/vnd.databricks.v1+cell": {
     "cellMetadata": {
      "byteLimit": 2048000,
      "rowLimit": 10000
     },
     "inputWidgets": {},
     "nuid": "8d97bb81-5dfd-4e88-a1d5-97c0985883ad",
     "showTitle": false,
     "tableResultSettingsMap": {},
     "title": ""
    }
   },
   "source": [
    "#### Qualidade de dados - atributo 'esc'\n",
    "\n",
    "**Resultado da análise de qualidade:**\n",
    "\n",
    "- **Não há problemas**. \n",
    "- Temos 6 possíveis opções válidas."
   ]
  },
  {
   "cell_type": "code",
   "execution_count": 0,
   "metadata": {
    "application/vnd.databricks.v1+cell": {
     "cellMetadata": {
      "byteLimit": 2048000,
      "implicitDf": true,
      "rowLimit": 10000
     },
     "inputWidgets": {},
     "nuid": "7d449e58-0fd4-47e4-b95f-b270759713f2",
     "showTitle": true,
     "tableResultSettingsMap": {},
     "title": "Distinct - esc"
    }
   },
   "outputs": [
    {
     "output_type": "display_data",
     "data": {
      "text/html": [
       "<style scoped>\n",
       "  .table-result-container {\n",
       "    max-height: 300px;\n",
       "    overflow: auto;\n",
       "  }\n",
       "  table, th, td {\n",
       "    border: 1px solid black;\n",
       "    border-collapse: collapse;\n",
       "  }\n",
       "  th, td {\n",
       "    padding: 5px;\n",
       "  }\n",
       "  th {\n",
       "    text-align: left;\n",
       "  }\n",
       "</style><div class='table-result-container'><table class='table-result'><thead style='background-color: white'><tr><th>esc</th></tr></thead><tbody><tr><td>1 a 3 anos</td></tr><tr><td>12 e mais</td></tr><tr><td>4 a 7 anos</td></tr><tr><td>8 a 11 anos</td></tr><tr><td>NA</td></tr><tr><td>Nenhuma</td></tr></tbody></table></div>"
      ]
     },
     "metadata": {
      "application/vnd.databricks.v1+output": {
       "addedWidgets": {},
       "aggData": [],
       "aggError": "",
       "aggOverflow": false,
       "aggSchema": [],
       "aggSeriesLimitReached": false,
       "aggType": "",
       "arguments": {},
       "columnCustomDisplayInfos": {},
       "data": [
        [
         "1 a 3 anos"
        ],
        [
         "12 e mais"
        ],
        [
         "4 a 7 anos"
        ],
        [
         "8 a 11 anos"
        ],
        [
         "NA"
        ],
        [
         "Nenhuma"
        ]
       ],
       "datasetInfos": [],
       "dbfsResultPath": null,
       "isJsonSchema": true,
       "metadata": {},
       "overflow": false,
       "plotOptions": {
        "customPlotOptions": {},
        "displayType": "table",
        "pivotAggregation": null,
        "pivotColumns": null,
        "xColumns": null,
        "yColumns": null
       },
       "removedWidgets": [],
       "schema": [
        {
         "metadata": "{}",
         "name": "esc",
         "type": "\"string\""
        }
       ],
       "type": "table"
      }
     },
     "output_type": "display_data"
    }
   ],
   "source": [
    "%sql\n",
    "SELECT \n",
    "  distinct esc\n",
    "FROM \n",
    "  suicidios_br_bronze.ocorrencias\n",
    "ORDER BY esc;"
   ]
  },
  {
   "cell_type": "markdown",
   "metadata": {
    "application/vnd.databricks.v1+cell": {
     "cellMetadata": {
      "byteLimit": 2048000,
      "rowLimit": 10000
     },
     "inputWidgets": {},
     "nuid": "cd80db37-2ff5-4144-8edf-1967dd541cc4",
     "showTitle": false,
     "tableResultSettingsMap": {},
     "title": ""
    }
   },
   "source": [
    "#### Qualidade de dados - atributo 'ocup'\n",
    "\n",
    "**Resultado da análise de qualidade:**\n",
    "\n",
    "- **Não há problemas**. \n",
    "- Temos mais de 800 possíveis opções válidas."
   ]
  },
  {
   "cell_type": "code",
   "execution_count": 0,
   "metadata": {
    "application/vnd.databricks.v1+cell": {
     "cellMetadata": {
      "byteLimit": 2048000,
      "implicitDf": true,
      "rowLimit": 10000
     },
     "inputWidgets": {},
     "nuid": "d5f2cae6-0d4e-4d19-b1d6-4a84fb6d7b99",
     "showTitle": true,
     "tableResultSettingsMap": {},
     "title": "Count - coluna ocup"
    }
   },
   "outputs": [
    {
     "output_type": "display_data",
     "data": {
      "text/html": [
       "<style scoped>\n",
       "  .table-result-container {\n",
       "    max-height: 300px;\n",
       "    overflow: auto;\n",
       "  }\n",
       "  table, th, td {\n",
       "    border: 1px solid black;\n",
       "    border-collapse: collapse;\n",
       "  }\n",
       "  th, td {\n",
       "    padding: 5px;\n",
       "  }\n",
       "  th {\n",
       "    text-align: left;\n",
       "  }\n",
       "</style><div class='table-result-container'><table class='table-result'><thead style='background-color: white'><tr><th>count(DISTINCT ocup)</th></tr></thead><tbody><tr><td>823</td></tr></tbody></table></div>"
      ]
     },
     "metadata": {
      "application/vnd.databricks.v1+output": {
       "addedWidgets": {},
       "aggData": [],
       "aggError": "",
       "aggOverflow": false,
       "aggSchema": [],
       "aggSeriesLimitReached": false,
       "aggType": "",
       "arguments": {},
       "columnCustomDisplayInfos": {},
       "data": [
        [
         823
        ]
       ],
       "datasetInfos": [],
       "dbfsResultPath": null,
       "isJsonSchema": true,
       "metadata": {},
       "overflow": false,
       "plotOptions": {
        "customPlotOptions": {},
        "displayType": "table",
        "pivotAggregation": null,
        "pivotColumns": null,
        "xColumns": null,
        "yColumns": null
       },
       "removedWidgets": [],
       "schema": [
        {
         "metadata": "{\"__autoGeneratedAlias\":\"true\"}",
         "name": "count(DISTINCT ocup)",
         "type": "\"long\""
        }
       ],
       "type": "table"
      }
     },
     "output_type": "display_data"
    }
   ],
   "source": [
    "%sql\n",
    "SELECT \n",
    "  count(distinct ocup)\n",
    "FROM \n",
    "  suicidios_br_bronze.ocorrencias;"
   ]
  },
  {
   "cell_type": "code",
   "execution_count": 0,
   "metadata": {
    "application/vnd.databricks.v1+cell": {
     "cellMetadata": {
      "byteLimit": 2048000,
      "implicitDf": true,
      "rowLimit": 10000
     },
     "inputWidgets": {},
     "nuid": "ab7a473a-5ffa-48cd-9335-6228c043602b",
     "showTitle": true,
     "tableResultSettingsMap": {},
     "title": "Distinct - coluna ocup"
    }
   },
   "outputs": [
    {
     "output_type": "display_data",
     "data": {
      "text/html": [
       "<style scoped>\n",
       "  .table-result-container {\n",
       "    max-height: 300px;\n",
       "    overflow: auto;\n",
       "  }\n",
       "  table, th, td {\n",
       "    border: 1px solid black;\n",
       "    border-collapse: collapse;\n",
       "  }\n",
       "  th, td {\n",
       "    padding: 5px;\n",
       "  }\n",
       "  th {\n",
       "    text-align: left;\n",
       "  }\n",
       "</style><div class='table-result-container'><table class='table-result'><thead style='background-color: white'><tr><th>ocup</th></tr></thead><tbody><tr><td>MEDICO CLINICO</td></tr><tr><td>ENGRAXATE</td></tr><tr><td>TECELAO (RENDAS E BORDADOS)</td></tr><tr><td>OPERADOR DE TELEMARKETING ATIVO</td></tr><tr><td>MOLDADOR, A MAO</td></tr></tbody></table></div>"
      ]
     },
     "metadata": {
      "application/vnd.databricks.v1+output": {
       "addedWidgets": {},
       "aggData": [],
       "aggError": "",
       "aggOverflow": false,
       "aggSchema": [],
       "aggSeriesLimitReached": false,
       "aggType": "",
       "arguments": {},
       "columnCustomDisplayInfos": {},
       "data": [
        [
         "MEDICO CLINICO"
        ],
        [
         "ENGRAXATE"
        ],
        [
         "TECELAO (RENDAS E BORDADOS)"
        ],
        [
         "OPERADOR DE TELEMARKETING ATIVO"
        ],
        [
         "MOLDADOR, A MAO"
        ]
       ],
       "datasetInfos": [],
       "dbfsResultPath": null,
       "isJsonSchema": true,
       "metadata": {},
       "overflow": false,
       "plotOptions": {
        "customPlotOptions": {},
        "displayType": "table",
        "pivotAggregation": null,
        "pivotColumns": null,
        "xColumns": null,
        "yColumns": null
       },
       "removedWidgets": [],
       "schema": [
        {
         "metadata": "{}",
         "name": "ocup",
         "type": "\"string\""
        }
       ],
       "type": "table"
      }
     },
     "output_type": "display_data"
    }
   ],
   "source": [
    "%sql\n",
    "SELECT \n",
    "  distinct ocup\n",
    "FROM \n",
    "  suicidios_br_bronze.ocorrencias\n",
    "limit 5;"
   ]
  },
  {
   "cell_type": "markdown",
   "metadata": {
    "application/vnd.databricks.v1+cell": {
     "cellMetadata": {
      "byteLimit": 2048000,
      "rowLimit": 10000
     },
     "inputWidgets": {},
     "nuid": "a0451b49-8bdc-4699-942c-6bc24dc6a825",
     "showTitle": false,
     "tableResultSettingsMap": {},
     "title": ""
    }
   },
   "source": [
    "#### Qualidade de dados - atributo 'codmunres'\n",
    "\n",
    "**Resultado da análise de qualidade:**\n",
    "\n",
    "- **Não há problemas**. \n",
    "- Temos mais de 5000 possíveis opções válidas."
   ]
  },
  {
   "cell_type": "code",
   "execution_count": 0,
   "metadata": {
    "application/vnd.databricks.v1+cell": {
     "cellMetadata": {
      "byteLimit": 2048000,
      "implicitDf": true,
      "rowLimit": 10000
     },
     "inputWidgets": {},
     "nuid": "b5b97c90-1895-4a26-a078-f155993343ac",
     "showTitle": true,
     "tableResultSettingsMap": {},
     "title": "Count - coluna codmunres"
    }
   },
   "outputs": [
    {
     "output_type": "display_data",
     "data": {
      "text/html": [
       "<style scoped>\n",
       "  .table-result-container {\n",
       "    max-height: 300px;\n",
       "    overflow: auto;\n",
       "  }\n",
       "  table, th, td {\n",
       "    border: 1px solid black;\n",
       "    border-collapse: collapse;\n",
       "  }\n",
       "  th, td {\n",
       "    padding: 5px;\n",
       "  }\n",
       "  th {\n",
       "    text-align: left;\n",
       "  }\n",
       "</style><div class='table-result-container'><table class='table-result'><thead style='background-color: white'><tr><th>count(DISTINCT codmunres)</th></tr></thead><tbody><tr><td>5143</td></tr></tbody></table></div>"
      ]
     },
     "metadata": {
      "application/vnd.databricks.v1+output": {
       "addedWidgets": {},
       "aggData": [],
       "aggError": "",
       "aggOverflow": false,
       "aggSchema": [],
       "aggSeriesLimitReached": false,
       "aggType": "",
       "arguments": {},
       "columnCustomDisplayInfos": {},
       "data": [
        [
         5143
        ]
       ],
       "datasetInfos": [],
       "dbfsResultPath": null,
       "isJsonSchema": true,
       "metadata": {},
       "overflow": false,
       "plotOptions": {
        "customPlotOptions": {},
        "displayType": "table",
        "pivotAggregation": null,
        "pivotColumns": null,
        "xColumns": null,
        "yColumns": null
       },
       "removedWidgets": [],
       "schema": [
        {
         "metadata": "{\"__autoGeneratedAlias\":\"true\"}",
         "name": "count(DISTINCT codmunres)",
         "type": "\"long\""
        }
       ],
       "type": "table"
      }
     },
     "output_type": "display_data"
    }
   ],
   "source": [
    "%sql\n",
    "SELECT \n",
    "  count(distinct codmunres)\n",
    "FROM \n",
    "  suicidios_br_bronze.ocorrencias;"
   ]
  },
  {
   "cell_type": "code",
   "execution_count": 0,
   "metadata": {
    "application/vnd.databricks.v1+cell": {
     "cellMetadata": {
      "byteLimit": 2048000,
      "implicitDf": true,
      "rowLimit": 10000
     },
     "inputWidgets": {},
     "nuid": "d4bcc868-5352-445c-bbc0-8f08ae9a646a",
     "showTitle": true,
     "tableResultSettingsMap": {},
     "title": "Distinct - coluna codmunres"
    }
   },
   "outputs": [
    {
     "output_type": "display_data",
     "data": {
      "text/html": [
       "<style scoped>\n",
       "  .table-result-container {\n",
       "    max-height: 300px;\n",
       "    overflow: auto;\n",
       "  }\n",
       "  table, th, td {\n",
       "    border: 1px solid black;\n",
       "    border-collapse: collapse;\n",
       "  }\n",
       "  th, td {\n",
       "    padding: 5px;\n",
       "  }\n",
       "  th {\n",
       "    text-align: left;\n",
       "  }\n",
       "</style><div class='table-result-container'><table class='table-result'><thead style='background-color: white'><tr><th>codmunres</th></tr></thead><tbody><tr><td>Senador Guiomard</td></tr><tr><td>Ribas do Rio Pardo</td></tr><tr><td>Piranguinho</td></tr><tr><td>Carrancas</td></tr><tr><td>Presidente Olegário</td></tr></tbody></table></div>"
      ]
     },
     "metadata": {
      "application/vnd.databricks.v1+output": {
       "addedWidgets": {},
       "aggData": [],
       "aggError": "",
       "aggOverflow": false,
       "aggSchema": [],
       "aggSeriesLimitReached": false,
       "aggType": "",
       "arguments": {},
       "columnCustomDisplayInfos": {},
       "data": [
        [
         "Senador Guiomard"
        ],
        [
         "Ribas do Rio Pardo"
        ],
        [
         "Piranguinho"
        ],
        [
         "Carrancas"
        ],
        [
         "Presidente Olegário"
        ]
       ],
       "datasetInfos": [],
       "dbfsResultPath": null,
       "isJsonSchema": true,
       "metadata": {},
       "overflow": false,
       "plotOptions": {
        "customPlotOptions": {},
        "displayType": "table",
        "pivotAggregation": null,
        "pivotColumns": null,
        "xColumns": null,
        "yColumns": null
       },
       "removedWidgets": [],
       "schema": [
        {
         "metadata": "{}",
         "name": "codmunres",
         "type": "\"string\""
        }
       ],
       "type": "table"
      }
     },
     "output_type": "display_data"
    }
   ],
   "source": [
    "%sql\n",
    "SELECT \n",
    "  distinct codmunres\n",
    "FROM \n",
    "  suicidios_br_bronze.ocorrencias\n",
    "LIMIT 5;"
   ]
  },
  {
   "cell_type": "markdown",
   "metadata": {
    "application/vnd.databricks.v1+cell": {
     "cellMetadata": {
      "byteLimit": 2048000,
      "rowLimit": 10000
     },
     "inputWidgets": {},
     "nuid": "0cf44333-9a42-4c7c-b8f4-e24ddd3f23a2",
     "showTitle": false,
     "tableResultSettingsMap": {},
     "title": ""
    }
   },
   "source": [
    "#### Qualidade de dados - atributo 'causabas'\n",
    "\n",
    "**Resultado da análise de qualidade:**\n",
    "\n",
    "- **Não há problemas**. \n",
    "- Temos mais de 380 possíveis opções válidas."
   ]
  },
  {
   "cell_type": "code",
   "execution_count": 0,
   "metadata": {
    "application/vnd.databricks.v1+cell": {
     "cellMetadata": {
      "byteLimit": 2048000,
      "implicitDf": true,
      "rowLimit": 10000
     },
     "inputWidgets": {},
     "nuid": "a5e86af0-d53f-49a1-81e6-83253a2d0f83",
     "showTitle": true,
     "tableResultSettingsMap": {},
     "title": "Count - coluna causabas"
    }
   },
   "outputs": [
    {
     "output_type": "display_data",
     "data": {
      "text/html": [
       "<style scoped>\n",
       "  .table-result-container {\n",
       "    max-height: 300px;\n",
       "    overflow: auto;\n",
       "  }\n",
       "  table, th, td {\n",
       "    border: 1px solid black;\n",
       "    border-collapse: collapse;\n",
       "  }\n",
       "  th, td {\n",
       "    padding: 5px;\n",
       "  }\n",
       "  th {\n",
       "    text-align: left;\n",
       "  }\n",
       "</style><div class='table-result-container'><table class='table-result'><thead style='background-color: white'><tr><th>count(DISTINCT causabas)</th></tr></thead><tbody><tr><td>385</td></tr></tbody></table></div>"
      ]
     },
     "metadata": {
      "application/vnd.databricks.v1+output": {
       "addedWidgets": {},
       "aggData": [],
       "aggError": "",
       "aggOverflow": false,
       "aggSchema": [],
       "aggSeriesLimitReached": false,
       "aggType": "",
       "arguments": {},
       "columnCustomDisplayInfos": {},
       "data": [
        [
         385
        ]
       ],
       "datasetInfos": [],
       "dbfsResultPath": null,
       "isJsonSchema": true,
       "metadata": {},
       "overflow": false,
       "plotOptions": {
        "customPlotOptions": {},
        "displayType": "table",
        "pivotAggregation": null,
        "pivotColumns": null,
        "xColumns": null,
        "yColumns": null
       },
       "removedWidgets": [],
       "schema": [
        {
         "metadata": "{\"__autoGeneratedAlias\":\"true\"}",
         "name": "count(DISTINCT causabas)",
         "type": "\"long\""
        }
       ],
       "type": "table"
      }
     },
     "output_type": "display_data"
    }
   ],
   "source": [
    "%sql\n",
    "SELECT \n",
    "  count(distinct causabas)\n",
    "FROM \n",
    "  suicidios_br_bronze.ocorrencias"
   ]
  },
  {
   "cell_type": "code",
   "execution_count": 0,
   "metadata": {
    "application/vnd.databricks.v1+cell": {
     "cellMetadata": {
      "byteLimit": 2048000,
      "implicitDf": true,
      "rowLimit": 10000
     },
     "inputWidgets": {},
     "nuid": "14331b18-81c7-4b80-b94b-b953460e5db5",
     "showTitle": true,
     "tableResultSettingsMap": {},
     "title": "Distinct - causabas"
    }
   },
   "outputs": [
    {
     "output_type": "display_data",
     "data": {
      "text/html": [
       "<style scoped>\n",
       "  .table-result-container {\n",
       "    max-height: 300px;\n",
       "    overflow: auto;\n",
       "  }\n",
       "  table, th, td {\n",
       "    border: 1px solid black;\n",
       "    border-collapse: collapse;\n",
       "  }\n",
       "  th, td {\n",
       "    padding: 5px;\n",
       "  }\n",
       "  th {\n",
       "    text-align: left;\n",
       "  }\n",
       "</style><div class='table-result-container'><table class='table-result'><thead style='background-color: white'><tr><th>causabas</th></tr></thead><tbody><tr><td>X990</td></tr><tr><td>X669</td></tr><tr><td>X825</td></tr><tr><td>X840</td></tr><tr><td>X724</td></tr></tbody></table></div>"
      ]
     },
     "metadata": {
      "application/vnd.databricks.v1+output": {
       "addedWidgets": {},
       "aggData": [],
       "aggError": "",
       "aggOverflow": false,
       "aggSchema": [],
       "aggSeriesLimitReached": false,
       "aggType": "",
       "arguments": {},
       "columnCustomDisplayInfos": {},
       "data": [
        [
         "X990"
        ],
        [
         "X669"
        ],
        [
         "X825"
        ],
        [
         "X840"
        ],
        [
         "X724"
        ]
       ],
       "datasetInfos": [],
       "dbfsResultPath": null,
       "isJsonSchema": true,
       "metadata": {},
       "overflow": false,
       "plotOptions": {
        "customPlotOptions": {},
        "displayType": "table",
        "pivotAggregation": null,
        "pivotColumns": null,
        "xColumns": null,
        "yColumns": null
       },
       "removedWidgets": [],
       "schema": [
        {
         "metadata": "{}",
         "name": "causabas",
         "type": "\"string\""
        }
       ],
       "type": "table"
      }
     },
     "output_type": "display_data"
    }
   ],
   "source": [
    "%sql\n",
    "SELECT \n",
    "  distinct causabas\n",
    "FROM \n",
    "  suicidios_br_bronze.ocorrencias\n",
    "LIMIT 5;"
   ]
  },
  {
   "cell_type": "markdown",
   "metadata": {
    "application/vnd.databricks.v1+cell": {
     "cellMetadata": {
      "byteLimit": 2048000,
      "rowLimit": 10000
     },
     "inputWidgets": {},
     "nuid": "5e85d1a9-26ff-4391-8b0a-b7d661c9eeac",
     "showTitle": false,
     "tableResultSettingsMap": {},
     "title": ""
    }
   },
   "source": [
    "#### Qualidade de dados - atributo 'causabas_o'\n",
    "\n",
    "**Resultado da análise de qualidade:**\n",
    "\n",
    "- **Não há problemas**. \n",
    "- Temos 640 possíveis opções válidas."
   ]
  },
  {
   "cell_type": "code",
   "execution_count": 0,
   "metadata": {
    "application/vnd.databricks.v1+cell": {
     "cellMetadata": {
      "byteLimit": 2048000,
      "implicitDf": true,
      "rowLimit": 10000
     },
     "inputWidgets": {},
     "nuid": "fc8d3c13-a38f-43b5-b9a5-ba568435b3cb",
     "showTitle": true,
     "tableResultSettingsMap": {},
     "title": "Count - coluna causabas_o"
    }
   },
   "outputs": [
    {
     "output_type": "display_data",
     "data": {
      "text/html": [
       "<style scoped>\n",
       "  .table-result-container {\n",
       "    max-height: 300px;\n",
       "    overflow: auto;\n",
       "  }\n",
       "  table, th, td {\n",
       "    border: 1px solid black;\n",
       "    border-collapse: collapse;\n",
       "  }\n",
       "  th, td {\n",
       "    padding: 5px;\n",
       "  }\n",
       "  th {\n",
       "    text-align: left;\n",
       "  }\n",
       "</style><div class='table-result-container'><table class='table-result'><thead style='background-color: white'><tr><th>count(DISTINCT causabas_o)</th></tr></thead><tbody><tr><td>640</td></tr></tbody></table></div>"
      ]
     },
     "metadata": {
      "application/vnd.databricks.v1+output": {
       "addedWidgets": {},
       "aggData": [],
       "aggError": "",
       "aggOverflow": false,
       "aggSchema": [],
       "aggSeriesLimitReached": false,
       "aggType": "",
       "arguments": {},
       "columnCustomDisplayInfos": {},
       "data": [
        [
         640
        ]
       ],
       "datasetInfos": [],
       "dbfsResultPath": null,
       "isJsonSchema": true,
       "metadata": {},
       "overflow": false,
       "plotOptions": {
        "customPlotOptions": {},
        "displayType": "table",
        "pivotAggregation": null,
        "pivotColumns": null,
        "xColumns": null,
        "yColumns": null
       },
       "removedWidgets": [],
       "schema": [
        {
         "metadata": "{\"__autoGeneratedAlias\":\"true\"}",
         "name": "count(DISTINCT causabas_o)",
         "type": "\"long\""
        }
       ],
       "type": "table"
      }
     },
     "output_type": "display_data"
    }
   ],
   "source": [
    "%sql\n",
    "SELECT \n",
    "  count(distinct causabas_o)\n",
    "FROM \n",
    "  suicidios_br_bronze.ocorrencias"
   ]
  },
  {
   "cell_type": "code",
   "execution_count": 0,
   "metadata": {
    "application/vnd.databricks.v1+cell": {
     "cellMetadata": {
      "byteLimit": 2048000,
      "implicitDf": true,
      "rowLimit": 10000
     },
     "inputWidgets": {},
     "nuid": "282e019a-66ca-467e-ae71-a0cd0fdbc823",
     "showTitle": true,
     "tableResultSettingsMap": {},
     "title": "Distinct - coluna causabas_o"
    }
   },
   "outputs": [
    {
     "output_type": "display_data",
     "data": {
      "text/html": [
       "<style scoped>\n",
       "  .table-result-container {\n",
       "    max-height: 300px;\n",
       "    overflow: auto;\n",
       "  }\n",
       "  table, th, td {\n",
       "    border: 1px solid black;\n",
       "    border-collapse: collapse;\n",
       "  }\n",
       "  th, td {\n",
       "    padding: 5px;\n",
       "  }\n",
       "  th {\n",
       "    text-align: left;\n",
       "  }\n",
       "</style><div class='table-result-container'><table class='table-result'><thead style='background-color: white'><tr><th>causabas_o</th></tr></thead><tbody><tr><td>X119</td></tr><tr><td>X669</td></tr><tr><td>X840</td></tr><tr><td>X724</td></tr><tr><td>X742</td></tr></tbody></table></div>"
      ]
     },
     "metadata": {
      "application/vnd.databricks.v1+output": {
       "addedWidgets": {},
       "aggData": [],
       "aggError": "",
       "aggOverflow": false,
       "aggSchema": [],
       "aggSeriesLimitReached": false,
       "aggType": "",
       "arguments": {},
       "columnCustomDisplayInfos": {},
       "data": [
        [
         "X119"
        ],
        [
         "X669"
        ],
        [
         "X840"
        ],
        [
         "X724"
        ],
        [
         "X742"
        ]
       ],
       "datasetInfos": [],
       "dbfsResultPath": null,
       "isJsonSchema": true,
       "metadata": {},
       "overflow": false,
       "plotOptions": {
        "customPlotOptions": {},
        "displayType": "table",
        "pivotAggregation": null,
        "pivotColumns": null,
        "xColumns": null,
        "yColumns": null
       },
       "removedWidgets": [],
       "schema": [
        {
         "metadata": "{}",
         "name": "causabas_o",
         "type": "\"string\""
        }
       ],
       "type": "table"
      }
     },
     "output_type": "display_data"
    }
   ],
   "source": [
    "%sql\n",
    "SELECT \n",
    "  distinct causabas_o\n",
    "FROM \n",
    "  suicidios_br_bronze.ocorrencias\n",
    "LIMIT 5;"
   ]
  },
  {
   "cell_type": "markdown",
   "metadata": {
    "application/vnd.databricks.v1+cell": {
     "cellMetadata": {
      "byteLimit": 2048000,
      "rowLimit": 10000
     },
     "inputWidgets": {},
     "nuid": "9b2fd7da-27dc-42da-a504-0430b51f16ea",
     "showTitle": false,
     "tableResultSettingsMap": {},
     "title": ""
    }
   },
   "source": [
    "#### Qualidade de dados - atributo 'lococor'\n",
    "\n",
    "**Resultado da análise de qualidade:**\n",
    "\n",
    "- **Não há problemas**. \n",
    "- Temos 6 possíveis opções válidas."
   ]
  },
  {
   "cell_type": "code",
   "execution_count": 0,
   "metadata": {
    "application/vnd.databricks.v1+cell": {
     "cellMetadata": {
      "byteLimit": 2048000,
      "implicitDf": true,
      "rowLimit": 10000
     },
     "inputWidgets": {},
     "nuid": "9bc7e388-d23b-4905-b04f-261eec06a508",
     "showTitle": true,
     "tableResultSettingsMap": {},
     "title": "Distinct - coluna lococor"
    }
   },
   "outputs": [
    {
     "output_type": "display_data",
     "data": {
      "text/html": [
       "<style scoped>\n",
       "  .table-result-container {\n",
       "    max-height: 300px;\n",
       "    overflow: auto;\n",
       "  }\n",
       "  table, th, td {\n",
       "    border: 1px solid black;\n",
       "    border-collapse: collapse;\n",
       "  }\n",
       "  th, td {\n",
       "    padding: 5px;\n",
       "  }\n",
       "  th {\n",
       "    text-align: left;\n",
       "  }\n",
       "</style><div class='table-result-container'><table class='table-result'><thead style='background-color: white'><tr><th>LOCOCOR</th></tr></thead><tbody><tr><td>Domicílio</td></tr><tr><td>Hospital</td></tr><tr><td>NA</td></tr><tr><td>Outro estabelecimento de saúde</td></tr><tr><td>Outros</td></tr><tr><td>Via pública</td></tr></tbody></table></div>"
      ]
     },
     "metadata": {
      "application/vnd.databricks.v1+output": {
       "addedWidgets": {},
       "aggData": [],
       "aggError": "",
       "aggOverflow": false,
       "aggSchema": [],
       "aggSeriesLimitReached": false,
       "aggType": "",
       "arguments": {},
       "columnCustomDisplayInfos": {},
       "data": [
        [
         "Domicílio"
        ],
        [
         "Hospital"
        ],
        [
         "NA"
        ],
        [
         "Outro estabelecimento de saúde"
        ],
        [
         "Outros"
        ],
        [
         "Via pública"
        ]
       ],
       "datasetInfos": [],
       "dbfsResultPath": null,
       "isJsonSchema": true,
       "metadata": {},
       "overflow": false,
       "plotOptions": {
        "customPlotOptions": {},
        "displayType": "table",
        "pivotAggregation": null,
        "pivotColumns": null,
        "xColumns": null,
        "yColumns": null
       },
       "removedWidgets": [],
       "schema": [
        {
         "metadata": "{}",
         "name": "LOCOCOR",
         "type": "\"string\""
        }
       ],
       "type": "table"
      }
     },
     "output_type": "display_data"
    }
   ],
   "source": [
    "%sql\n",
    "SELECT \n",
    "  distinct LOCOCOR\n",
    "FROM \n",
    "  suicidios_br_bronze.ocorrencias\n",
    "order BY\n",
    "  lococor;"
   ]
  },
  {
   "cell_type": "markdown",
   "metadata": {
    "application/vnd.databricks.v1+cell": {
     "cellMetadata": {
      "byteLimit": 2048000,
      "rowLimit": 10000
     },
     "inputWidgets": {},
     "nuid": "793eff5d-cb11-4b1c-b26d-724966e18849",
     "showTitle": false,
     "tableResultSettingsMap": {},
     "title": ""
    }
   },
   "source": [
    "#### Qualidade de dados - atributo 'cirurgia'\n",
    "\n",
    "**Resultado da análise de qualidade:**\n",
    "\n",
    "- **Não há problemas**. \n",
    "- Temos 3 possíveis opções válidas."
   ]
  },
  {
   "cell_type": "code",
   "execution_count": 0,
   "metadata": {
    "application/vnd.databricks.v1+cell": {
     "cellMetadata": {
      "byteLimit": 2048000,
      "implicitDf": true,
      "rowLimit": 10000
     },
     "inputWidgets": {},
     "nuid": "e13bee98-415f-477b-bd68-3d444705dba0",
     "showTitle": true,
     "tableResultSettingsMap": {},
     "title": "Distinct - coluna cirurgia"
    }
   },
   "outputs": [
    {
     "output_type": "display_data",
     "data": {
      "text/html": [
       "<style scoped>\n",
       "  .table-result-container {\n",
       "    max-height: 300px;\n",
       "    overflow: auto;\n",
       "  }\n",
       "  table, th, td {\n",
       "    border: 1px solid black;\n",
       "    border-collapse: collapse;\n",
       "  }\n",
       "  th, td {\n",
       "    padding: 5px;\n",
       "  }\n",
       "  th {\n",
       "    text-align: left;\n",
       "  }\n",
       "</style><div class='table-result-container'><table class='table-result'><thead style='background-color: white'><tr><th>CIRURGIA</th></tr></thead><tbody><tr><td>NA</td></tr><tr><td>Não</td></tr><tr><td>Sim</td></tr></tbody></table></div>"
      ]
     },
     "metadata": {
      "application/vnd.databricks.v1+output": {
       "addedWidgets": {},
       "aggData": [],
       "aggError": "",
       "aggOverflow": false,
       "aggSchema": [],
       "aggSeriesLimitReached": false,
       "aggType": "",
       "arguments": {},
       "columnCustomDisplayInfos": {},
       "data": [
        [
         "NA"
        ],
        [
         "Não"
        ],
        [
         "Sim"
        ]
       ],
       "datasetInfos": [],
       "dbfsResultPath": null,
       "isJsonSchema": true,
       "metadata": {},
       "overflow": false,
       "plotOptions": {
        "customPlotOptions": {},
        "displayType": "table",
        "pivotAggregation": null,
        "pivotColumns": null,
        "xColumns": null,
        "yColumns": null
       },
       "removedWidgets": [],
       "schema": [
        {
         "metadata": "{}",
         "name": "CIRURGIA",
         "type": "\"string\""
        }
       ],
       "type": "table"
      }
     },
     "output_type": "display_data"
    }
   ],
   "source": [
    "%sql\n",
    "SELECT \n",
    "  distinct CIRURGIA\n",
    "FROM \n",
    "  suicidios_br_bronze.ocorrencias\n",
    "order BY\n",
    "  CIRURGIA;"
   ]
  },
  {
   "cell_type": "markdown",
   "metadata": {
    "application/vnd.databricks.v1+cell": {
     "cellMetadata": {
      "byteLimit": 2048000,
      "rowLimit": 10000
     },
     "inputWidgets": {},
     "nuid": "48091c8a-f893-4d9e-9f26-c27d092a5fd2",
     "showTitle": false,
     "tableResultSettingsMap": {},
     "title": ""
    }
   },
   "source": [
    "###Carregando dados na camada silver"
   ]
  },
  {
   "cell_type": "code",
   "execution_count": 0,
   "metadata": {
    "application/vnd.databricks.v1+cell": {
     "cellMetadata": {
      "byteLimit": 2048000,
      "implicitDf": true,
      "rowLimit": 10000
     },
     "inputWidgets": {},
     "nuid": "08e48bd3-f138-480a-bc6c-5b56411a0275",
     "showTitle": true,
     "tableResultSettingsMap": {},
     "title": "Trabalhando com a camada silver"
    }
   },
   "outputs": [
    {
     "output_type": "display_data",
     "data": {
      "text/html": [
       "<style scoped>\n",
       "  .table-result-container {\n",
       "    max-height: 300px;\n",
       "    overflow: auto;\n",
       "  }\n",
       "  table, th, td {\n",
       "    border: 1px solid black;\n",
       "    border-collapse: collapse;\n",
       "  }\n",
       "  th, td {\n",
       "    padding: 5px;\n",
       "  }\n",
       "  th {\n",
       "    text-align: left;\n",
       "  }\n",
       "</style><div class='table-result-container'><table class='table-result'><thead style='background-color: white'><tr></tr></thead><tbody></tbody></table></div>"
      ]
     },
     "metadata": {
      "application/vnd.databricks.v1+output": {
       "addedWidgets": {},
       "aggData": [],
       "aggError": "",
       "aggOverflow": false,
       "aggSchema": [],
       "aggSeriesLimitReached": false,
       "aggType": "",
       "arguments": {},
       "columnCustomDisplayInfos": {},
       "data": [],
       "datasetInfos": [],
       "dbfsResultPath": null,
       "isJsonSchema": true,
       "metadata": {},
       "overflow": false,
       "plotOptions": {
        "customPlotOptions": {},
        "displayType": "table",
        "pivotAggregation": null,
        "pivotColumns": null,
        "xColumns": null,
        "yColumns": null
       },
       "removedWidgets": [],
       "schema": [],
       "type": "table"
      }
     },
     "output_type": "display_data"
    }
   ],
   "source": [
    "%sql\n",
    "USE DATABASE suicidios_br_silver;"
   ]
  },
  {
   "cell_type": "markdown",
   "metadata": {
    "application/vnd.databricks.v1+cell": {
     "cellMetadata": {
      "byteLimit": 2048000,
      "rowLimit": 10000
     },
     "inputWidgets": {},
     "nuid": "faaef882-ac98-4051-a687-30ced9bf0599",
     "showTitle": false,
     "tableResultSettingsMap": {},
     "title": ""
    }
   },
   "source": [
    "**Criação da nova coluna CD_CID**\n",
    "\n",
    "Conforme mencionado no início deste documento, criaremos uma nova coluna para armazenar o código CID. Esta coluna irá receber valores oriundos dos atributos 'CAUSABAS' ou 'CAUSABAS_O', seguindo a regra já citada anteriormente (códigos variando entre X600 e X850).\n",
    "\n",
    "**Importante mencionar que: as colunas 'CAUSABAS' e 'CAUSABAS_O' não farão parte da entidade OCORRENCIAS da camada SILVER.**"
   ]
  },
  {
   "cell_type": "code",
   "execution_count": 0,
   "metadata": {
    "application/vnd.databricks.v1+cell": {
     "cellMetadata": {
      "byteLimit": 2048000,
      "implicitDf": true,
      "rowLimit": 10000
     },
     "inputWidgets": {},
     "nuid": "61adc364-1124-4d15-bfb7-88277e1aab0f",
     "showTitle": true,
     "tableResultSettingsMap": {},
     "title": "Gerando nova coluna de CID"
    }
   },
   "outputs": [
    {
     "output_type": "display_data",
     "data": {
      "text/html": [
       "<style scoped>\n",
       "  .table-result-container {\n",
       "    max-height: 300px;\n",
       "    overflow: auto;\n",
       "  }\n",
       "  table, th, td {\n",
       "    border: 1px solid black;\n",
       "    border-collapse: collapse;\n",
       "  }\n",
       "  th, td {\n",
       "    padding: 5px;\n",
       "  }\n",
       "  th {\n",
       "    text-align: left;\n",
       "  }\n",
       "</style><div class='table-result-container'><table class='table-result'><thead style='background-color: white'><tr><th>estado</th><th>DTOBITO</th><th>DTNASC</th><th>SEXO</th><th>RACACOR</th><th>ASSISTMED</th><th>ESTCIV</th><th>ESC</th><th>OCUP</th><th>CODMUNRES</th><th>LOCOCOR</th><th>CD_CID</th></tr></thead><tbody><tr><td>AC</td><td>2010-01-31</td><td>1999-11-09</td><td>Masculino</td><td>Parda</td><td>NA</td><td>Solteiro/a</td><td>1 a 3 anos</td><td>ESTUDANTE</td><td>Tarauacá</td><td>Via pública</td><td>X780</td></tr><tr><td>AC</td><td>2010-02-07</td><td>1985-09-23</td><td>Masculino</td><td>Parda</td><td>NA</td><td>Solteiro/a</td><td>1 a 3 anos</td><td>ESTUDANTE</td><td>Tarauacá</td><td>Hospital</td><td>X780</td></tr><tr><td>AC</td><td>2010-02-19</td><td>1995-08-06</td><td>Masculino</td><td>Parda</td><td>NA</td><td>Solteiro/a</td><td>1 a 3 anos</td><td>ESTUDANTE</td><td>Tarauacá</td><td>Hospital</td><td>X780</td></tr><tr><td>AC</td><td>2010-04-20</td><td>1983-12-25</td><td>Feminino</td><td>Parda</td><td>NA</td><td>Casado/a</td><td>1 a 3 anos</td><td>DONA DE CASA</td><td>Tarauacá</td><td>Domicílio</td><td>X780</td></tr><tr><td>AC</td><td>2010-07-24</td><td>1982-05-13</td><td>Masculino</td><td>Parda</td><td>NA</td><td>Casado/a</td><td>NA</td><td>DONA DE CASA</td><td>Tarauacá</td><td>Domicílio</td><td>X720</td></tr></tbody></table></div>"
      ]
     },
     "metadata": {
      "application/vnd.databricks.v1+output": {
       "addedWidgets": {},
       "aggData": [],
       "aggError": "",
       "aggOverflow": false,
       "aggSchema": [],
       "aggSeriesLimitReached": false,
       "aggType": "",
       "arguments": {},
       "columnCustomDisplayInfos": {},
       "data": [
        [
         "AC",
         "2010-01-31",
         "1999-11-09",
         "Masculino",
         "Parda",
         "NA",
         "Solteiro/a",
         "1 a 3 anos",
         "ESTUDANTE",
         "Tarauacá",
         "Via pública",
         "X780"
        ],
        [
         "AC",
         "2010-02-07",
         "1985-09-23",
         "Masculino",
         "Parda",
         "NA",
         "Solteiro/a",
         "1 a 3 anos",
         "ESTUDANTE",
         "Tarauacá",
         "Hospital",
         "X780"
        ],
        [
         "AC",
         "2010-02-19",
         "1995-08-06",
         "Masculino",
         "Parda",
         "NA",
         "Solteiro/a",
         "1 a 3 anos",
         "ESTUDANTE",
         "Tarauacá",
         "Hospital",
         "X780"
        ],
        [
         "AC",
         "2010-04-20",
         "1983-12-25",
         "Feminino",
         "Parda",
         "NA",
         "Casado/a",
         "1 a 3 anos",
         "DONA DE CASA",
         "Tarauacá",
         "Domicílio",
         "X780"
        ],
        [
         "AC",
         "2010-07-24",
         "1982-05-13",
         "Masculino",
         "Parda",
         "NA",
         "Casado/a",
         "NA",
         "DONA DE CASA",
         "Tarauacá",
         "Domicílio",
         "X720"
        ]
       ],
       "datasetInfos": [],
       "dbfsResultPath": null,
       "isJsonSchema": true,
       "metadata": {},
       "overflow": false,
       "plotOptions": {
        "customPlotOptions": {},
        "displayType": "table",
        "pivotAggregation": null,
        "pivotColumns": null,
        "xColumns": null,
        "yColumns": null
       },
       "removedWidgets": [],
       "schema": [
        {
         "metadata": "{}",
         "name": "estado",
         "type": "\"string\""
        },
        {
         "metadata": "{\"__detected_date_formats\":\"yyyy-M-d\"}",
         "name": "DTOBITO",
         "type": "\"date\""
        },
        {
         "metadata": "{}",
         "name": "DTNASC",
         "type": "\"string\""
        },
        {
         "metadata": "{}",
         "name": "SEXO",
         "type": "\"string\""
        },
        {
         "metadata": "{}",
         "name": "RACACOR",
         "type": "\"string\""
        },
        {
         "metadata": "{}",
         "name": "ASSISTMED",
         "type": "\"string\""
        },
        {
         "metadata": "{}",
         "name": "ESTCIV",
         "type": "\"string\""
        },
        {
         "metadata": "{}",
         "name": "ESC",
         "type": "\"string\""
        },
        {
         "metadata": "{}",
         "name": "OCUP",
         "type": "\"string\""
        },
        {
         "metadata": "{}",
         "name": "CODMUNRES",
         "type": "\"string\""
        },
        {
         "metadata": "{}",
         "name": "LOCOCOR",
         "type": "\"string\""
        },
        {
         "metadata": "{}",
         "name": "CD_CID",
         "type": "\"string\""
        }
       ],
       "type": "table"
      }
     },
     "output_type": "display_data"
    }
   ],
   "source": [
    "%sql\n",
    "SELECT \n",
    "      estado, \n",
    "      DTOBITO,\n",
    "      CASE\n",
    "        WHEN (DTNASC <> 'NA') AND (YEAR(DTNASC) NOT BETWEEN 1900 AND 2025) THEN 'NA'\n",
    "        ELSE DTNASC\n",
    "      END AS DTNASC, \n",
    "      SEXO, \n",
    "      RACACOR, \n",
    "      ASSISTMED, \n",
    "      ESTCIV, \n",
    "      ESC, \n",
    "      OCUP, \n",
    "      CODMUNRES, \n",
    "      LOCOCOR,\n",
    "      CASE \n",
    "        WHEN CAUSABAS RLIKE '^X(6[0-9]{2}|7[0-9]{2}|8[0-4][0-9]|850)$' THEN CAUSABAS\n",
    "        WHEN CAUSABAS_O RLIKE '^X(6[0-9]{2}|7[0-9]{2}|8[0-4][0-9]|850)$' THEN CAUSABAS_O\n",
    "      END AS CD_CID\n",
    "FROM suicidios_br_bronze.ocorrencias\n",
    "LIMIT 5"
   ]
  },
  {
   "cell_type": "code",
   "execution_count": 0,
   "metadata": {
    "application/vnd.databricks.v1+cell": {
     "cellMetadata": {
      "byteLimit": 2048000,
      "implicitDf": true,
      "rowLimit": 10000
     },
     "inputWidgets": {},
     "nuid": "12ba0a8a-5e06-42ce-b21d-60c61f47523c",
     "showTitle": true,
     "tableResultSettingsMap": {},
     "title": "Criando tabela de ocorrências na camada silver"
    }
   },
   "outputs": [
    {
     "output_type": "display_data",
     "data": {
      "text/html": [
       "<style scoped>\n",
       "  .table-result-container {\n",
       "    max-height: 300px;\n",
       "    overflow: auto;\n",
       "  }\n",
       "  table, th, td {\n",
       "    border: 1px solid black;\n",
       "    border-collapse: collapse;\n",
       "  }\n",
       "  th, td {\n",
       "    padding: 5px;\n",
       "  }\n",
       "  th {\n",
       "    text-align: left;\n",
       "  }\n",
       "</style><div class='table-result-container'><table class='table-result'><thead style='background-color: white'><tr><th>num_affected_rows</th><th>num_inserted_rows</th></tr></thead><tbody></tbody></table></div>"
      ]
     },
     "metadata": {
      "application/vnd.databricks.v1+output": {
       "addedWidgets": {},
       "aggData": [],
       "aggError": "",
       "aggOverflow": false,
       "aggSchema": [],
       "aggSeriesLimitReached": false,
       "aggType": "",
       "arguments": {},
       "columnCustomDisplayInfos": {},
       "data": [],
       "datasetInfos": [],
       "dbfsResultPath": null,
       "isJsonSchema": true,
       "metadata": {},
       "overflow": false,
       "plotOptions": {
        "customPlotOptions": {},
        "displayType": "table",
        "pivotAggregation": null,
        "pivotColumns": null,
        "xColumns": null,
        "yColumns": null
       },
       "removedWidgets": [],
       "schema": [
        {
         "metadata": "{}",
         "name": "num_affected_rows",
         "type": "\"long\""
        },
        {
         "metadata": "{}",
         "name": "num_inserted_rows",
         "type": "\"long\""
        }
       ],
       "type": "table"
      }
     },
     "output_type": "display_data"
    }
   ],
   "source": [
    "%sql\n",
    "CREATE TABLE suicidios_br_silver.ocorrencias AS\n",
    "SELECT \n",
    "      estado, \n",
    "      DTOBITO,\n",
    "      CASE\n",
    "        WHEN (DTNASC <> 'NA') AND (YEAR(DTNASC) NOT BETWEEN 1900 AND 2025) THEN 'NA'\n",
    "        ELSE DTNASC\n",
    "      END AS DTNASC,  \n",
    "      SEXO, \n",
    "      RACACOR, \n",
    "      ASSISTMED, \n",
    "      ESTCIV, \n",
    "      ESC, \n",
    "      OCUP, \n",
    "      CODMUNRES, \n",
    "      LOCOCOR,\n",
    "      CASE \n",
    "        WHEN CAUSABAS RLIKE '^X(6[0-9]{2}|7[0-9]{2}|8[0-4][0-9]|850)$' THEN CAUSABAS\n",
    "        WHEN CAUSABAS_O RLIKE '^X(6[0-9]{2}|7[0-9]{2}|8[0-4][0-9]|850)$' THEN CAUSABAS_O\n",
    "      END AS CD_CID\n",
    "FROM suicidios_br_bronze.ocorrencias"
   ]
  },
  {
   "cell_type": "code",
   "execution_count": 0,
   "metadata": {
    "application/vnd.databricks.v1+cell": {
     "cellMetadata": {
      "byteLimit": 2048000,
      "implicitDf": true,
      "rowLimit": 10000
     },
     "inputWidgets": {},
     "nuid": "e4e14e85-e716-45a2-be48-bc6e4b03e1eb",
     "showTitle": true,
     "tableResultSettingsMap": {},
     "title": "Amostra de dados na camada silver - Ocorrencias"
    }
   },
   "outputs": [
    {
     "output_type": "display_data",
     "data": {
      "text/html": [
       "<style scoped>\n",
       "  .table-result-container {\n",
       "    max-height: 300px;\n",
       "    overflow: auto;\n",
       "  }\n",
       "  table, th, td {\n",
       "    border: 1px solid black;\n",
       "    border-collapse: collapse;\n",
       "  }\n",
       "  th, td {\n",
       "    padding: 5px;\n",
       "  }\n",
       "  th {\n",
       "    text-align: left;\n",
       "  }\n",
       "</style><div class='table-result-container'><table class='table-result'><thead style='background-color: white'><tr><th>estado</th><th>DTOBITO</th><th>DTNASC</th><th>SEXO</th><th>RACACOR</th><th>ASSISTMED</th><th>ESTCIV</th><th>ESC</th><th>OCUP</th><th>CODMUNRES</th><th>LOCOCOR</th><th>CD_CID</th></tr></thead><tbody><tr><td>AC</td><td>2010-01-31</td><td>1999-11-09</td><td>Masculino</td><td>Parda</td><td>NA</td><td>Solteiro/a</td><td>1 a 3 anos</td><td>ESTUDANTE</td><td>Tarauacá</td><td>Via pública</td><td>X780</td></tr><tr><td>AC</td><td>2010-02-07</td><td>1985-09-23</td><td>Masculino</td><td>Parda</td><td>NA</td><td>Solteiro/a</td><td>1 a 3 anos</td><td>ESTUDANTE</td><td>Tarauacá</td><td>Hospital</td><td>X780</td></tr><tr><td>AC</td><td>2010-02-19</td><td>1995-08-06</td><td>Masculino</td><td>Parda</td><td>NA</td><td>Solteiro/a</td><td>1 a 3 anos</td><td>ESTUDANTE</td><td>Tarauacá</td><td>Hospital</td><td>X780</td></tr><tr><td>AC</td><td>2010-04-20</td><td>1983-12-25</td><td>Feminino</td><td>Parda</td><td>NA</td><td>Casado/a</td><td>1 a 3 anos</td><td>DONA DE CASA</td><td>Tarauacá</td><td>Domicílio</td><td>X780</td></tr><tr><td>AC</td><td>2010-07-24</td><td>1982-05-13</td><td>Masculino</td><td>Parda</td><td>NA</td><td>Casado/a</td><td>NA</td><td>DONA DE CASA</td><td>Tarauacá</td><td>Domicílio</td><td>X720</td></tr><tr><td>AC</td><td>2010-04-30</td><td>1967-07-13</td><td>Feminino</td><td>Preta</td><td>NA</td><td>Solteiro/a</td><td>4 a 7 anos</td><td>DONA DE CASA</td><td>Tarauacá</td><td>Hospital</td><td>X780</td></tr><tr><td>AC</td><td>2010-01-15</td><td>1979-09-05</td><td>Masculino</td><td>Parda</td><td>NA</td><td>Solteiro/a</td><td>4 a 7 anos</td><td>NA</td><td>Rio Branco</td><td>Domicílio</td><td>X700</td></tr><tr><td>AC</td><td>2010-01-16</td><td>1994-01-19</td><td>Masculino</td><td>Parda</td><td>NA</td><td>Solteiro/a</td><td>NA</td><td>NA</td><td>Rio Branco</td><td>Domicílio</td><td>X700</td></tr><tr><td>AC</td><td>2010-09-15</td><td>1952-04-14</td><td>Masculino</td><td>Parda</td><td>NA</td><td>Solteiro/a</td><td>NA</td><td>NA</td><td>Rio Branco</td><td>Domicílio</td><td>X629</td></tr><tr><td>AC</td><td>2010-09-03</td><td>1968-08-14</td><td>Masculino</td><td>Parda</td><td>NA</td><td>Solteiro/a</td><td>NA</td><td>NA</td><td>Epitaciolândia</td><td>Domicílio</td><td>X747</td></tr></tbody></table></div>"
      ]
     },
     "metadata": {
      "application/vnd.databricks.v1+output": {
       "addedWidgets": {},
       "aggData": [],
       "aggError": "",
       "aggOverflow": false,
       "aggSchema": [],
       "aggSeriesLimitReached": false,
       "aggType": "",
       "arguments": {},
       "columnCustomDisplayInfos": {},
       "data": [
        [
         "AC",
         "2010-01-31",
         "1999-11-09",
         "Masculino",
         "Parda",
         "NA",
         "Solteiro/a",
         "1 a 3 anos",
         "ESTUDANTE",
         "Tarauacá",
         "Via pública",
         "X780"
        ],
        [
         "AC",
         "2010-02-07",
         "1985-09-23",
         "Masculino",
         "Parda",
         "NA",
         "Solteiro/a",
         "1 a 3 anos",
         "ESTUDANTE",
         "Tarauacá",
         "Hospital",
         "X780"
        ],
        [
         "AC",
         "2010-02-19",
         "1995-08-06",
         "Masculino",
         "Parda",
         "NA",
         "Solteiro/a",
         "1 a 3 anos",
         "ESTUDANTE",
         "Tarauacá",
         "Hospital",
         "X780"
        ],
        [
         "AC",
         "2010-04-20",
         "1983-12-25",
         "Feminino",
         "Parda",
         "NA",
         "Casado/a",
         "1 a 3 anos",
         "DONA DE CASA",
         "Tarauacá",
         "Domicílio",
         "X780"
        ],
        [
         "AC",
         "2010-07-24",
         "1982-05-13",
         "Masculino",
         "Parda",
         "NA",
         "Casado/a",
         "NA",
         "DONA DE CASA",
         "Tarauacá",
         "Domicílio",
         "X720"
        ],
        [
         "AC",
         "2010-04-30",
         "1967-07-13",
         "Feminino",
         "Preta",
         "NA",
         "Solteiro/a",
         "4 a 7 anos",
         "DONA DE CASA",
         "Tarauacá",
         "Hospital",
         "X780"
        ],
        [
         "AC",
         "2010-01-15",
         "1979-09-05",
         "Masculino",
         "Parda",
         "NA",
         "Solteiro/a",
         "4 a 7 anos",
         "NA",
         "Rio Branco",
         "Domicílio",
         "X700"
        ],
        [
         "AC",
         "2010-01-16",
         "1994-01-19",
         "Masculino",
         "Parda",
         "NA",
         "Solteiro/a",
         "NA",
         "NA",
         "Rio Branco",
         "Domicílio",
         "X700"
        ],
        [
         "AC",
         "2010-09-15",
         "1952-04-14",
         "Masculino",
         "Parda",
         "NA",
         "Solteiro/a",
         "NA",
         "NA",
         "Rio Branco",
         "Domicílio",
         "X629"
        ],
        [
         "AC",
         "2010-09-03",
         "1968-08-14",
         "Masculino",
         "Parda",
         "NA",
         "Solteiro/a",
         "NA",
         "NA",
         "Epitaciolândia",
         "Domicílio",
         "X747"
        ]
       ],
       "datasetInfos": [],
       "dbfsResultPath": null,
       "isJsonSchema": true,
       "metadata": {},
       "overflow": false,
       "plotOptions": {
        "customPlotOptions": {},
        "displayType": "table",
        "pivotAggregation": null,
        "pivotColumns": null,
        "xColumns": null,
        "yColumns": null
       },
       "removedWidgets": [],
       "schema": [
        {
         "metadata": "{}",
         "name": "estado",
         "type": "\"string\""
        },
        {
         "metadata": "{\"__detected_date_formats\":\"yyyy-M-d\"}",
         "name": "DTOBITO",
         "type": "\"date\""
        },
        {
         "metadata": "{}",
         "name": "DTNASC",
         "type": "\"string\""
        },
        {
         "metadata": "{}",
         "name": "SEXO",
         "type": "\"string\""
        },
        {
         "metadata": "{}",
         "name": "RACACOR",
         "type": "\"string\""
        },
        {
         "metadata": "{}",
         "name": "ASSISTMED",
         "type": "\"string\""
        },
        {
         "metadata": "{}",
         "name": "ESTCIV",
         "type": "\"string\""
        },
        {
         "metadata": "{}",
         "name": "ESC",
         "type": "\"string\""
        },
        {
         "metadata": "{}",
         "name": "OCUP",
         "type": "\"string\""
        },
        {
         "metadata": "{}",
         "name": "CODMUNRES",
         "type": "\"string\""
        },
        {
         "metadata": "{}",
         "name": "LOCOCOR",
         "type": "\"string\""
        },
        {
         "metadata": "{}",
         "name": "CD_CID",
         "type": "\"string\""
        }
       ],
       "type": "table"
      }
     },
     "output_type": "display_data"
    }
   ],
   "source": [
    "%sql\n",
    "SELECT * FROM ocorrencias LIMIT 10"
   ]
  },
  {
   "cell_type": "code",
   "execution_count": 0,
   "metadata": {
    "application/vnd.databricks.v1+cell": {
     "cellMetadata": {
      "byteLimit": 2048000,
      "implicitDf": true,
      "rowLimit": 10000
     },
     "inputWidgets": {},
     "nuid": "4b8adf06-bb84-4829-8396-592d6fcbf340",
     "showTitle": true,
     "tableResultSettingsMap": {},
     "title": "Selecionando colunas relevantes de Diagnóstico"
    }
   },
   "outputs": [
    {
     "output_type": "display_data",
     "data": {
      "text/html": [
       "<style scoped>\n",
       "  .table-result-container {\n",
       "    max-height: 300px;\n",
       "    overflow: auto;\n",
       "  }\n",
       "  table, th, td {\n",
       "    border: 1px solid black;\n",
       "    border-collapse: collapse;\n",
       "  }\n",
       "  th, td {\n",
       "    padding: 5px;\n",
       "  }\n",
       "  th {\n",
       "    text-align: left;\n",
       "  }\n",
       "</style><div class='table-result-container'><table class='table-result'><thead style='background-color: white'><tr><th>subcat</th><th>DESCRICAO</th><th>DESCRABREV</th></tr></thead><tbody><tr><td>A000</td><td>Cólera devida a Vibrio cholerae 01, biótipo cholerae</td><td>A00.0 Colera dev Vibrio cholerae 01 biot cholerae</td></tr><tr><td>A001</td><td>Cólera devida a Vibrio cholerae 01, biótipo El Tor</td><td>A00.1 Colera dev Vibrio cholerae 01 biot El Tor</td></tr><tr><td>A009</td><td>Cólera não especificada</td><td>A00.9 Colera NE</td></tr><tr><td>A010</td><td>Febre tifóide</td><td>A01.0 Febre tifoide</td></tr><tr><td>A011</td><td>Febre paratifóide A</td><td>A01.1 Febre paratifoide A</td></tr><tr><td>A012</td><td>Febre paratifóide B</td><td>A01.2 Febre paratifoide B</td></tr><tr><td>A013</td><td>Febre paratifóide C</td><td>A01.3 Febre paratifoide C</td></tr><tr><td>A014</td><td>Febre paratifóide não especificada</td><td>A01.4 Febre paratifoide NE</td></tr><tr><td>A020</td><td>Enterite por salmonela</td><td>A02.0 Enterite p/salmonela</td></tr><tr><td>A021</td><td>Septicemia por salmonela</td><td>A02.1 Septicemia p/salmonela</td></tr></tbody></table></div>"
      ]
     },
     "metadata": {
      "application/vnd.databricks.v1+output": {
       "addedWidgets": {},
       "aggData": [],
       "aggError": "",
       "aggOverflow": false,
       "aggSchema": [],
       "aggSeriesLimitReached": false,
       "aggType": "",
       "arguments": {},
       "columnCustomDisplayInfos": {},
       "data": [
        [
         "A000",
         "Cólera devida a Vibrio cholerae 01, biótipo cholerae",
         "A00.0 Colera dev Vibrio cholerae 01 biot cholerae"
        ],
        [
         "A001",
         "Cólera devida a Vibrio cholerae 01, biótipo El Tor",
         "A00.1 Colera dev Vibrio cholerae 01 biot El Tor"
        ],
        [
         "A009",
         "Cólera não especificada",
         "A00.9 Colera NE"
        ],
        [
         "A010",
         "Febre tifóide",
         "A01.0 Febre tifoide"
        ],
        [
         "A011",
         "Febre paratifóide A",
         "A01.1 Febre paratifoide A"
        ],
        [
         "A012",
         "Febre paratifóide B",
         "A01.2 Febre paratifoide B"
        ],
        [
         "A013",
         "Febre paratifóide C",
         "A01.3 Febre paratifoide C"
        ],
        [
         "A014",
         "Febre paratifóide não especificada",
         "A01.4 Febre paratifoide NE"
        ],
        [
         "A020",
         "Enterite por salmonela",
         "A02.0 Enterite p/salmonela"
        ],
        [
         "A021",
         "Septicemia por salmonela",
         "A02.1 Septicemia p/salmonela"
        ]
       ],
       "datasetInfos": [],
       "dbfsResultPath": null,
       "isJsonSchema": true,
       "metadata": {},
       "overflow": false,
       "plotOptions": {
        "customPlotOptions": {},
        "displayType": "table",
        "pivotAggregation": null,
        "pivotColumns": null,
        "xColumns": null,
        "yColumns": null
       },
       "removedWidgets": [],
       "schema": [
        {
         "metadata": "{}",
         "name": "subcat",
         "type": "\"string\""
        },
        {
         "metadata": "{}",
         "name": "DESCRICAO",
         "type": "\"string\""
        },
        {
         "metadata": "{}",
         "name": "DESCRABREV",
         "type": "\"string\""
        }
       ],
       "type": "table"
      }
     },
     "output_type": "display_data"
    }
   ],
   "source": [
    "%sql\n",
    "SELECT \n",
    "      subcat,\n",
    "      DESCRICAO,\n",
    "      DESCRABREV\n",
    "FROM suicidios_br_bronze.diagnosticos\n",
    "LIMIT 10"
   ]
  },
  {
   "cell_type": "code",
   "execution_count": 0,
   "metadata": {
    "application/vnd.databricks.v1+cell": {
     "cellMetadata": {
      "byteLimit": 2048000,
      "implicitDf": true,
      "rowLimit": 10000
     },
     "inputWidgets": {},
     "nuid": "e3644c83-f24b-4e4d-bb37-1724bcd1bc4c",
     "showTitle": true,
     "tableResultSettingsMap": {},
     "title": "Criando tabela de diagnósticos na camada silver"
    }
   },
   "outputs": [
    {
     "output_type": "display_data",
     "data": {
      "text/html": [
       "<style scoped>\n",
       "  .table-result-container {\n",
       "    max-height: 300px;\n",
       "    overflow: auto;\n",
       "  }\n",
       "  table, th, td {\n",
       "    border: 1px solid black;\n",
       "    border-collapse: collapse;\n",
       "  }\n",
       "  th, td {\n",
       "    padding: 5px;\n",
       "  }\n",
       "  th {\n",
       "    text-align: left;\n",
       "  }\n",
       "</style><div class='table-result-container'><table class='table-result'><thead style='background-color: white'><tr><th>num_affected_rows</th><th>num_inserted_rows</th></tr></thead><tbody></tbody></table></div>"
      ]
     },
     "metadata": {
      "application/vnd.databricks.v1+output": {
       "addedWidgets": {},
       "aggData": [],
       "aggError": "",
       "aggOverflow": false,
       "aggSchema": [],
       "aggSeriesLimitReached": false,
       "aggType": "",
       "arguments": {},
       "columnCustomDisplayInfos": {},
       "data": [],
       "datasetInfos": [],
       "dbfsResultPath": null,
       "isJsonSchema": true,
       "metadata": {},
       "overflow": false,
       "plotOptions": {
        "customPlotOptions": {},
        "displayType": "table",
        "pivotAggregation": null,
        "pivotColumns": null,
        "xColumns": null,
        "yColumns": null
       },
       "removedWidgets": [],
       "schema": [
        {
         "metadata": "{}",
         "name": "num_affected_rows",
         "type": "\"long\""
        },
        {
         "metadata": "{}",
         "name": "num_inserted_rows",
         "type": "\"long\""
        }
       ],
       "type": "table"
      }
     },
     "output_type": "display_data"
    }
   ],
   "source": [
    "%sql\n",
    "CREATE TABLE suicidios_br_silver.diagnosticos AS\n",
    "SELECT \n",
    "      subcat,\n",
    "      DESCRICAO,\n",
    "      DESCRABREV\n",
    "FROM suicidios_br_bronze.diagnosticos"
   ]
  },
  {
   "cell_type": "code",
   "execution_count": 0,
   "metadata": {
    "application/vnd.databricks.v1+cell": {
     "cellMetadata": {
      "byteLimit": 2048000,
      "implicitDf": true,
      "rowLimit": 10000
     },
     "inputWidgets": {},
     "nuid": "3459c5d8-4660-4760-a646-1309475a63d6",
     "showTitle": true,
     "tableResultSettingsMap": {},
     "title": "Amostra de dados na camada silver - Diagnósticos"
    }
   },
   "outputs": [
    {
     "output_type": "display_data",
     "data": {
      "text/html": [
       "<style scoped>\n",
       "  .table-result-container {\n",
       "    max-height: 300px;\n",
       "    overflow: auto;\n",
       "  }\n",
       "  table, th, td {\n",
       "    border: 1px solid black;\n",
       "    border-collapse: collapse;\n",
       "  }\n",
       "  th, td {\n",
       "    padding: 5px;\n",
       "  }\n",
       "  th {\n",
       "    text-align: left;\n",
       "  }\n",
       "</style><div class='table-result-container'><table class='table-result'><thead style='background-color: white'><tr><th>subcat</th><th>DESCRICAO</th><th>DESCRABREV</th></tr></thead><tbody><tr><td>A000</td><td>Cólera devida a Vibrio cholerae 01, biótipo cholerae</td><td>A00.0 Colera dev Vibrio cholerae 01 biot cholerae</td></tr><tr><td>A001</td><td>Cólera devida a Vibrio cholerae 01, biótipo El Tor</td><td>A00.1 Colera dev Vibrio cholerae 01 biot El Tor</td></tr><tr><td>A009</td><td>Cólera não especificada</td><td>A00.9 Colera NE</td></tr><tr><td>A010</td><td>Febre tifóide</td><td>A01.0 Febre tifoide</td></tr><tr><td>A011</td><td>Febre paratifóide A</td><td>A01.1 Febre paratifoide A</td></tr><tr><td>A012</td><td>Febre paratifóide B</td><td>A01.2 Febre paratifoide B</td></tr><tr><td>A013</td><td>Febre paratifóide C</td><td>A01.3 Febre paratifoide C</td></tr><tr><td>A014</td><td>Febre paratifóide não especificada</td><td>A01.4 Febre paratifoide NE</td></tr><tr><td>A020</td><td>Enterite por salmonela</td><td>A02.0 Enterite p/salmonela</td></tr><tr><td>A021</td><td>Septicemia por salmonela</td><td>A02.1 Septicemia p/salmonela</td></tr></tbody></table></div>"
      ]
     },
     "metadata": {
      "application/vnd.databricks.v1+output": {
       "addedWidgets": {},
       "aggData": [],
       "aggError": "",
       "aggOverflow": false,
       "aggSchema": [],
       "aggSeriesLimitReached": false,
       "aggType": "",
       "arguments": {},
       "columnCustomDisplayInfos": {},
       "data": [
        [
         "A000",
         "Cólera devida a Vibrio cholerae 01, biótipo cholerae",
         "A00.0 Colera dev Vibrio cholerae 01 biot cholerae"
        ],
        [
         "A001",
         "Cólera devida a Vibrio cholerae 01, biótipo El Tor",
         "A00.1 Colera dev Vibrio cholerae 01 biot El Tor"
        ],
        [
         "A009",
         "Cólera não especificada",
         "A00.9 Colera NE"
        ],
        [
         "A010",
         "Febre tifóide",
         "A01.0 Febre tifoide"
        ],
        [
         "A011",
         "Febre paratifóide A",
         "A01.1 Febre paratifoide A"
        ],
        [
         "A012",
         "Febre paratifóide B",
         "A01.2 Febre paratifoide B"
        ],
        [
         "A013",
         "Febre paratifóide C",
         "A01.3 Febre paratifoide C"
        ],
        [
         "A014",
         "Febre paratifóide não especificada",
         "A01.4 Febre paratifoide NE"
        ],
        [
         "A020",
         "Enterite por salmonela",
         "A02.0 Enterite p/salmonela"
        ],
        [
         "A021",
         "Septicemia por salmonela",
         "A02.1 Septicemia p/salmonela"
        ]
       ],
       "datasetInfos": [],
       "dbfsResultPath": null,
       "isJsonSchema": true,
       "metadata": {},
       "overflow": false,
       "plotOptions": {
        "customPlotOptions": {},
        "displayType": "table",
        "pivotAggregation": null,
        "pivotColumns": null,
        "xColumns": null,
        "yColumns": null
       },
       "removedWidgets": [],
       "schema": [
        {
         "metadata": "{}",
         "name": "subcat",
         "type": "\"string\""
        },
        {
         "metadata": "{}",
         "name": "DESCRICAO",
         "type": "\"string\""
        },
        {
         "metadata": "{}",
         "name": "DESCRABREV",
         "type": "\"string\""
        }
       ],
       "type": "table"
      }
     },
     "output_type": "display_data"
    }
   ],
   "source": [
    "%sql\n",
    "SELECT * FROM diagnosticos LIMIT 10"
   ]
  },
  {
   "cell_type": "markdown",
   "metadata": {
    "application/vnd.databricks.v1+cell": {
     "cellMetadata": {
      "byteLimit": 2048000,
      "rowLimit": 10000
     },
     "inputWidgets": {},
     "nuid": "37a7afdf-f16c-4cf9-b65c-a9aff3ffdc1a",
     "showTitle": false,
     "tableResultSettingsMap": {},
     "title": ""
    }
   },
   "source": [
    "### Carregando dados na camada gold"
   ]
  },
  {
   "cell_type": "code",
   "execution_count": 0,
   "metadata": {
    "application/vnd.databricks.v1+cell": {
     "cellMetadata": {
      "byteLimit": 2048000,
      "implicitDf": true,
      "rowLimit": 10000
     },
     "inputWidgets": {},
     "nuid": "e532df64-3157-430d-a732-1e0d359ae78b",
     "showTitle": true,
     "tableResultSettingsMap": {},
     "title": "Trabalhando com a camada gold"
    }
   },
   "outputs": [
    {
     "output_type": "display_data",
     "data": {
      "text/html": [
       "<style scoped>\n",
       "  .table-result-container {\n",
       "    max-height: 300px;\n",
       "    overflow: auto;\n",
       "  }\n",
       "  table, th, td {\n",
       "    border: 1px solid black;\n",
       "    border-collapse: collapse;\n",
       "  }\n",
       "  th, td {\n",
       "    padding: 5px;\n",
       "  }\n",
       "  th {\n",
       "    text-align: left;\n",
       "  }\n",
       "</style><div class='table-result-container'><table class='table-result'><thead style='background-color: white'><tr></tr></thead><tbody></tbody></table></div>"
      ]
     },
     "metadata": {
      "application/vnd.databricks.v1+output": {
       "addedWidgets": {},
       "aggData": [],
       "aggError": "",
       "aggOverflow": false,
       "aggSchema": [],
       "aggSeriesLimitReached": false,
       "aggType": "",
       "arguments": {},
       "columnCustomDisplayInfos": {},
       "data": [],
       "datasetInfos": [],
       "dbfsResultPath": null,
       "isJsonSchema": true,
       "metadata": {},
       "overflow": false,
       "plotOptions": {
        "customPlotOptions": {},
        "displayType": "table",
        "pivotAggregation": null,
        "pivotColumns": null,
        "xColumns": null,
        "yColumns": null
       },
       "removedWidgets": [],
       "schema": [],
       "type": "table"
      }
     },
     "output_type": "display_data"
    }
   ],
   "source": [
    "%sql\n",
    "USE DATABASE suicidios_br_gold;"
   ]
  },
  {
   "cell_type": "code",
   "execution_count": 0,
   "metadata": {
    "application/vnd.databricks.v1+cell": {
     "cellMetadata": {
      "byteLimit": 2048000,
      "implicitDf": true,
      "rowLimit": 10000
     },
     "inputWidgets": {},
     "nuid": "9e4090a6-84c0-43c4-942b-e6c83fb7e269",
     "showTitle": true,
     "tableResultSettingsMap": {
      "0": {
       "dataGridStateBlob": null,
       "filterBlob": "{\"filterGroups\":[],\"syncTimestamp\":1744252469471}",
       "queryPlanFiltersBlob": null,
       "tableResultIndex": 0
      }
     },
     "title": "Unificando as ocorrências de suicídio com a descrição do diagnóstico"
    }
   },
   "outputs": [
    {
     "output_type": "display_data",
     "data": {
      "text/html": [
       "<style scoped>\n",
       "  .table-result-container {\n",
       "    max-height: 300px;\n",
       "    overflow: auto;\n",
       "  }\n",
       "  table, th, td {\n",
       "    border: 1px solid black;\n",
       "    border-collapse: collapse;\n",
       "  }\n",
       "  th, td {\n",
       "    padding: 5px;\n",
       "  }\n",
       "  th {\n",
       "    text-align: left;\n",
       "  }\n",
       "</style><div class='table-result-container'><table class='table-result'><thead style='background-color: white'><tr><th>estado</th><th>DTOBITO</th><th>DTNASC</th><th>SEXO</th><th>RACACOR</th><th>ASSISTMED</th><th>ESTCIV</th><th>ESC</th><th>OCUP</th><th>CODMUNRES</th><th>LOCOCOR</th><th>CD_CID</th><th>subcat</th><th>DESCRICAO</th><th>DESCRABREV</th></tr></thead><tbody><tr><td>SP</td><td>2012-04-04</td><td>1981-01-17</td><td>Masculino</td><td>Parda</td><td>Sim</td><td>Casado/a</td><td>8 a 11 anos</td><td>AJUDANTE DE CARVOARIA</td><td>Itapetininga</td><td>Outros</td><td>X701</td><td>X701</td><td>Lesão autoprovocada intencionalmente por enforcamento, estrangulamento e sufocação - habitação coletiva</td><td>X70.1 Habitacao coletiva</td></tr><tr><td>SP</td><td>2012-04-15</td><td>NA</td><td>Masculino</td><td>Branca</td><td>Não</td><td>Casado/a</td><td>4 a 7 anos</td><td>NA</td><td>Itapetininga</td><td>Via pública</td><td>X704</td><td>X704</td><td>Lesão autoprovocada intencionalmente por enforcamento, estrangulamento e sufocação - rua e estrada</td><td>X70.4 Rua e estrada</td></tr><tr><td>SP</td><td>2012-04-21</td><td>NA</td><td>Masculino</td><td>Branca</td><td>Não</td><td>Solteiro/a</td><td>Nenhuma</td><td>NA</td><td>Tatuí</td><td>Domicílio</td><td>X780</td><td>X780</td><td>Lesão autoprovocada intencionalmente por objeto cortante ou penetrante - residência</td><td>X78.0 Residencia</td></tr><tr><td>SP</td><td>2012-05-02</td><td>1981-07-20</td><td>Masculino</td><td>Branca</td><td>Não</td><td>NA</td><td>4 a 7 anos</td><td>NA</td><td>Tatuí</td><td>Outros</td><td>X708</td><td>X708</td><td>Lesão autoprovocada intencionalmente por enforcamento, estrangulamento e sufocação - outros locais especificados</td><td>X70.8 Outr locais espec</td></tr><tr><td>SP</td><td>2012-04-26</td><td>1969-05-28</td><td>Masculino</td><td>Branca</td><td>Não</td><td>Casado/a</td><td>4 a 7 anos</td><td>NA</td><td>Boituva</td><td>Domicílio</td><td>X740</td><td>X740</td><td>Lesão autoprovocada intencionalmente por disparo de outra arma de fogo e de arma de fogo não especificada - residência</td><td>X74.0 Residencia</td></tr><tr><td>SP</td><td>2012-06-30</td><td>1986-03-21</td><td>Masculino</td><td>Branca</td><td>Não</td><td>Solteiro/a</td><td>8 a 11 anos</td><td>COZINHEIRO GERAL</td><td>São Miguel Arcanjo</td><td>Domicílio</td><td>X700</td><td>X700</td><td>Lesão autoprovocada intencionalmente por enforcamento, estrangulamento e sufocação - residência</td><td>X70.0 Residencia</td></tr><tr><td>SP</td><td>2012-07-11</td><td>1979-04-14</td><td>Masculino</td><td>Branca</td><td>Sim</td><td>Solteiro/a</td><td>8 a 11 anos</td><td>NA</td><td>Itapetininga</td><td>Domicílio</td><td>X709</td><td>X709</td><td>Lesão autoprovocada intencionalmente por enforcamento, estrangulamento e sufocação - local não especificado</td><td>X70.9 Local NE</td></tr><tr><td>SP</td><td>2012-07-27</td><td>1986-03-15</td><td>Masculino</td><td>Branca</td><td>Não</td><td>NA</td><td>NA</td><td>NA</td><td>Tatuí</td><td>Outros</td><td>X708</td><td>X708</td><td>Lesão autoprovocada intencionalmente por enforcamento, estrangulamento e sufocação - outros locais especificados</td><td>X70.8 Outr locais espec</td></tr><tr><td>SP</td><td>2012-07-30</td><td>1958-01-08</td><td>Feminino</td><td>Branca</td><td>Não</td><td>Casado/a</td><td>8 a 11 anos</td><td>DONA DE CASA</td><td>Tatuí</td><td>Domicílio</td><td>X700</td><td>X700</td><td>Lesão autoprovocada intencionalmente por enforcamento, estrangulamento e sufocação - residência</td><td>X70.0 Residencia</td></tr><tr><td>SP</td><td>2012-08-01</td><td>1976-05-21</td><td>Masculino</td><td>Branca</td><td>Não</td><td>Solteiro/a</td><td>8 a 11 anos</td><td>GARCOM</td><td>Itapetininga</td><td>Domicílio</td><td>X690</td><td>X690</td><td>Auto-intoxicação por e exposição, intencional, a outros produtos químicos e substâncias nocivas não especificadas - residência</td><td>X69.0 Residencia</td></tr></tbody></table></div>"
      ]
     },
     "metadata": {
      "application/vnd.databricks.v1+output": {
       "addedWidgets": {},
       "aggData": [],
       "aggError": "",
       "aggOverflow": false,
       "aggSchema": [],
       "aggSeriesLimitReached": false,
       "aggType": "",
       "arguments": {},
       "columnCustomDisplayInfos": {},
       "data": [
        [
         "SP",
         "2012-04-04",
         "1981-01-17",
         "Masculino",
         "Parda",
         "Sim",
         "Casado/a",
         "8 a 11 anos",
         "AJUDANTE DE CARVOARIA",
         "Itapetininga",
         "Outros",
         "X701",
         "X701",
         "Lesão autoprovocada intencionalmente por enforcamento, estrangulamento e sufocação - habitação coletiva",
         "X70.1 Habitacao coletiva"
        ],
        [
         "SP",
         "2012-04-15",
         "NA",
         "Masculino",
         "Branca",
         "Não",
         "Casado/a",
         "4 a 7 anos",
         "NA",
         "Itapetininga",
         "Via pública",
         "X704",
         "X704",
         "Lesão autoprovocada intencionalmente por enforcamento, estrangulamento e sufocação - rua e estrada",
         "X70.4 Rua e estrada"
        ],
        [
         "SP",
         "2012-04-21",
         "NA",
         "Masculino",
         "Branca",
         "Não",
         "Solteiro/a",
         "Nenhuma",
         "NA",
         "Tatuí",
         "Domicílio",
         "X780",
         "X780",
         "Lesão autoprovocada intencionalmente por objeto cortante ou penetrante - residência",
         "X78.0 Residencia"
        ],
        [
         "SP",
         "2012-05-02",
         "1981-07-20",
         "Masculino",
         "Branca",
         "Não",
         "NA",
         "4 a 7 anos",
         "NA",
         "Tatuí",
         "Outros",
         "X708",
         "X708",
         "Lesão autoprovocada intencionalmente por enforcamento, estrangulamento e sufocação - outros locais especificados",
         "X70.8 Outr locais espec"
        ],
        [
         "SP",
         "2012-04-26",
         "1969-05-28",
         "Masculino",
         "Branca",
         "Não",
         "Casado/a",
         "4 a 7 anos",
         "NA",
         "Boituva",
         "Domicílio",
         "X740",
         "X740",
         "Lesão autoprovocada intencionalmente por disparo de outra arma de fogo e de arma de fogo não especificada - residência",
         "X74.0 Residencia"
        ],
        [
         "SP",
         "2012-06-30",
         "1986-03-21",
         "Masculino",
         "Branca",
         "Não",
         "Solteiro/a",
         "8 a 11 anos",
         "COZINHEIRO GERAL",
         "São Miguel Arcanjo",
         "Domicílio",
         "X700",
         "X700",
         "Lesão autoprovocada intencionalmente por enforcamento, estrangulamento e sufocação - residência",
         "X70.0 Residencia"
        ],
        [
         "SP",
         "2012-07-11",
         "1979-04-14",
         "Masculino",
         "Branca",
         "Sim",
         "Solteiro/a",
         "8 a 11 anos",
         "NA",
         "Itapetininga",
         "Domicílio",
         "X709",
         "X709",
         "Lesão autoprovocada intencionalmente por enforcamento, estrangulamento e sufocação - local não especificado",
         "X70.9 Local NE"
        ],
        [
         "SP",
         "2012-07-27",
         "1986-03-15",
         "Masculino",
         "Branca",
         "Não",
         "NA",
         "NA",
         "NA",
         "Tatuí",
         "Outros",
         "X708",
         "X708",
         "Lesão autoprovocada intencionalmente por enforcamento, estrangulamento e sufocação - outros locais especificados",
         "X70.8 Outr locais espec"
        ],
        [
         "SP",
         "2012-07-30",
         "1958-01-08",
         "Feminino",
         "Branca",
         "Não",
         "Casado/a",
         "8 a 11 anos",
         "DONA DE CASA",
         "Tatuí",
         "Domicílio",
         "X700",
         "X700",
         "Lesão autoprovocada intencionalmente por enforcamento, estrangulamento e sufocação - residência",
         "X70.0 Residencia"
        ],
        [
         "SP",
         "2012-08-01",
         "1976-05-21",
         "Masculino",
         "Branca",
         "Não",
         "Solteiro/a",
         "8 a 11 anos",
         "GARCOM",
         "Itapetininga",
         "Domicílio",
         "X690",
         "X690",
         "Auto-intoxicação por e exposição, intencional, a outros produtos químicos e substâncias nocivas não especificadas - residência",
         "X69.0 Residencia"
        ]
       ],
       "datasetInfos": [],
       "dbfsResultPath": null,
       "isJsonSchema": true,
       "metadata": {},
       "overflow": false,
       "plotOptions": {
        "customPlotOptions": {},
        "displayType": "table",
        "pivotAggregation": null,
        "pivotColumns": null,
        "xColumns": null,
        "yColumns": null
       },
       "removedWidgets": [],
       "schema": [
        {
         "metadata": "{}",
         "name": "estado",
         "type": "\"string\""
        },
        {
         "metadata": "{\"__detected_date_formats\":\"yyyy-M-d\"}",
         "name": "DTOBITO",
         "type": "\"date\""
        },
        {
         "metadata": "{}",
         "name": "DTNASC",
         "type": "\"string\""
        },
        {
         "metadata": "{}",
         "name": "SEXO",
         "type": "\"string\""
        },
        {
         "metadata": "{}",
         "name": "RACACOR",
         "type": "\"string\""
        },
        {
         "metadata": "{}",
         "name": "ASSISTMED",
         "type": "\"string\""
        },
        {
         "metadata": "{}",
         "name": "ESTCIV",
         "type": "\"string\""
        },
        {
         "metadata": "{}",
         "name": "ESC",
         "type": "\"string\""
        },
        {
         "metadata": "{}",
         "name": "OCUP",
         "type": "\"string\""
        },
        {
         "metadata": "{}",
         "name": "CODMUNRES",
         "type": "\"string\""
        },
        {
         "metadata": "{}",
         "name": "LOCOCOR",
         "type": "\"string\""
        },
        {
         "metadata": "{}",
         "name": "CD_CID",
         "type": "\"string\""
        },
        {
         "metadata": "{}",
         "name": "subcat",
         "type": "\"string\""
        },
        {
         "metadata": "{}",
         "name": "DESCRICAO",
         "type": "\"string\""
        },
        {
         "metadata": "{}",
         "name": "DESCRABREV",
         "type": "\"string\""
        }
       ],
       "type": "table"
      }
     },
     "output_type": "display_data"
    }
   ],
   "source": [
    "%sql\n",
    "SELECT \n",
    "      ocor.*,\n",
    "      diag.*\n",
    "FROM suicidios_br_silver.ocorrencias ocor\n",
    "  INNER JOIN suicidios_br_silver.diagnosticos diag ON ocor.cd_cid = diag.SUBCAT\n",
    "LIMIT 10"
   ]
  },
  {
   "cell_type": "code",
   "execution_count": 0,
   "metadata": {
    "application/vnd.databricks.v1+cell": {
     "cellMetadata": {
      "byteLimit": 2048000,
      "implicitDf": true,
      "rowLimit": 10000
     },
     "inputWidgets": {},
     "nuid": "d7171c23-a4b0-4505-9ea1-891f0f130330",
     "showTitle": true,
     "tableResultSettingsMap": {},
     "title": "Criando tabela flat na camada gold"
    }
   },
   "outputs": [
    {
     "output_type": "display_data",
     "data": {
      "text/html": [
       "<style scoped>\n",
       "  .table-result-container {\n",
       "    max-height: 300px;\n",
       "    overflow: auto;\n",
       "  }\n",
       "  table, th, td {\n",
       "    border: 1px solid black;\n",
       "    border-collapse: collapse;\n",
       "  }\n",
       "  th, td {\n",
       "    padding: 5px;\n",
       "  }\n",
       "  th {\n",
       "    text-align: left;\n",
       "  }\n",
       "</style><div class='table-result-container'><table class='table-result'><thead style='background-color: white'><tr><th>num_affected_rows</th><th>num_inserted_rows</th></tr></thead><tbody></tbody></table></div>"
      ]
     },
     "metadata": {
      "application/vnd.databricks.v1+output": {
       "addedWidgets": {},
       "aggData": [],
       "aggError": "",
       "aggOverflow": false,
       "aggSchema": [],
       "aggSeriesLimitReached": false,
       "aggType": "",
       "arguments": {},
       "columnCustomDisplayInfos": {},
       "data": [],
       "datasetInfos": [],
       "dbfsResultPath": null,
       "isJsonSchema": true,
       "metadata": {},
       "overflow": false,
       "plotOptions": {
        "customPlotOptions": {},
        "displayType": "table",
        "pivotAggregation": null,
        "pivotColumns": null,
        "xColumns": null,
        "yColumns": null
       },
       "removedWidgets": [],
       "schema": [
        {
         "metadata": "{}",
         "name": "num_affected_rows",
         "type": "\"long\""
        },
        {
         "metadata": "{}",
         "name": "num_inserted_rows",
         "type": "\"long\""
        }
       ],
       "type": "table"
      }
     },
     "output_type": "display_data"
    }
   ],
   "source": [
    "%sql\n",
    "CREATE TABLE suicidios_br_gold.ocorrencias_suicidios AS\n",
    "SELECT \n",
    "      ocor.*,\n",
    "      diag.*\n",
    "FROM suicidios_br_silver.ocorrencias ocor\n",
    "  INNER JOIN suicidios_br_silver.diagnosticos diag ON ocor.cd_cid = diag.SUBCAT"
   ]
  },
  {
   "cell_type": "code",
   "execution_count": 0,
   "metadata": {
    "application/vnd.databricks.v1+cell": {
     "cellMetadata": {
      "byteLimit": 2048000,
      "implicitDf": true,
      "rowLimit": 10000
     },
     "inputWidgets": {},
     "nuid": "1dc2506a-950c-481a-a7f8-47b03c5bf0ba",
     "showTitle": true,
     "tableResultSettingsMap": {},
     "title": "Amostra de dados na camada gold - tabela flat"
    }
   },
   "outputs": [
    {
     "output_type": "display_data",
     "data": {
      "text/html": [
       "<style scoped>\n",
       "  .table-result-container {\n",
       "    max-height: 300px;\n",
       "    overflow: auto;\n",
       "  }\n",
       "  table, th, td {\n",
       "    border: 1px solid black;\n",
       "    border-collapse: collapse;\n",
       "  }\n",
       "  th, td {\n",
       "    padding: 5px;\n",
       "  }\n",
       "  th {\n",
       "    text-align: left;\n",
       "  }\n",
       "</style><div class='table-result-container'><table class='table-result'><thead style='background-color: white'><tr><th>estado</th><th>DTOBITO</th><th>DTNASC</th><th>SEXO</th><th>RACACOR</th><th>ASSISTMED</th><th>ESTCIV</th><th>ESC</th><th>OCUP</th><th>CODMUNRES</th><th>LOCOCOR</th><th>CD_CID</th><th>subcat</th><th>DESCRICAO</th><th>DESCRABREV</th></tr></thead><tbody><tr><td>AC</td><td>2010-01-31</td><td>1999-11-09</td><td>Masculino</td><td>Parda</td><td>NA</td><td>Solteiro/a</td><td>1 a 3 anos</td><td>ESTUDANTE</td><td>Tarauacá</td><td>Via pública</td><td>X780</td><td>X780</td><td>Lesão autoprovocada intencionalmente por objeto cortante ou penetrante - residência</td><td>X78.0 Residencia</td></tr><tr><td>AC</td><td>2010-02-07</td><td>1985-09-23</td><td>Masculino</td><td>Parda</td><td>NA</td><td>Solteiro/a</td><td>1 a 3 anos</td><td>ESTUDANTE</td><td>Tarauacá</td><td>Hospital</td><td>X780</td><td>X780</td><td>Lesão autoprovocada intencionalmente por objeto cortante ou penetrante - residência</td><td>X78.0 Residencia</td></tr><tr><td>AC</td><td>2010-02-19</td><td>1995-08-06</td><td>Masculino</td><td>Parda</td><td>NA</td><td>Solteiro/a</td><td>1 a 3 anos</td><td>ESTUDANTE</td><td>Tarauacá</td><td>Hospital</td><td>X780</td><td>X780</td><td>Lesão autoprovocada intencionalmente por objeto cortante ou penetrante - residência</td><td>X78.0 Residencia</td></tr><tr><td>AC</td><td>2010-04-20</td><td>1983-12-25</td><td>Feminino</td><td>Parda</td><td>NA</td><td>Casado/a</td><td>1 a 3 anos</td><td>DONA DE CASA</td><td>Tarauacá</td><td>Domicílio</td><td>X780</td><td>X780</td><td>Lesão autoprovocada intencionalmente por objeto cortante ou penetrante - residência</td><td>X78.0 Residencia</td></tr><tr><td>AC</td><td>2010-07-24</td><td>1982-05-13</td><td>Masculino</td><td>Parda</td><td>NA</td><td>Casado/a</td><td>NA</td><td>DONA DE CASA</td><td>Tarauacá</td><td>Domicílio</td><td>X720</td><td>X720</td><td>Lesão autoprovocada intencionalmente por disparo de arma de fogo de mão - residência</td><td>X72.0 Residencia</td></tr><tr><td>AC</td><td>2010-04-30</td><td>1967-07-13</td><td>Feminino</td><td>Preta</td><td>NA</td><td>Solteiro/a</td><td>4 a 7 anos</td><td>DONA DE CASA</td><td>Tarauacá</td><td>Hospital</td><td>X780</td><td>X780</td><td>Lesão autoprovocada intencionalmente por objeto cortante ou penetrante - residência</td><td>X78.0 Residencia</td></tr><tr><td>AC</td><td>2010-01-15</td><td>1979-09-05</td><td>Masculino</td><td>Parda</td><td>NA</td><td>Solteiro/a</td><td>4 a 7 anos</td><td>NA</td><td>Rio Branco</td><td>Domicílio</td><td>X700</td><td>X700</td><td>Lesão autoprovocada intencionalmente por enforcamento, estrangulamento e sufocação - residência</td><td>X70.0 Residencia</td></tr><tr><td>AC</td><td>2010-01-16</td><td>1994-01-19</td><td>Masculino</td><td>Parda</td><td>NA</td><td>Solteiro/a</td><td>NA</td><td>NA</td><td>Rio Branco</td><td>Domicílio</td><td>X700</td><td>X700</td><td>Lesão autoprovocada intencionalmente por enforcamento, estrangulamento e sufocação - residência</td><td>X70.0 Residencia</td></tr><tr><td>AC</td><td>2010-09-15</td><td>1952-04-14</td><td>Masculino</td><td>Parda</td><td>NA</td><td>Solteiro/a</td><td>NA</td><td>NA</td><td>Rio Branco</td><td>Domicílio</td><td>X629</td><td>X629</td><td>Auto-intoxicação por e exposição, intencional, a narcóticos e psicodislépticos [alucinógenos] não classificados em outra parte - local não especificado</td><td>X62.9 Local NE</td></tr><tr><td>AC</td><td>2010-09-03</td><td>1968-08-14</td><td>Masculino</td><td>Parda</td><td>NA</td><td>Solteiro/a</td><td>NA</td><td>NA</td><td>Epitaciolândia</td><td>Domicílio</td><td>X747</td><td>X747</td><td>Lesão autoprovocada intencionalmente por disparo de outra arma de fogo e de arma de fogo não especificada - fazenda</td><td>X74.7 Fazenda</td></tr></tbody></table></div>"
      ]
     },
     "metadata": {
      "application/vnd.databricks.v1+output": {
       "addedWidgets": {},
       "aggData": [],
       "aggError": "",
       "aggOverflow": false,
       "aggSchema": [],
       "aggSeriesLimitReached": false,
       "aggType": "",
       "arguments": {},
       "columnCustomDisplayInfos": {},
       "data": [
        [
         "AC",
         "2010-01-31",
         "1999-11-09",
         "Masculino",
         "Parda",
         "NA",
         "Solteiro/a",
         "1 a 3 anos",
         "ESTUDANTE",
         "Tarauacá",
         "Via pública",
         "X780",
         "X780",
         "Lesão autoprovocada intencionalmente por objeto cortante ou penetrante - residência",
         "X78.0 Residencia"
        ],
        [
         "AC",
         "2010-02-07",
         "1985-09-23",
         "Masculino",
         "Parda",
         "NA",
         "Solteiro/a",
         "1 a 3 anos",
         "ESTUDANTE",
         "Tarauacá",
         "Hospital",
         "X780",
         "X780",
         "Lesão autoprovocada intencionalmente por objeto cortante ou penetrante - residência",
         "X78.0 Residencia"
        ],
        [
         "AC",
         "2010-02-19",
         "1995-08-06",
         "Masculino",
         "Parda",
         "NA",
         "Solteiro/a",
         "1 a 3 anos",
         "ESTUDANTE",
         "Tarauacá",
         "Hospital",
         "X780",
         "X780",
         "Lesão autoprovocada intencionalmente por objeto cortante ou penetrante - residência",
         "X78.0 Residencia"
        ],
        [
         "AC",
         "2010-04-20",
         "1983-12-25",
         "Feminino",
         "Parda",
         "NA",
         "Casado/a",
         "1 a 3 anos",
         "DONA DE CASA",
         "Tarauacá",
         "Domicílio",
         "X780",
         "X780",
         "Lesão autoprovocada intencionalmente por objeto cortante ou penetrante - residência",
         "X78.0 Residencia"
        ],
        [
         "AC",
         "2010-07-24",
         "1982-05-13",
         "Masculino",
         "Parda",
         "NA",
         "Casado/a",
         "NA",
         "DONA DE CASA",
         "Tarauacá",
         "Domicílio",
         "X720",
         "X720",
         "Lesão autoprovocada intencionalmente por disparo de arma de fogo de mão - residência",
         "X72.0 Residencia"
        ],
        [
         "AC",
         "2010-04-30",
         "1967-07-13",
         "Feminino",
         "Preta",
         "NA",
         "Solteiro/a",
         "4 a 7 anos",
         "DONA DE CASA",
         "Tarauacá",
         "Hospital",
         "X780",
         "X780",
         "Lesão autoprovocada intencionalmente por objeto cortante ou penetrante - residência",
         "X78.0 Residencia"
        ],
        [
         "AC",
         "2010-01-15",
         "1979-09-05",
         "Masculino",
         "Parda",
         "NA",
         "Solteiro/a",
         "4 a 7 anos",
         "NA",
         "Rio Branco",
         "Domicílio",
         "X700",
         "X700",
         "Lesão autoprovocada intencionalmente por enforcamento, estrangulamento e sufocação - residência",
         "X70.0 Residencia"
        ],
        [
         "AC",
         "2010-01-16",
         "1994-01-19",
         "Masculino",
         "Parda",
         "NA",
         "Solteiro/a",
         "NA",
         "NA",
         "Rio Branco",
         "Domicílio",
         "X700",
         "X700",
         "Lesão autoprovocada intencionalmente por enforcamento, estrangulamento e sufocação - residência",
         "X70.0 Residencia"
        ],
        [
         "AC",
         "2010-09-15",
         "1952-04-14",
         "Masculino",
         "Parda",
         "NA",
         "Solteiro/a",
         "NA",
         "NA",
         "Rio Branco",
         "Domicílio",
         "X629",
         "X629",
         "Auto-intoxicação por e exposição, intencional, a narcóticos e psicodislépticos [alucinógenos] não classificados em outra parte - local não especificado",
         "X62.9 Local NE"
        ],
        [
         "AC",
         "2010-09-03",
         "1968-08-14",
         "Masculino",
         "Parda",
         "NA",
         "Solteiro/a",
         "NA",
         "NA",
         "Epitaciolândia",
         "Domicílio",
         "X747",
         "X747",
         "Lesão autoprovocada intencionalmente por disparo de outra arma de fogo e de arma de fogo não especificada - fazenda",
         "X74.7 Fazenda"
        ]
       ],
       "datasetInfos": [],
       "dbfsResultPath": null,
       "isJsonSchema": true,
       "metadata": {},
       "overflow": false,
       "plotOptions": {
        "customPlotOptions": {},
        "displayType": "table",
        "pivotAggregation": null,
        "pivotColumns": null,
        "xColumns": null,
        "yColumns": null
       },
       "removedWidgets": [],
       "schema": [
        {
         "metadata": "{}",
         "name": "estado",
         "type": "\"string\""
        },
        {
         "metadata": "{\"__detected_date_formats\":\"yyyy-M-d\"}",
         "name": "DTOBITO",
         "type": "\"date\""
        },
        {
         "metadata": "{}",
         "name": "DTNASC",
         "type": "\"string\""
        },
        {
         "metadata": "{}",
         "name": "SEXO",
         "type": "\"string\""
        },
        {
         "metadata": "{}",
         "name": "RACACOR",
         "type": "\"string\""
        },
        {
         "metadata": "{}",
         "name": "ASSISTMED",
         "type": "\"string\""
        },
        {
         "metadata": "{}",
         "name": "ESTCIV",
         "type": "\"string\""
        },
        {
         "metadata": "{}",
         "name": "ESC",
         "type": "\"string\""
        },
        {
         "metadata": "{}",
         "name": "OCUP",
         "type": "\"string\""
        },
        {
         "metadata": "{}",
         "name": "CODMUNRES",
         "type": "\"string\""
        },
        {
         "metadata": "{}",
         "name": "LOCOCOR",
         "type": "\"string\""
        },
        {
         "metadata": "{}",
         "name": "CD_CID",
         "type": "\"string\""
        },
        {
         "metadata": "{}",
         "name": "subcat",
         "type": "\"string\""
        },
        {
         "metadata": "{}",
         "name": "DESCRICAO",
         "type": "\"string\""
        },
        {
         "metadata": "{}",
         "name": "DESCRABREV",
         "type": "\"string\""
        }
       ],
       "type": "table"
      }
     },
     "output_type": "display_data"
    }
   ],
   "source": [
    "%sql\n",
    "SELECT * FROM suicidios_br_gold.ocorrencias_suicidios LIMIT 10"
   ]
  },
  {
   "cell_type": "markdown",
   "metadata": {
    "application/vnd.databricks.v1+cell": {
     "cellMetadata": {
      "byteLimit": 2048000,
      "rowLimit": 10000
     },
     "inputWidgets": {},
     "nuid": "eea55f6a-bc6d-4874-a718-88c207457e7b",
     "showTitle": false,
     "tableResultSettingsMap": {},
     "title": ""
    }
   },
   "source": [
    "# Análise de Dados - Perguntas do Negócio"
   ]
  },
  {
   "cell_type": "markdown",
   "metadata": {
    "application/vnd.databricks.v1+cell": {
     "cellMetadata": {
      "byteLimit": 2048000,
      "rowLimit": 10000
     },
     "inputWidgets": {},
     "nuid": "e92c097e-ffa6-4412-ae6e-4a7b805c9fda",
     "showTitle": false,
     "tableResultSettingsMap": {},
     "title": ""
    }
   },
   "source": [
    "## 1. Qual o ano com a maior quantidade de registros de suicídio?"
   ]
  },
  {
   "cell_type": "code",
   "execution_count": 0,
   "metadata": {
    "application/vnd.databricks.v1+cell": {
     "cellMetadata": {
      "byteLimit": 2048000,
      "implicitDf": true,
      "rowLimit": 10000
     },
     "inputWidgets": {},
     "nuid": "991d92e4-75e4-46c6-a65d-0dd09e082a0d",
     "showTitle": true,
     "tableResultSettingsMap": {},
     "title": "Ano com a maior quantidade de registros de suicídio?"
    }
   },
   "outputs": [
    {
     "output_type": "display_data",
     "data": {
      "text/html": [
       "<style scoped>\n",
       "  .table-result-container {\n",
       "    max-height: 300px;\n",
       "    overflow: auto;\n",
       "  }\n",
       "  table, th, td {\n",
       "    border: 1px solid black;\n",
       "    border-collapse: collapse;\n",
       "  }\n",
       "  th, td {\n",
       "    padding: 5px;\n",
       "  }\n",
       "  th {\n",
       "    text-align: left;\n",
       "  }\n",
       "</style><div class='table-result-container'><table class='table-result'><thead style='background-color: white'><tr><th>count(1)</th><th>ano</th></tr></thead><tbody><tr><td>13554</td><td>2019</td></tr><tr><td>12764</td><td>2018</td></tr><tr><td>12521</td><td>2017</td></tr><tr><td>11455</td><td>2016</td></tr><tr><td>11211</td><td>2015</td></tr><tr><td>10683</td><td>2014</td></tr><tr><td>10579</td><td>2013</td></tr><tr><td>10366</td><td>2012</td></tr><tr><td>9882</td><td>2011</td></tr><tr><td>9476</td><td>2010</td></tr></tbody></table></div>"
      ]
     },
     "metadata": {
      "application/vnd.databricks.v1+output": {
       "addedWidgets": {},
       "aggData": [],
       "aggError": "",
       "aggOverflow": false,
       "aggSchema": [],
       "aggSeriesLimitReached": false,
       "aggType": "",
       "arguments": {},
       "columnCustomDisplayInfos": {},
       "data": [
        [
         13554,
         2019
        ],
        [
         12764,
         2018
        ],
        [
         12521,
         2017
        ],
        [
         11455,
         2016
        ],
        [
         11211,
         2015
        ],
        [
         10683,
         2014
        ],
        [
         10579,
         2013
        ],
        [
         10366,
         2012
        ],
        [
         9882,
         2011
        ],
        [
         9476,
         2010
        ]
       ],
       "datasetInfos": [],
       "dbfsResultPath": null,
       "isJsonSchema": true,
       "metadata": {},
       "overflow": false,
       "plotOptions": {
        "customPlotOptions": {},
        "displayType": "table",
        "pivotAggregation": null,
        "pivotColumns": null,
        "xColumns": null,
        "yColumns": null
       },
       "removedWidgets": [],
       "schema": [
        {
         "metadata": "{\"__autoGeneratedAlias\":\"true\"}",
         "name": "count(1)",
         "type": "\"long\""
        },
        {
         "metadata": "{}",
         "name": "ano",
         "type": "\"integer\""
        }
       ],
       "type": "table"
      }
     },
     "output_type": "display_data"
    }
   ],
   "source": [
    "%sql\n",
    "SELECT COUNT(1), year(DTOBITO) as ano\n",
    "FROM suicidios_br_gold.ocorrencias_suicidios\n",
    "GROUP BY ano\n",
    "ORDER BY COUNT(1) DESC"
   ]
  },
  {
   "cell_type": "markdown",
   "metadata": {
    "application/vnd.databricks.v1+cell": {
     "cellMetadata": {
      "byteLimit": 2048000,
      "rowLimit": 10000
     },
     "inputWidgets": {},
     "nuid": "07f36049-5be5-4209-8b10-46b46e01cf40",
     "showTitle": false,
     "tableResultSettingsMap": {},
     "title": ""
    }
   },
   "source": [
    "**Análise da pergunta: Ano com maior quantidade de suicídios**\n",
    "\n",
    "**2019** foi o ano com o maior número de suicídios no Brasil. E o mais curioso (e triste) neste resultado é que, considerando o período de análise (2010 a 2019), os dados apresentam uma tendência de crescimento linear nestes números.\n",
    "\n",
    "A seguir é apresentado um gráfico de linha que ilustra este cenário."
   ]
  },
  {
   "cell_type": "code",
   "execution_count": 0,
   "metadata": {
    "application/vnd.databricks.v1+cell": {
     "cellMetadata": {
      "byteLimit": 2048000,
      "rowLimit": 10000
     },
     "inputWidgets": {},
     "nuid": "a1d71a13-fba1-4d7a-8cb6-60ed164ffd8a",
     "showTitle": true,
     "tableResultSettingsMap": {},
     "title": "Gráfico de linha - quantidade de suicidios por ano (2010 a 2019)"
    }
   },
   "outputs": [
    {
     "output_type": "display_data",
     "data": {
      "image/png": "[encoded data removed]"
     },
     "metadata": {
      "application/vnd.databricks.v1+output": {
       "addedWidgets": {},
       "arguments": {},
       "data": "data:image/png;base64,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\n",
       "datasetInfos": [],
       "metadata": {},
       "removedWidgets": [],
       "type": "image"
      }
     },
     "output_type": "display_data"
    }
   ],
   "source": [
    "# Dados obtidos na consulta acima\n",
    "anos = [2010, 2011, 2012, 2013, 2014, 2015, 2016, 2017, 2018, 2019]\n",
    "suicidios = [9476, 9882, 10366, 10579, 10683, 11211, 11455, 12521, 12764, 13554]\n",
    "\n",
    "# Criando o gráfico\n",
    "plt.figure(figsize=(15, 6))\n",
    "plt.plot(anos, suicidios, marker='o', linestyle='-', color='darkred')\n",
    "\n",
    "plt.title('Número de Suicídios no Brasil (2010–2019)', fontsize=14)\n",
    "plt.xlabel('Ano', fontsize=12)\n",
    "plt.ylabel('Quantidade de Suicídios', fontsize=12)\n",
    "plt.grid(True)\n",
    "\n",
    "# Adicionando valores nos pontos\n",
    "for ano, qtd in zip(anos, suicidios):\n",
    "    plt.text(ano, qtd + 100, f'{qtd:,}'.replace(',', '.'), ha='center', fontsize=9) # uso de função para formatação com separador de milhares\n",
    "\n",
    "plt.tight_layout()\n",
    "plt.show()\n"
   ]
  },
  {
   "cell_type": "markdown",
   "metadata": {
    "application/vnd.databricks.v1+cell": {
     "cellMetadata": {
      "byteLimit": 2048000,
      "rowLimit": 10000
     },
     "inputWidgets": {},
     "nuid": "7ef691e2-87ba-414f-946e-3adf01f67a85",
     "showTitle": false,
     "tableResultSettingsMap": {},
     "title": ""
    }
   },
   "source": [
    "## 2. Para cada ano, qual o estado brasileiro com o maior número de suicídios?"
   ]
  },
  {
   "cell_type": "code",
   "execution_count": 0,
   "metadata": {
    "application/vnd.databricks.v1+cell": {
     "cellMetadata": {
      "byteLimit": 2048000,
      "implicitDf": true,
      "rowLimit": 10000
     },
     "inputWidgets": {},
     "nuid": "1c8a5fc5-438d-45bd-b668-3dd69ef6e417",
     "showTitle": true,
     "tableResultSettingsMap": {},
     "title": "Para cada ano, qual o estado brasileiro com maior número de suicídios?"
    }
   },
   "outputs": [
    {
     "output_type": "display_data",
     "data": {
      "text/html": [
       "<style scoped>\n",
       "  .table-result-container {\n",
       "    max-height: 300px;\n",
       "    overflow: auto;\n",
       "  }\n",
       "  table, th, td {\n",
       "    border: 1px solid black;\n",
       "    border-collapse: collapse;\n",
       "  }\n",
       "  th, td {\n",
       "    padding: 5px;\n",
       "  }\n",
       "  th {\n",
       "    text-align: left;\n",
       "  }\n",
       "</style><div class='table-result-container'><table class='table-result'><thead style='background-color: white'><tr><th>ano</th><th>estado</th><th>total_suicidios</th></tr></thead><tbody><tr><td>2010</td><td>SP</td><td>1969</td></tr><tr><td>2011</td><td>SP</td><td>2050</td></tr><tr><td>2012</td><td>SP</td><td>2100</td></tr><tr><td>2013</td><td>SP</td><td>2211</td></tr><tr><td>2014</td><td>SP</td><td>2237</td></tr><tr><td>2015</td><td>SP</td><td>2302</td></tr><tr><td>2016</td><td>SP</td><td>2200</td></tr><tr><td>2017</td><td>SP</td><td>2306</td></tr><tr><td>2018</td><td>SP</td><td>2211</td></tr><tr><td>2019</td><td>SP</td><td>2384</td></tr></tbody></table></div>"
      ]
     },
     "metadata": {
      "application/vnd.databricks.v1+output": {
       "addedWidgets": {},
       "aggData": [],
       "aggError": "",
       "aggOverflow": false,
       "aggSchema": [],
       "aggSeriesLimitReached": false,
       "aggType": "",
       "arguments": {},
       "columnCustomDisplayInfos": {},
       "data": [
        [
         2010,
         "SP",
         1969
        ],
        [
         2011,
         "SP",
         2050
        ],
        [
         2012,
         "SP",
         2100
        ],
        [
         2013,
         "SP",
         2211
        ],
        [
         2014,
         "SP",
         2237
        ],
        [
         2015,
         "SP",
         2302
        ],
        [
         2016,
         "SP",
         2200
        ],
        [
         2017,
         "SP",
         2306
        ],
        [
         2018,
         "SP",
         2211
        ],
        [
         2019,
         "SP",
         2384
        ]
       ],
       "datasetInfos": [],
       "dbfsResultPath": null,
       "isJsonSchema": true,
       "metadata": {},
       "overflow": false,
       "plotOptions": {
        "customPlotOptions": {},
        "displayType": "table",
        "pivotAggregation": null,
        "pivotColumns": null,
        "xColumns": null,
        "yColumns": null
       },
       "removedWidgets": [],
       "schema": [
        {
         "metadata": "{}",
         "name": "ano",
         "type": "\"integer\""
        },
        {
         "metadata": "{}",
         "name": "estado",
         "type": "\"string\""
        },
        {
         "metadata": "{}",
         "name": "total_suicidios",
         "type": "\"long\""
        }
       ],
       "type": "table"
      }
     },
     "output_type": "display_data"
    }
   ],
   "source": [
    "%sql\n",
    "-- uso do WITH para tornar o código mais legível e fácil de realizar manutenções\n",
    "-- além disso, tais tabelas temporárias podem ser referenciadas sempre que necessárias (promovendo/facilitando a reutilização de código)\n",
    "WITH suicidios_por_uf_ano AS (\n",
    "  SELECT\n",
    "    year(DTOBITO) as ano,\n",
    "    estado,\n",
    "    COUNT(1) AS total_suicidios\n",
    "  FROM\n",
    "    suicidios_br_gold.ocorrencias_suicidios\n",
    "  GROUP BY\n",
    "    ano, estado\n",
    "),\n",
    "rank_estados AS (\n",
    "  SELECT\n",
    "    ano,\n",
    "    estado,\n",
    "    total_suicidios,\n",
    "    ROW_NUMBER() OVER (PARTITION BY ano ORDER BY total_suicidios DESC) AS rank_uf\n",
    "  FROM\n",
    "    suicidios_por_uf_ano\n",
    ")\n",
    "\n",
    "SELECT\n",
    "  ano,\n",
    "  estado,\n",
    "  total_suicidios\n",
    "FROM\n",
    "  rank_estados\n",
    "WHERE\n",
    "  rank_uf = 1\n",
    "ORDER BY\n",
    "  ano;"
   ]
  },
  {
   "cell_type": "markdown",
   "metadata": {
    "application/vnd.databricks.v1+cell": {
     "cellMetadata": {
      "byteLimit": 2048000,
      "rowLimit": 10000
     },
     "inputWidgets": {},
     "nuid": "a0951b10-c94d-4915-9936-6cb9e04af045",
     "showTitle": false,
     "tableResultSettingsMap": {},
     "title": ""
    }
   },
   "source": [
    "**Análise da pergunta: Para cada ano, qual estado brasileiro com maior número de suicídios**\n",
    "\n",
    "**São Paulo** foi o estado com a maior quantidade de suicídios em todos os 10 anos considerados para a análise. \n",
    "\n",
    "Trata-se também de um caso curioso porque, ao longo do tempo, a maior concentração de casos se manteve em um único estado brasileiro."
   ]
  },
  {
   "cell_type": "markdown",
   "metadata": {
    "application/vnd.databricks.v1+cell": {
     "cellMetadata": {
      "byteLimit": 2048000,
      "rowLimit": 10000
     },
     "inputWidgets": {},
     "nuid": "77663dd9-25bd-4522-aa4b-2ccb4fe420cb",
     "showTitle": false,
     "tableResultSettingsMap": {},
     "title": ""
    }
   },
   "source": [
    "##3. Para cada estado brasileiro, quais os municípios que concentraram a maior parte dos indivíduos que cometeram suicídio (seus municípios de residência)?"
   ]
  },
  {
   "cell_type": "code",
   "execution_count": 0,
   "metadata": {
    "application/vnd.databricks.v1+cell": {
     "cellMetadata": {
      "byteLimit": 2048000,
      "implicitDf": true,
      "rowLimit": 10000
     },
     "inputWidgets": {},
     "nuid": "f2be035f-fcbc-4b7d-8647-8314a1048fef",
     "showTitle": true,
     "tableResultSettingsMap": {},
     "title": "Para cada estado brasileiro, indique os municípios que concentram a maior parte dos indivíduos que cometeram suicídio"
    }
   },
   "outputs": [
    {
     "output_type": "display_data",
     "data": {
      "text/html": [
       "<style scoped>\n",
       "  .table-result-container {\n",
       "    max-height: 300px;\n",
       "    overflow: auto;\n",
       "  }\n",
       "  table, th, td {\n",
       "    border: 1px solid black;\n",
       "    border-collapse: collapse;\n",
       "  }\n",
       "  th, td {\n",
       "    padding: 5px;\n",
       "  }\n",
       "  th {\n",
       "    text-align: left;\n",
       "  }\n",
       "</style><div class='table-result-container'><table class='table-result'><thead style='background-color: white'><tr><th>estado</th><th>codmunres</th><th>total_suicidios</th></tr></thead><tbody><tr><td>AC</td><td>Rio Branco</td><td>231</td></tr><tr><td>AL</td><td>Maceió</td><td>317</td></tr><tr><td>AM</td><td>Manaus</td><td>1005</td></tr><tr><td>AP</td><td>Macapá</td><td>279</td></tr><tr><td>BA</td><td>Salvador</td><td>683</td></tr><tr><td>CE</td><td>Fortaleza</td><td>1374</td></tr><tr><td>DF</td><td>Brasília</td><td>1490</td></tr><tr><td>ES</td><td>Serra</td><td>198</td></tr><tr><td>GO</td><td>Goiânia</td><td>886</td></tr><tr><td>MA</td><td>São Luís</td><td>374</td></tr><tr><td>MG</td><td>Belo Horizonte</td><td>1420</td></tr><tr><td>MS</td><td>Campo Grande</td><td>569</td></tr><tr><td>MT</td><td>Cuiabá</td><td>292</td></tr><tr><td>PA</td><td>Belém</td><td>412</td></tr><tr><td>PB</td><td>João Pessoa</td><td>280</td></tr><tr><td>PE</td><td>Recife</td><td>526</td></tr><tr><td>PI</td><td>Teresina</td><td>652</td></tr><tr><td>PR</td><td>Curitiba</td><td>888</td></tr><tr><td>RJ</td><td>Rio de Janeiro</td><td>2147</td></tr><tr><td>RN</td><td>Natal</td><td>273</td></tr><tr><td>RO</td><td>Porto Velho</td><td>333</td></tr><tr><td>RR</td><td>Boa Vista</td><td>228</td></tr><tr><td>RS</td><td>Porto Alegre</td><td>1011</td></tr><tr><td>SC</td><td>Joinville</td><td>387</td></tr><tr><td>SE</td><td>Aracaju</td><td>314</td></tr><tr><td>SP</td><td>São Paulo</td><td>4490</td></tr><tr><td>TO</td><td>Palmas</td><td>138</td></tr></tbody></table></div>"
      ]
     },
     "metadata": {
      "application/vnd.databricks.v1+output": {
       "addedWidgets": {},
       "aggData": [],
       "aggError": "",
       "aggOverflow": false,
       "aggSchema": [],
       "aggSeriesLimitReached": false,
       "aggType": "",
       "arguments": {},
       "columnCustomDisplayInfos": {},
       "data": [
        [
         "AC",
         "Rio Branco",
         231
        ],
        [
         "AL",
         "Maceió",
         317
        ],
        [
         "AM",
         "Manaus",
         1005
        ],
        [
         "AP",
         "Macapá",
         279
        ],
        [
         "BA",
         "Salvador",
         683
        ],
        [
         "CE",
         "Fortaleza",
         1374
        ],
        [
         "DF",
         "Brasília",
         1490
        ],
        [
         "ES",
         "Serra",
         198
        ],
        [
         "GO",
         "Goiânia",
         886
        ],
        [
         "MA",
         "São Luís",
         374
        ],
        [
         "MG",
         "Belo Horizonte",
         1420
        ],
        [
         "MS",
         "Campo Grande",
         569
        ],
        [
         "MT",
         "Cuiabá",
         292
        ],
        [
         "PA",
         "Belém",
         412
        ],
        [
         "PB",
         "João Pessoa",
         280
        ],
        [
         "PE",
         "Recife",
         526
        ],
        [
         "PI",
         "Teresina",
         652
        ],
        [
         "PR",
         "Curitiba",
         888
        ],
        [
         "RJ",
         "Rio de Janeiro",
         2147
        ],
        [
         "RN",
         "Natal",
         273
        ],
        [
         "RO",
         "Porto Velho",
         333
        ],
        [
         "RR",
         "Boa Vista",
         228
        ],
        [
         "RS",
         "Porto Alegre",
         1011
        ],
        [
         "SC",
         "Joinville",
         387
        ],
        [
         "SE",
         "Aracaju",
         314
        ],
        [
         "SP",
         "São Paulo",
         4490
        ],
        [
         "TO",
         "Palmas",
         138
        ]
       ],
       "datasetInfos": [],
       "dbfsResultPath": null,
       "isJsonSchema": true,
       "metadata": {},
       "overflow": false,
       "plotOptions": {
        "customPlotOptions": {},
        "displayType": "table",
        "pivotAggregation": null,
        "pivotColumns": null,
        "xColumns": null,
        "yColumns": null
       },
       "removedWidgets": [],
       "schema": [
        {
         "metadata": "{}",
         "name": "estado",
         "type": "\"string\""
        },
        {
         "metadata": "{}",
         "name": "codmunres",
         "type": "\"string\""
        },
        {
         "metadata": "{}",
         "name": "total_suicidios",
         "type": "\"long\""
        }
       ],
       "type": "table"
      }
     },
     "output_type": "display_data"
    }
   ],
   "source": [
    "%sql\n",
    "\n",
    "WITH suicidios_por_uf_munic AS (\n",
    "  SELECT\n",
    "    estado,\n",
    "    codmunres,\n",
    "    COUNT(1) AS total_suicidios\n",
    "  FROM\n",
    "    suicidios_br_gold.ocorrencias_suicidios\n",
    "  GROUP BY\n",
    "    estado, codmunres\n",
    "),\n",
    "rank_municipios AS (\n",
    "  SELECT\n",
    "    estado,\n",
    "    codmunres,\n",
    "    total_suicidios,\n",
    "    ROW_NUMBER() OVER (PARTITION BY estado ORDER BY total_suicidios DESC) AS rank_munic\n",
    "  FROM\n",
    "    suicidios_por_uf_munic\n",
    ")\n",
    "\n",
    "SELECT\n",
    "  estado,\n",
    "  codmunres,\n",
    "  total_suicidios\n",
    "FROM\n",
    "  rank_municipios\n",
    "WHERE\n",
    "  rank_munic = 1\n",
    "ORDER BY\n",
    "  estado;\n"
   ]
  },
  {
   "cell_type": "markdown",
   "metadata": {
    "application/vnd.databricks.v1+cell": {
     "cellMetadata": {
      "byteLimit": 2048000,
      "rowLimit": 10000
     },
     "inputWidgets": {},
     "nuid": "43b01c10-8f99-4af6-bd70-9cef6f7d6506",
     "showTitle": false,
     "tableResultSettingsMap": {},
     "title": ""
    }
   },
   "source": [
    "**Análise da pergunta: Para cada estado brasileiro, indique os municípios que concentram a maior parte dos indivíduos que cometeram suicídio**\n",
    "\n",
    "Para praticamente todos os estados brasileiros, a **maior quantidade de suicídios é cometida por indivíduos que residem nas capitais**. Houveram apenas 2 exceções: Espírito Santo e Santa Catarina.\n",
    "\n",
    "Uma possível causa para estes suicídios pode estar relacionada a vida mais agitada (maior carga de stress) nos grandes centros urbanos. Porém, analisando somente estes dados de forma isolada não é possível afirmar que esta seja, de fato, uma das causas do suicídio."
   ]
  },
  {
   "cell_type": "markdown",
   "metadata": {
    "application/vnd.databricks.v1+cell": {
     "cellMetadata": {
      "byteLimit": 2048000,
      "rowLimit": 10000
     },
     "inputWidgets": {},
     "nuid": "82fea692-074a-474b-8220-9395e0209df1",
     "showTitle": false,
     "tableResultSettingsMap": {},
     "title": ""
    }
   },
   "source": [
    "## 4. Quem mais cometeu suicídios: homens ou mulheres?"
   ]
  },
  {
   "cell_type": "code",
   "execution_count": 0,
   "metadata": {
    "application/vnd.databricks.v1+cell": {
     "cellMetadata": {
      "byteLimit": 2048000,
      "implicitDf": true,
      "rowLimit": 10000
     },
     "inputWidgets": {},
     "nuid": "aaac1b58-9550-4d4b-8bf0-85d15c537c20",
     "showTitle": true,
     "tableResultSettingsMap": {},
     "title": "Dentre 2010 e 2019, quem mais cometeu suicídio: homens ou mulheres?"
    }
   },
   "outputs": [
    {
     "output_type": "display_data",
     "data": {
      "text/html": [
       "<style scoped>\n",
       "  .table-result-container {\n",
       "    max-height: 300px;\n",
       "    overflow: auto;\n",
       "  }\n",
       "  table, th, td {\n",
       "    border: 1px solid black;\n",
       "    border-collapse: collapse;\n",
       "  }\n",
       "  th, td {\n",
       "    padding: 5px;\n",
       "  }\n",
       "  th {\n",
       "    text-align: left;\n",
       "  }\n",
       "</style><div class='table-result-container'><table class='table-result'><thead style='background-color: white'><tr><th>count(1)</th><th>ano</th><th>SEXO</th></tr></thead><tbody><tr><td>7392</td><td>2010</td><td>Masculino</td></tr><tr><td>2084</td><td>2010</td><td>Feminino</td></tr><tr><td>7780</td><td>2011</td><td>Masculino</td></tr><tr><td>2101</td><td>2011</td><td>Feminino</td></tr><tr><td>8090</td><td>2012</td><td>Masculino</td></tr><tr><td>2273</td><td>2012</td><td>Feminino</td></tr><tr><td>8343</td><td>2013</td><td>Masculino</td></tr><tr><td>2235</td><td>2013</td><td>Feminino</td></tr><tr><td>8438</td><td>2014</td><td>Masculino</td></tr><tr><td>2244</td><td>2014</td><td>Feminino</td></tr><tr><td>8804</td><td>2015</td><td>Masculino</td></tr><tr><td>2405</td><td>2015</td><td>Feminino</td></tr><tr><td>9067</td><td>2016</td><td>Masculino</td></tr><tr><td>2386</td><td>2016</td><td>Feminino</td></tr><tr><td>9840</td><td>2017</td><td>Masculino</td></tr><tr><td>2676</td><td>2017</td><td>Feminino</td></tr><tr><td>10020</td><td>2018</td><td>Masculino</td></tr><tr><td>2739</td><td>2018</td><td>Feminino</td></tr><tr><td>10620</td><td>2019</td><td>Masculino</td></tr><tr><td>2932</td><td>2019</td><td>Feminino</td></tr></tbody></table></div>"
      ]
     },
     "metadata": {
      "application/vnd.databricks.v1+output": {
       "addedWidgets": {},
       "aggData": [],
       "aggError": "",
       "aggOverflow": false,
       "aggSchema": [],
       "aggSeriesLimitReached": false,
       "aggType": "",
       "arguments": {},
       "columnCustomDisplayInfos": {},
       "data": [
        [
         7392,
         2010,
         "Masculino"
        ],
        [
         2084,
         2010,
         "Feminino"
        ],
        [
         7780,
         2011,
         "Masculino"
        ],
        [
         2101,
         2011,
         "Feminino"
        ],
        [
         8090,
         2012,
         "Masculino"
        ],
        [
         2273,
         2012,
         "Feminino"
        ],
        [
         8343,
         2013,
         "Masculino"
        ],
        [
         2235,
         2013,
         "Feminino"
        ],
        [
         8438,
         2014,
         "Masculino"
        ],
        [
         2244,
         2014,
         "Feminino"
        ],
        [
         8804,
         2015,
         "Masculino"
        ],
        [
         2405,
         2015,
         "Feminino"
        ],
        [
         9067,
         2016,
         "Masculino"
        ],
        [
         2386,
         2016,
         "Feminino"
        ],
        [
         9840,
         2017,
         "Masculino"
        ],
        [
         2676,
         2017,
         "Feminino"
        ],
        [
         10020,
         2018,
         "Masculino"
        ],
        [
         2739,
         2018,
         "Feminino"
        ],
        [
         10620,
         2019,
         "Masculino"
        ],
        [
         2932,
         2019,
         "Feminino"
        ]
       ],
       "datasetInfos": [],
       "dbfsResultPath": null,
       "isJsonSchema": true,
       "metadata": {},
       "overflow": false,
       "plotOptions": {
        "customPlotOptions": {},
        "displayType": "table",
        "pivotAggregation": null,
        "pivotColumns": null,
        "xColumns": null,
        "yColumns": null
       },
       "removedWidgets": [],
       "schema": [
        {
         "metadata": "{\"__autoGeneratedAlias\":\"true\"}",
         "name": "count(1)",
         "type": "\"long\""
        },
        {
         "metadata": "{}",
         "name": "ano",
         "type": "\"integer\""
        },
        {
         "metadata": "{}",
         "name": "SEXO",
         "type": "\"string\""
        }
       ],
       "type": "table"
      }
     },
     "output_type": "display_data"
    }
   ],
   "source": [
    "%sql\n",
    "\n",
    "SELECT COUNT(1), year(DTOBITO) as ano, SEXO\n",
    "FROM suicidios_br_gold.ocorrencias_suicidios\n",
    "WHERE SEXO != 'NA'\n",
    "GROUP BY ano, sexo\n",
    "ORDER BY ano, count(1) desc"
   ]
  },
  {
   "cell_type": "markdown",
   "metadata": {
    "application/vnd.databricks.v1+cell": {
     "cellMetadata": {
      "byteLimit": 2048000,
      "rowLimit": 10000
     },
     "inputWidgets": {},
     "nuid": "1d3f0701-9287-44ac-a567-73392c960685",
     "showTitle": false,
     "tableResultSettingsMap": {},
     "title": ""
    }
   },
   "source": [
    "**Análise da pergunta: Dentre 2010 e 2019, quem mais cometeu suicídio: homens ou mulheres?**\n",
    "\n",
    "**Indivíduos do sexo masculino** são os que mais cometeram suicídio ao longo destes 10 anos. \n",
    "\n",
    "E podemos perceber que a diferença entre os quantitativos anuais é bem expressiva! \n",
    "\n",
    "De 2010 a 2011, o número de homens que cometeram suicídio chega a 3 vezes mais em comparação a mulheres. A partir de 2012 aumenta para 4 vezes mais e chegando a 5 vezes mais aproximadamente em 2018 e 2019.\n",
    "\n",
    "A seguir é apresentado um gráfico de barras ilustrando este cenário.\n",
    "\n"
   ]
  },
  {
   "cell_type": "code",
   "execution_count": 0,
   "metadata": {
    "application/vnd.databricks.v1+cell": {
     "cellMetadata": {
      "byteLimit": 2048000,
      "rowLimit": 10000
     },
     "inputWidgets": {},
     "nuid": "9f7d53b5-246d-4fed-93ee-71fab3d1f8d7",
     "showTitle": true,
     "tableResultSettingsMap": {},
     "title": "Gráfico de barras - quantidade de suicidios por sexo"
    }
   },
   "outputs": [
    {
     "output_type": "display_data",
     "data": {
      "image/png": "[encoded data removed]"
     },
     "metadata": {
      "application/vnd.databricks.v1+output": {
       "addedWidgets": {},
       "arguments": {},
       "data": "data:image/png;base64,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\n",
       "datasetInfos": [],
       "metadata": {},
       "removedWidgets": [],
       "type": "image"
      }
     },
     "output_type": "display_data"
    }
   ],
   "source": [
    "# Dados extraídos da consulta acima\n",
    "suicidios_por_ano_sexo = [\n",
    "    [7392, 2010, 'Masculino'],\n",
    "    [2084, 2010, 'Feminino'],\n",
    "    [7780, 2011, 'Masculino'],\n",
    "    [2101, 2011, 'Feminino'],\n",
    "    [8090, 2012, 'Masculino'],\n",
    "    [2273, 2012, 'Feminino'],\n",
    "    [8343, 2013, 'Masculino'],\n",
    "    [2235, 2013, 'Feminino'],\n",
    "    [8438, 2014, 'Masculino'],\n",
    "    [2244, 2014, 'Feminino'],\n",
    "    [8804, 2015, 'Masculino'],\n",
    "    [2405, 2015, 'Feminino'],\n",
    "    [2386, 2016, 'Feminino'],\n",
    "    [9067, 2016, 'Masculino'],\n",
    "    [9840, 2017, 'Masculino'],\n",
    "    [2676, 2017, 'Feminino'],\n",
    "    [2739, 2018, 'Feminino'],\n",
    "    [10020, 2018, 'Masculino'],\n",
    "    [2932, 2019, 'Feminino'],\n",
    "    [10620, 2019, 'Masculino']\n",
    "]\n",
    "\n",
    "# Criação do DataFrame\n",
    "df_suicidios_por_ano_sexo = pd.DataFrame(suicidios_por_ano_sexo, columns=['quantidade', 'ano', 'sexo'])\n",
    "\n",
    "# Agrupar os dados por ano e sexo\n",
    "df_group_by_ano_sexo = df_suicidios_por_ano_sexo.groupby(['ano', 'sexo'])['quantidade'].sum().unstack().fillna(0)\n",
    "\n",
    "# Plotar gráfico de barras agrupadas\n",
    "ax = df_group_by_ano_sexo.plot(kind='bar', figsize=(20, 6), color=['#ff0000', '#0000ff'])\n",
    "\n",
    "# Título e rótulos\n",
    "plt.title('Suicídios por ano e por sexo no Brasil (2010–2019)')\n",
    "plt.xlabel('Ano')\n",
    "plt.ylabel('Quantidade de suicídios')\n",
    "plt.xticks(rotation=0)\n",
    "plt.legend(title='Sexo')\n",
    "\n",
    "# Adicionar os valores quantitativos nas barras\n",
    "for p in ax.patches:\n",
    "    ax.annotate(f'{p.get_height():,}', \n",
    "                (p.get_x() + p.get_width() / 2., p.get_height()), \n",
    "                xytext=(0, 10), \n",
    "                textcoords='offset points', \n",
    "                ha='center', va='center', fontsize=10)\n",
    "\n",
    "plt.tight_layout()\n",
    "\n",
    "# Mostrar gráfico\n",
    "plt.show()\n"
   ]
  },
  {
   "cell_type": "markdown",
   "metadata": {
    "application/vnd.databricks.v1+cell": {
     "cellMetadata": {
      "byteLimit": 2048000,
      "rowLimit": 10000
     },
     "inputWidgets": {},
     "nuid": "bc60272f-f0ee-48d0-a3c4-471644e17a19",
     "showTitle": false,
     "tableResultSettingsMap": {},
     "title": ""
    }
   },
   "source": [
    "## 5. Qual a taxa de suicídios entre as pessoas com diferentes níveis de escolaridade?"
   ]
  },
  {
   "cell_type": "code",
   "execution_count": 0,
   "metadata": {
    "application/vnd.databricks.v1+cell": {
     "cellMetadata": {
      "byteLimit": 2048000,
      "implicitDf": true,
      "rowLimit": 10000
     },
     "inputWidgets": {},
     "nuid": "5468575b-882e-4672-98a2-3f7732f39acc",
     "showTitle": true,
     "tableResultSettingsMap": {},
     "title": "Taxa de suicídio entre os diferentes níveis de escolaridade"
    }
   },
   "outputs": [
    {
     "output_type": "display_data",
     "data": {
      "text/html": [
       "<style scoped>\n",
       "  .table-result-container {\n",
       "    max-height: 300px;\n",
       "    overflow: auto;\n",
       "  }\n",
       "  table, th, td {\n",
       "    border: 1px solid black;\n",
       "    border-collapse: collapse;\n",
       "  }\n",
       "  th, td {\n",
       "    padding: 5px;\n",
       "  }\n",
       "  th {\n",
       "    text-align: left;\n",
       "  }\n",
       "</style><div class='table-result-container'><table class='table-result'><thead style='background-color: white'><tr><th>percent_nenhuma</th><th>percent_nao_informado</th><th>percent_1_a_3_anos</th><th>percent_4_a_7_anos</th><th>percent_8_a_11_anos</th><th>percent_12_e_mais_anos</th><th>total_linhas</th></tr></thead><tbody><tr><td>4.62</td><td>25.04</td><td>14.22</td><td>24.25</td><td>23.07</td><td>8.81</td><td>112491</td></tr></tbody></table></div>"
      ]
     },
     "metadata": {
      "application/vnd.databricks.v1+output": {
       "addedWidgets": {},
       "aggData": [],
       "aggError": "",
       "aggOverflow": false,
       "aggSchema": [],
       "aggSeriesLimitReached": false,
       "aggType": "",
       "arguments": {},
       "columnCustomDisplayInfos": {},
       "data": [
        [
         4.62,
         25.04,
         14.22,
         24.25,
         23.07,
         8.81,
         112491
        ]
       ],
       "datasetInfos": [],
       "dbfsResultPath": null,
       "isJsonSchema": true,
       "metadata": {},
       "overflow": false,
       "plotOptions": {
        "customPlotOptions": {},
        "displayType": "table",
        "pivotAggregation": null,
        "pivotColumns": null,
        "xColumns": null,
        "yColumns": null
       },
       "removedWidgets": [],
       "schema": [
        {
         "metadata": "{}",
         "name": "percent_nenhuma",
         "type": "\"double\""
        },
        {
         "metadata": "{}",
         "name": "percent_nao_informado",
         "type": "\"double\""
        },
        {
         "metadata": "{}",
         "name": "percent_1_a_3_anos",
         "type": "\"double\""
        },
        {
         "metadata": "{}",
         "name": "percent_4_a_7_anos",
         "type": "\"double\""
        },
        {
         "metadata": "{}",
         "name": "percent_8_a_11_anos",
         "type": "\"double\""
        },
        {
         "metadata": "{}",
         "name": "percent_12_e_mais_anos",
         "type": "\"double\""
        },
        {
         "metadata": "{}",
         "name": "total_linhas",
         "type": "\"long\""
        }
       ],
       "type": "table"
      }
     },
     "output_type": "display_data"
    }
   ],
   "source": [
    "%sql\n",
    "SELECT \n",
    "      ROUND((COUNT(CASE WHEN esc = 'Nenhuma' THEN 1 END) / COUNT(*)) * 100, 2) AS percent_nenhuma,\n",
    "      ROUND((COUNT(CASE WHEN esc = 'NA' THEN 1 END) / COUNT(*)) * 100, 2) AS percent_nao_informado,\n",
    "      ROUND((COUNT(CASE WHEN esc = '1 a 3 anos' THEN 1 END) / COUNT(*)) * 100, 2) AS percent_1_a_3_anos,\n",
    "      ROUND((COUNT(CASE WHEN esc = '4 a 7 anos' THEN 1 END) / COUNT(*)) * 100, 2) AS percent_4_a_7_anos,\n",
    "      ROUND((COUNT(CASE WHEN esc = '8 a 11 anos' THEN 1 END) / COUNT(*)) * 100, 2) AS percent_8_a_11_anos,\n",
    "      ROUND((COUNT(CASE WHEN esc = '12 e mais' THEN 1 END) / COUNT(*)) * 100, 2) AS percent_12_e_mais_anos,\n",
    "      COUNT(*) AS total_linhas\n",
    "FROM suicidios_br_gold.ocorrencias_suicidios"
   ]
  },
  {
   "cell_type": "markdown",
   "metadata": {
    "application/vnd.databricks.v1+cell": {
     "cellMetadata": {
      "byteLimit": 2048000,
      "rowLimit": 10000
     },
     "inputWidgets": {},
     "nuid": "372c1dc3-13c2-4faa-85bd-c45d998da5d2",
     "showTitle": false,
     "tableResultSettingsMap": {},
     "title": ""
    }
   },
   "source": [
    "**Análise da pergunta: Taxa de suicídio entre os diferentes níveis de escolaridade**\n",
    "\n",
    "A maior parte dos indivíduos que cometeram suicídio possuem **escolaridade desconhecida**. \n",
    "\n",
    "Em segundo e terceiro lugar, encontramos os perfis de escolaridade de '4 a 7 anos' e '8 a 11 anos', respectivamente.\n",
    "\n",
    "Não foi possível observar nenhum tipo de padrão ou tendência relacionada a escolaridade dos indivíduos que cometeram suicídio. Seriam necessárias outras informações complementares para auxiliar na análise.\n",
    "\n",
    "A seguir é apresentado um gráfico de pizza para ilustrar este cenário.\n",
    "\n"
   ]
  },
  {
   "cell_type": "code",
   "execution_count": 0,
   "metadata": {
    "application/vnd.databricks.v1+cell": {
     "cellMetadata": {
      "byteLimit": 2048000,
      "rowLimit": 10000
     },
     "inputWidgets": {},
     "nuid": "07d99cd6-4af9-4247-b325-e39bc394926a",
     "showTitle": true,
     "tableResultSettingsMap": {},
     "title": "Gráfico de linha - taxa de suicidios por escolaridade"
    }
   },
   "outputs": [
    {
     "output_type": "display_data",
     "data": {
      "image/png": "[encoded data removed]"
     },
     "metadata": {
      "application/vnd.databricks.v1+output": {
       "addedWidgets": {},
       "arguments": {},
       "data": "data:image/png;base64,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\n",
       "datasetInfos": [],
       "metadata": {},
       "removedWidgets": [],
       "type": "image"
      }
     },
     "output_type": "display_data"
    }
   ],
   "source": [
    "# Dados obtidos na consulta acima\n",
    "valores_percentuais = [4.62, 25.04, 14.22, 24.25, 23.07, 8.81]\n",
    "categorias = ['nenhuma', 'não informado', '1 a 3 anos', '4 a 7 anos', '8 a 11 anos', '12 anos e mais']\n",
    "\n",
    "# Gráfico de pizza\n",
    "plt.figure(figsize=(5, 5))\n",
    "plt.pie(valores_percentuais, labels=categorias, autopct='%1.1f%%')\n",
    "plt.title('Escolaridade dos indivídos que cometeram suicídio - 2010 a 2019')\n",
    "\n",
    "plt.show()"
   ]
  },
  {
   "cell_type": "markdown",
   "metadata": {
    "application/vnd.databricks.v1+cell": {
     "cellMetadata": {
      "byteLimit": 2048000,
      "rowLimit": 10000
     },
     "inputWidgets": {},
     "nuid": "0ee7c58e-0a8c-473f-a569-e3486f773573",
     "showTitle": false,
     "tableResultSettingsMap": {},
     "title": ""
    }
   },
   "source": [
    "## 6. Quais as TOP 5 ocupações das pessoas que cometeram suicídio?"
   ]
  },
  {
   "cell_type": "code",
   "execution_count": 0,
   "metadata": {
    "application/vnd.databricks.v1+cell": {
     "cellMetadata": {
      "byteLimit": 2048000,
      "implicitDf": true,
      "rowLimit": 10000
     },
     "inputWidgets": {},
     "nuid": "0e30a471-20d7-4e9a-a66d-9a6c736d5fad",
     "showTitle": true,
     "tableResultSettingsMap": {},
     "title": "Top 5 ocupações das pessoas que cometeram suicídios - 2010 a 2019"
    }
   },
   "outputs": [
    {
     "output_type": "display_data",
     "data": {
      "text/html": [
       "<style scoped>\n",
       "  .table-result-container {\n",
       "    max-height: 300px;\n",
       "    overflow: auto;\n",
       "  }\n",
       "  table, th, td {\n",
       "    border: 1px solid black;\n",
       "    border-collapse: collapse;\n",
       "  }\n",
       "  th, td {\n",
       "    padding: 5px;\n",
       "  }\n",
       "  th {\n",
       "    text-align: left;\n",
       "  }\n",
       "</style><div class='table-result-container'><table class='table-result'><thead style='background-color: white'><tr><th>count(1)</th><th>ocup</th></tr></thead><tbody><tr><td>7836</td><td>APOSENTADO/PENSIONISTA</td></tr><tr><td>7756</td><td>ESTUDANTE</td></tr><tr><td>6149</td><td>DONA DE CASA</td></tr><tr><td>5924</td><td>TRABALHADOR AGROPECUARIO EM GERAL</td></tr><tr><td>2520</td><td>EMPREGADO DOMESTICO NOS SERVICOS GERAIS</td></tr></tbody></table></div>"
      ]
     },
     "metadata": {
      "application/vnd.databricks.v1+output": {
       "addedWidgets": {},
       "aggData": [],
       "aggError": "",
       "aggOverflow": false,
       "aggSchema": [],
       "aggSeriesLimitReached": false,
       "aggType": "",
       "arguments": {},
       "columnCustomDisplayInfos": {},
       "data": [
        [
         7836,
         "APOSENTADO/PENSIONISTA"
        ],
        [
         7756,
         "ESTUDANTE"
        ],
        [
         6149,
         "DONA DE CASA"
        ],
        [
         5924,
         "TRABALHADOR AGROPECUARIO EM GERAL"
        ],
        [
         2520,
         "EMPREGADO DOMESTICO NOS SERVICOS GERAIS"
        ]
       ],
       "datasetInfos": [],
       "dbfsResultPath": null,
       "isJsonSchema": true,
       "metadata": {},
       "overflow": false,
       "plotOptions": {
        "customPlotOptions": {},
        "displayType": "table",
        "pivotAggregation": null,
        "pivotColumns": null,
        "xColumns": null,
        "yColumns": null
       },
       "removedWidgets": [],
       "schema": [
        {
         "metadata": "{\"__autoGeneratedAlias\":\"true\"}",
         "name": "count(1)",
         "type": "\"long\""
        },
        {
         "metadata": "{}",
         "name": "ocup",
         "type": "\"string\""
        }
       ],
       "type": "table"
      }
     },
     "output_type": "display_data"
    }
   ],
   "source": [
    "%sql\n",
    "SELECT COUNT(1), ocup\n",
    "FROM suicidios_br_gold.ocorrencias_suicidios\n",
    "WHERE ocup != 'NA'\n",
    "GROUP BY ocup\n",
    "ORDER BY count(1) desc\n",
    "LIMIT 5"
   ]
  },
  {
   "cell_type": "markdown",
   "metadata": {
    "application/vnd.databricks.v1+cell": {
     "cellMetadata": {
      "byteLimit": 2048000,
      "rowLimit": 10000
     },
     "inputWidgets": {},
     "nuid": "fdf6656d-7b8a-4b81-8e3a-0ccdfe987a68",
     "showTitle": false,
     "tableResultSettingsMap": {},
     "title": ""
    }
   },
   "source": [
    "**Análise da pergunta: Top 5 ocupações das pessoas que cometeram suicídio - 2010 a 2019**\n",
    "\n",
    "A maior parte dos indivíduos que cometeram suicídio são **aposentados ou pensionistas**. \n",
    "\n",
    "Em seguida, observa-se que os **estudantes** foram os que mais cometeram suicídio neste período. \n",
    "\n",
    "De maneira isolada não é possível definir o que levou estas pessoas a se suicidarem, mas uma suspeita poderia ser fatores financeiros. Infelizmente tanto os pensionistas/aposentados quanto os estudantes não possuem uma boa renda e a falta de dinheiro pode, infelizmente, impactar psicologicamente uma pessoa."
   ]
  },
  {
   "cell_type": "markdown",
   "metadata": {
    "application/vnd.databricks.v1+cell": {
     "cellMetadata": {
      "byteLimit": 2048000,
      "rowLimit": 10000
     },
     "inputWidgets": {},
     "nuid": "539955dd-6515-4aa5-90fa-dd8cfeabbdac",
     "showTitle": false,
     "tableResultSettingsMap": {},
     "title": ""
    }
   },
   "source": [
    "## 7. Quais as idades mínima e máxima das pessoas que cometeram suicídio?"
   ]
  },
  {
   "cell_type": "code",
   "execution_count": 0,
   "metadata": {
    "application/vnd.databricks.v1+cell": {
     "cellMetadata": {
      "byteLimit": 2048000,
      "implicitDf": true,
      "rowLimit": 10000
     },
     "inputWidgets": {},
     "nuid": "13a65479-2366-4cc6-96a2-3237b51f4789",
     "showTitle": true,
     "tableResultSettingsMap": {},
     "title": "Idades mínima e máxima das pessoas que cometeram suicídio"
    }
   },
   "outputs": [
    {
     "output_type": "display_data",
     "data": {
      "text/html": [
       "<style scoped>\n",
       "  .table-result-container {\n",
       "    max-height: 300px;\n",
       "    overflow: auto;\n",
       "  }\n",
       "  table, th, td {\n",
       "    border: 1px solid black;\n",
       "    border-collapse: collapse;\n",
       "  }\n",
       "  th, td {\n",
       "    padding: 5px;\n",
       "  }\n",
       "  th {\n",
       "    text-align: left;\n",
       "  }\n",
       "</style><div class='table-result-container'><table class='table-result'><thead style='background-color: white'><tr><th>min(idade)</th><th>max(idade)</th></tr></thead><tbody><tr><td>5</td><td>122</td></tr></tbody></table></div>"
      ]
     },
     "metadata": {
      "application/vnd.databricks.v1+output": {
       "addedWidgets": {},
       "aggData": [],
       "aggError": "",
       "aggOverflow": false,
       "aggSchema": [],
       "aggSeriesLimitReached": false,
       "aggType": "",
       "arguments": {},
       "columnCustomDisplayInfos": {},
       "data": [
        [
         5,
         122
        ]
       ],
       "datasetInfos": [],
       "dbfsResultPath": null,
       "isJsonSchema": true,
       "metadata": {},
       "overflow": false,
       "plotOptions": {
        "customPlotOptions": {},
        "displayType": "table",
        "pivotAggregation": null,
        "pivotColumns": null,
        "xColumns": null,
        "yColumns": null
       },
       "removedWidgets": [],
       "schema": [
        {
         "metadata": "{\"__autoGeneratedAlias\":\"true\"}",
         "name": "min(idade)",
         "type": "\"long\""
        },
        {
         "metadata": "{\"__autoGeneratedAlias\":\"true\"}",
         "name": "max(idade)",
         "type": "\"long\""
        }
       ],
       "type": "table"
      }
     },
     "output_type": "display_data"
    }
   ],
   "source": [
    "%sql\n",
    "WITH idades_registros_suicidios AS (\n",
    "  SELECT\n",
    "    FLOOR(DATEDIFF(CURRENT_DATE, DTNASC) / 365) AS idade\n",
    "  FROM\n",
    "    suicidios_br_gold.ocorrencias_suicidios\n",
    "  WHERE\n",
    "    DTNASC <> 'NA'\n",
    ")\n",
    "\n",
    "SELECT MIN(idade), MAX(idade)\n",
    "FROM idades_registros_suicidios;"
   ]
  },
  {
   "cell_type": "code",
   "execution_count": 0,
   "metadata": {
    "application/vnd.databricks.v1+cell": {
     "cellMetadata": {
      "byteLimit": 2048000,
      "implicitDf": true,
      "rowLimit": 10000
     },
     "inputWidgets": {},
     "nuid": "24c19596-7013-42a7-a935-038c124d6421",
     "showTitle": true,
     "tableResultSettingsMap": {},
     "title": "TOP 10 idades que mais cometeram suicídio"
    }
   },
   "outputs": [
    {
     "output_type": "display_data",
     "data": {
      "text/html": [
       "<style scoped>\n",
       "  .table-result-container {\n",
       "    max-height: 300px;\n",
       "    overflow: auto;\n",
       "  }\n",
       "  table, th, td {\n",
       "    border: 1px solid black;\n",
       "    border-collapse: collapse;\n",
       "  }\n",
       "  th, td {\n",
       "    padding: 5px;\n",
       "  }\n",
       "  th {\n",
       "    text-align: left;\n",
       "  }\n",
       "</style><div class='table-result-container'><table class='table-result'><thead style='background-color: white'><tr><th>count(1)</th><th>idade</th></tr></thead><tbody><tr><td>2675</td><td>43</td></tr><tr><td>2523</td><td>42</td></tr><tr><td>2466</td><td>38</td></tr><tr><td>2452</td><td>39</td></tr><tr><td>2427</td><td>46</td></tr><tr><td>2425</td><td>41</td></tr><tr><td>2417</td><td>40</td></tr><tr><td>2392</td><td>36</td></tr><tr><td>2386</td><td>37</td></tr><tr><td>2368</td><td>47</td></tr></tbody></table></div>"
      ]
     },
     "metadata": {
      "application/vnd.databricks.v1+output": {
       "addedWidgets": {},
       "aggData": [],
       "aggError": "",
       "aggOverflow": false,
       "aggSchema": [],
       "aggSeriesLimitReached": false,
       "aggType": "",
       "arguments": {},
       "columnCustomDisplayInfos": {},
       "data": [
        [
         2675,
         43
        ],
        [
         2523,
         42
        ],
        [
         2466,
         38
        ],
        [
         2452,
         39
        ],
        [
         2427,
         46
        ],
        [
         2425,
         41
        ],
        [
         2417,
         40
        ],
        [
         2392,
         36
        ],
        [
         2386,
         37
        ],
        [
         2368,
         47
        ]
       ],
       "datasetInfos": [],
       "dbfsResultPath": null,
       "isJsonSchema": true,
       "metadata": {},
       "overflow": false,
       "plotOptions": {
        "customPlotOptions": {},
        "displayType": "table",
        "pivotAggregation": null,
        "pivotColumns": null,
        "xColumns": null,
        "yColumns": null
       },
       "removedWidgets": [],
       "schema": [
        {
         "metadata": "{\"__autoGeneratedAlias\":\"true\"}",
         "name": "count(1)",
         "type": "\"long\""
        },
        {
         "metadata": "{}",
         "name": "idade",
         "type": "\"long\""
        }
       ],
       "type": "table"
      }
     },
     "output_type": "display_data"
    }
   ],
   "source": [
    "%sql\n",
    "WITH idades_registros_suicidios AS (\n",
    "  SELECT\n",
    "    FLOOR(DATEDIFF(CURRENT_DATE, DTNASC) / 365) AS idade\n",
    "  FROM\n",
    "    suicidios_br_gold.ocorrencias_suicidios\n",
    "  WHERE\n",
    "    DTNASC <> 'NA'\n",
    ")\n",
    "\n",
    "SELECT \n",
    "      COUNT(1), idade\n",
    "FROM \n",
    "      idades_registros_suicidios\n",
    "GROUP BY \n",
    "      idade\n",
    "order by \n",
    "      count(1) desc\n",
    "limit 10;"
   ]
  },
  {
   "cell_type": "markdown",
   "metadata": {
    "application/vnd.databricks.v1+cell": {
     "cellMetadata": {
      "byteLimit": 2048000,
      "rowLimit": 10000
     },
     "inputWidgets": {},
     "nuid": "6600654f-9e3d-4cdb-96a0-ead0d2e98600",
     "showTitle": false,
     "tableResultSettingsMap": {},
     "title": ""
    }
   },
   "source": [
    "**Análise da pergunta: Idades mínima e máxima dos indivíduos que cometeram suicídio**\n",
    "\n",
    "Pelas 2 consultas realizadas acima, vemos que as **idades mínima e máxima** das pessoas que cometeram suicídio variam entre **5 e 122 anos de idade**. Acredito que tenha havido um erro de digitação no momento do cadastro destes dados.\n",
    "\n",
    "Mas outra informação importante que podemos tirar daqui é que, de acordo com o **TOP10**, temos que pessoas entre **36 e 47 anos** são as que mais cometeram suicídio ao longo destes 10 anos.\n"
   ]
  },
  {
   "cell_type": "markdown",
   "metadata": {
    "application/vnd.databricks.v1+cell": {
     "cellMetadata": {
      "byteLimit": 2048000,
      "rowLimit": 10000
     },
     "inputWidgets": {},
     "nuid": "46fd2247-3943-46b3-ace2-030e91d7f670",
     "showTitle": false,
     "tableResultSettingsMap": {},
     "title": ""
    }
   },
   "source": [
    "## 8. Qual a raça/cor das pessoas que mais cometeram suicídio?"
   ]
  },
  {
   "cell_type": "code",
   "execution_count": 0,
   "metadata": {
    "application/vnd.databricks.v1+cell": {
     "cellMetadata": {
      "byteLimit": 2048000,
      "implicitDf": true,
      "rowLimit": 10000
     },
     "inputWidgets": {},
     "nuid": "2202d671-5257-4d5a-ac8f-00e3f36ec0b5",
     "showTitle": true,
     "tableResultSettingsMap": {},
     "title": "Raça/cor das pessoas que mais cometeram suicídio"
    }
   },
   "outputs": [
    {
     "output_type": "display_data",
     "data": {
      "text/html": [
       "<style scoped>\n",
       "  .table-result-container {\n",
       "    max-height: 300px;\n",
       "    overflow: auto;\n",
       "  }\n",
       "  table, th, td {\n",
       "    border: 1px solid black;\n",
       "    border-collapse: collapse;\n",
       "  }\n",
       "  th, td {\n",
       "    padding: 5px;\n",
       "  }\n",
       "  th {\n",
       "    text-align: left;\n",
       "  }\n",
       "</style><div class='table-result-container'><table class='table-result'><thead style='background-color: white'><tr><th>count(1)</th><th>RACACOR</th></tr></thead><tbody><tr><td>56075</td><td>Branca</td></tr><tr><td>45695</td><td>Parda</td></tr><tr><td>5929</td><td>Preta</td></tr><tr><td>3171</td><td>NA</td></tr><tr><td>1187</td><td>Indígena</td></tr><tr><td>434</td><td>Amarela</td></tr></tbody></table></div>"
      ]
     },
     "metadata": {
      "application/vnd.databricks.v1+output": {
       "addedWidgets": {},
       "aggData": [],
       "aggError": "",
       "aggOverflow": false,
       "aggSchema": [],
       "aggSeriesLimitReached": false,
       "aggType": "",
       "arguments": {},
       "columnCustomDisplayInfos": {},
       "data": [
        [
         56075,
         "Branca"
        ],
        [
         45695,
         "Parda"
        ],
        [
         5929,
         "Preta"
        ],
        [
         3171,
         "NA"
        ],
        [
         1187,
         "Indígena"
        ],
        [
         434,
         "Amarela"
        ]
       ],
       "datasetInfos": [],
       "dbfsResultPath": null,
       "isJsonSchema": true,
       "metadata": {},
       "overflow": false,
       "plotOptions": {
        "customPlotOptions": {},
        "displayType": "table",
        "pivotAggregation": null,
        "pivotColumns": null,
        "xColumns": null,
        "yColumns": null
       },
       "removedWidgets": [],
       "schema": [
        {
         "metadata": "{\"__autoGeneratedAlias\":\"true\"}",
         "name": "count(1)",
         "type": "\"long\""
        },
        {
         "metadata": "{}",
         "name": "RACACOR",
         "type": "\"string\""
        }
       ],
       "type": "table"
      }
     },
     "output_type": "display_data"
    }
   ],
   "source": [
    "%sql\n",
    "SELECT \n",
    "      COUNT(1), RACACOR\n",
    "FROM \n",
    "      suicidios_br_gold.ocorrencias_suicidios\n",
    "GROUP BY \n",
    "      RACACOR\n",
    "ORDER BY \n",
    "      count(1) desc"
   ]
  },
  {
   "cell_type": "code",
   "execution_count": 0,
   "metadata": {
    "application/vnd.databricks.v1+cell": {
     "cellMetadata": {
      "byteLimit": 2048000,
      "implicitDf": true,
      "rowLimit": 10000
     },
     "inputWidgets": {},
     "nuid": "5f67430c-68e2-4178-8292-30dd425a4024",
     "showTitle": true,
     "tableResultSettingsMap": {},
     "title": "Taxa percentual - Raça/cor das pessoas que mais cometeram suicídio"
    }
   },
   "outputs": [
    {
     "output_type": "display_data",
     "data": {
      "text/html": [
       "<style scoped>\n",
       "  .table-result-container {\n",
       "    max-height: 300px;\n",
       "    overflow: auto;\n",
       "  }\n",
       "  table, th, td {\n",
       "    border: 1px solid black;\n",
       "    border-collapse: collapse;\n",
       "  }\n",
       "  th, td {\n",
       "    padding: 5px;\n",
       "  }\n",
       "  th {\n",
       "    text-align: left;\n",
       "  }\n",
       "</style><div class='table-result-container'><table class='table-result'><thead style='background-color: white'><tr><th>percent_amarela</th><th>percent_branca</th><th>percent_indigena</th><th>percent_na</th><th>percent_parda</th><th>percent_preta</th><th>total_linhas</th></tr></thead><tbody><tr><td>0.39</td><td>49.85</td><td>1.06</td><td>2.82</td><td>40.62</td><td>5.27</td><td>112491</td></tr></tbody></table></div>"
      ]
     },
     "metadata": {
      "application/vnd.databricks.v1+output": {
       "addedWidgets": {},
       "aggData": [],
       "aggError": "",
       "aggOverflow": false,
       "aggSchema": [],
       "aggSeriesLimitReached": false,
       "aggType": "",
       "arguments": {},
       "columnCustomDisplayInfos": {},
       "data": [
        [
         0.39,
         49.85,
         1.06,
         2.82,
         40.62,
         5.27,
         112491
        ]
       ],
       "datasetInfos": [],
       "dbfsResultPath": null,
       "isJsonSchema": true,
       "metadata": {},
       "overflow": false,
       "plotOptions": {
        "customPlotOptions": {},
        "displayType": "table",
        "pivotAggregation": null,
        "pivotColumns": null,
        "xColumns": null,
        "yColumns": null
       },
       "removedWidgets": [],
       "schema": [
        {
         "metadata": "{}",
         "name": "percent_amarela",
         "type": "\"double\""
        },
        {
         "metadata": "{}",
         "name": "percent_branca",
         "type": "\"double\""
        },
        {
         "metadata": "{}",
         "name": "percent_indigena",
         "type": "\"double\""
        },
        {
         "metadata": "{}",
         "name": "percent_na",
         "type": "\"double\""
        },
        {
         "metadata": "{}",
         "name": "percent_parda",
         "type": "\"double\""
        },
        {
         "metadata": "{}",
         "name": "percent_preta",
         "type": "\"double\""
        },
        {
         "metadata": "{}",
         "name": "total_linhas",
         "type": "\"long\""
        }
       ],
       "type": "table"
      }
     },
     "output_type": "display_data"
    }
   ],
   "source": [
    "%sql\n",
    "SELECT \n",
    "      ROUND((COUNT(CASE WHEN RACACOR = 'Amarela' THEN 1 END) / COUNT(*)) * 100, 2) AS percent_amarela,\n",
    "      ROUND((COUNT(CASE WHEN RACACOR = 'Branca' THEN 1 END) / COUNT(*)) * 100, 2) AS percent_branca,\n",
    "      ROUND((COUNT(CASE WHEN RACACOR = 'Indígena' THEN 1 END) / COUNT(*)) * 100, 2) AS percent_indigena,\n",
    "      ROUND((COUNT(CASE WHEN RACACOR = 'NA' THEN 1 END) / COUNT(*)) * 100, 2) AS percent_na,\n",
    "      ROUND((COUNT(CASE WHEN RACACOR = 'Parda' THEN 1 END) / COUNT(*)) * 100, 2) AS percent_parda,\n",
    "      ROUND((COUNT(CASE WHEN RACACOR = 'Preta' THEN 1 END) / COUNT(*)) * 100, 2) AS percent_preta,\n",
    "      COUNT(*) AS total_linhas\n",
    "FROM \n",
    "      suicidios_br_gold.ocorrencias_suicidios"
   ]
  },
  {
   "cell_type": "markdown",
   "metadata": {
    "application/vnd.databricks.v1+cell": {
     "cellMetadata": {
      "byteLimit": 2048000,
      "rowLimit": 10000
     },
     "inputWidgets": {},
     "nuid": "63236c6f-930f-45ca-ac4e-c94b0894f7d0",
     "showTitle": false,
     "tableResultSettingsMap": {},
     "title": ""
    }
   },
   "source": [
    "**Análise da pergunta: Raça/cor das pessoas que mais cometeram suicídio**\n",
    "\n",
    "Há uma predominância de suicídios entre pessoas **brancas** e **pardas**. Juntos somam aproximadamente 89% dos casos, sendo que somente as pessoas brancas já correspondem a praticamente 50% do total de casos.\n",
    "\n",
    "É possível observar também, que há uma baixa proporção de suicídios entre pessoas pretas, indígenas e amarelas.\n",
    "\n",
    "A seguir é apresentado um gráfico de pizza para ilustrar este cenário."
   ]
  },
  {
   "cell_type": "code",
   "execution_count": 0,
   "metadata": {
    "application/vnd.databricks.v1+cell": {
     "cellMetadata": {
      "byteLimit": 2048000,
      "rowLimit": 10000
     },
     "inputWidgets": {},
     "nuid": "e3292bb7-f3ef-4935-b396-1f3ba45d3303",
     "showTitle": true,
     "tableResultSettingsMap": {},
     "title": "Gráfico de pizza - Raça/cor das pessoas que mais cometeram suicídio"
    }
   },
   "outputs": [
    {
     "output_type": "display_data",
     "data": {
      "image/png": "[encoded data removed]"
     },
     "metadata": {
      "application/vnd.databricks.v1+output": {
       "addedWidgets": {},
       "arguments": {},
       "data": "data:image/png;base64,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\n",
       "datasetInfos": [],
       "metadata": {},
       "removedWidgets": [],
       "type": "image"
      }
     },
     "output_type": "display_data"
    }
   ],
   "source": [
    "# Dados obtidos na consulta acima\n",
    "valores_percentuais = [0.39, 49.85,\t1.06, 2.82,\t40.62, 5.27]\n",
    "categorias = ['Amarela', 'Branca', 'Indígena', 'NA', 'Parda', 'Preta']\n",
    "\n",
    "# Gráfico de pizza\n",
    "plt.figure(figsize=(5, 5))\n",
    "plt.pie(valores_percentuais, labels=categorias, autopct='%1.1f%%')\n",
    "plt.title('Raça/cor dos indivídos que cometeram suicídio - 2010 a 2019')\n",
    "\n",
    "plt.show()"
   ]
  },
  {
   "cell_type": "markdown",
   "metadata": {
    "application/vnd.databricks.v1+cell": {
     "cellMetadata": {
      "byteLimit": 2048000,
      "rowLimit": 10000
     },
     "inputWidgets": {},
     "nuid": "34dc17d9-ab5a-4dc3-a02e-6c8767ea4b47",
     "showTitle": false,
     "tableResultSettingsMap": {},
     "title": ""
    }
   },
   "source": [
    "## 9. Quais os locais onde mais se cometeram suicídios?"
   ]
  },
  {
   "cell_type": "code",
   "execution_count": 0,
   "metadata": {
    "application/vnd.databricks.v1+cell": {
     "cellMetadata": {
      "byteLimit": 2048000,
      "implicitDf": true,
      "rowLimit": 10000
     },
     "inputWidgets": {},
     "nuid": "44e0fbe7-54b8-4f6c-b789-aeb6a40dc4aa",
     "showTitle": true,
     "tableResultSettingsMap": {},
     "title": "Locais onde mais se cometeram suicídios"
    }
   },
   "outputs": [
    {
     "output_type": "display_data",
     "data": {
      "text/html": [
       "<style scoped>\n",
       "  .table-result-container {\n",
       "    max-height: 300px;\n",
       "    overflow: auto;\n",
       "  }\n",
       "  table, th, td {\n",
       "    border: 1px solid black;\n",
       "    border-collapse: collapse;\n",
       "  }\n",
       "  th, td {\n",
       "    padding: 5px;\n",
       "  }\n",
       "  th {\n",
       "    text-align: left;\n",
       "  }\n",
       "</style><div class='table-result-container'><table class='table-result'><thead style='background-color: white'><tr><th>count(1)</th><th>LOCOCOR</th></tr></thead><tbody><tr><td>68221</td><td>Domicílio</td></tr><tr><td>17579</td><td>Hospital</td></tr><tr><td>17502</td><td>Outros</td></tr><tr><td>6996</td><td>Via pública</td></tr><tr><td>1733</td><td>Outro estabelecimento de saúde</td></tr><tr><td>460</td><td>NA</td></tr></tbody></table></div>"
      ]
     },
     "metadata": {
      "application/vnd.databricks.v1+output": {
       "addedWidgets": {},
       "aggData": [],
       "aggError": "",
       "aggOverflow": false,
       "aggSchema": [],
       "aggSeriesLimitReached": false,
       "aggType": "",
       "arguments": {},
       "columnCustomDisplayInfos": {},
       "data": [
        [
         68221,
         "Domicílio"
        ],
        [
         17579,
         "Hospital"
        ],
        [
         17502,
         "Outros"
        ],
        [
         6996,
         "Via pública"
        ],
        [
         1733,
         "Outro estabelecimento de saúde"
        ],
        [
         460,
         "NA"
        ]
       ],
       "datasetInfos": [],
       "dbfsResultPath": null,
       "isJsonSchema": true,
       "metadata": {},
       "overflow": false,
       "plotOptions": {
        "customPlotOptions": {},
        "displayType": "table",
        "pivotAggregation": null,
        "pivotColumns": null,
        "xColumns": null,
        "yColumns": null
       },
       "removedWidgets": [],
       "schema": [
        {
         "metadata": "{\"__autoGeneratedAlias\":\"true\"}",
         "name": "count(1)",
         "type": "\"long\""
        },
        {
         "metadata": "{}",
         "name": "LOCOCOR",
         "type": "\"string\""
        }
       ],
       "type": "table"
      }
     },
     "output_type": "display_data"
    }
   ],
   "source": [
    "%sql\n",
    "SELECT \n",
    "      COUNT(1), LOCOCOR\n",
    "FROM \n",
    "      suicidios_br_gold.ocorrencias_suicidios\n",
    "GROUP BY \n",
    "      LOCOCOR\n",
    "ORDER BY \n",
    "      count(1) desc"
   ]
  },
  {
   "cell_type": "code",
   "execution_count": 0,
   "metadata": {
    "application/vnd.databricks.v1+cell": {
     "cellMetadata": {
      "byteLimit": 2048000,
      "implicitDf": true,
      "rowLimit": 10000
     },
     "inputWidgets": {},
     "nuid": "db0755c6-5f54-463c-be7f-4360908a24f0",
     "showTitle": true,
     "tableResultSettingsMap": {},
     "title": "Taxa percentual - Locais onde mais se cometeram suicídios"
    }
   },
   "outputs": [
    {
     "output_type": "display_data",
     "data": {
      "text/html": [
       "<style scoped>\n",
       "  .table-result-container {\n",
       "    max-height: 300px;\n",
       "    overflow: auto;\n",
       "  }\n",
       "  table, th, td {\n",
       "    border: 1px solid black;\n",
       "    border-collapse: collapse;\n",
       "  }\n",
       "  th, td {\n",
       "    padding: 5px;\n",
       "  }\n",
       "  th {\n",
       "    text-align: left;\n",
       "  }\n",
       "</style><div class='table-result-container'><table class='table-result'><thead style='background-color: white'><tr><th>percent_domicilio</th><th>percent_hospital</th><th>percent_na</th><th>percent_outro_estab_saude</th><th>percent_outros</th><th>percent_via_publica</th><th>total_linhas</th></tr></thead><tbody><tr><td>60.65</td><td>15.63</td><td>0.41</td><td>1.54</td><td>15.56</td><td>6.22</td><td>112491</td></tr></tbody></table></div>"
      ]
     },
     "metadata": {
      "application/vnd.databricks.v1+output": {
       "addedWidgets": {},
       "aggData": [],
       "aggError": "",
       "aggOverflow": false,
       "aggSchema": [],
       "aggSeriesLimitReached": false,
       "aggType": "",
       "arguments": {},
       "columnCustomDisplayInfos": {},
       "data": [
        [
         60.65,
         15.63,
         0.41,
         1.54,
         15.56,
         6.22,
         112491
        ]
       ],
       "datasetInfos": [],
       "dbfsResultPath": null,
       "isJsonSchema": true,
       "metadata": {},
       "overflow": false,
       "plotOptions": {
        "customPlotOptions": {},
        "displayType": "table",
        "pivotAggregation": null,
        "pivotColumns": null,
        "xColumns": null,
        "yColumns": null
       },
       "removedWidgets": [],
       "schema": [
        {
         "metadata": "{}",
         "name": "percent_domicilio",
         "type": "\"double\""
        },
        {
         "metadata": "{}",
         "name": "percent_hospital",
         "type": "\"double\""
        },
        {
         "metadata": "{}",
         "name": "percent_na",
         "type": "\"double\""
        },
        {
         "metadata": "{}",
         "name": "percent_outro_estab_saude",
         "type": "\"double\""
        },
        {
         "metadata": "{}",
         "name": "percent_outros",
         "type": "\"double\""
        },
        {
         "metadata": "{}",
         "name": "percent_via_publica",
         "type": "\"double\""
        },
        {
         "metadata": "{}",
         "name": "total_linhas",
         "type": "\"long\""
        }
       ],
       "type": "table"
      }
     },
     "output_type": "display_data"
    }
   ],
   "source": [
    "%sql\n",
    "SELECT \n",
    "      ROUND((COUNT(CASE WHEN LOCOCOR = 'Domicílio' THEN 1 END) / COUNT(*)) * 100, 2) AS percent_domicilio,\n",
    "      ROUND((COUNT(CASE WHEN LOCOCOR = 'Hospital' THEN 1 END) / COUNT(*)) * 100, 2) AS percent_hospital,\n",
    "      ROUND((COUNT(CASE WHEN LOCOCOR = 'NA' THEN 1 END) / COUNT(*)) * 100, 2) AS percent_na,\n",
    "      ROUND((COUNT(CASE WHEN LOCOCOR = 'Outro estabelecimento de saúde' THEN 1 END) / COUNT(*)) * 100, 2) AS percent_outro_estab_saude,\n",
    "      ROUND((COUNT(CASE WHEN LOCOCOR = 'Outros' THEN 1 END) / COUNT(*)) * 100, 2) AS percent_outros,\n",
    "      ROUND((COUNT(CASE WHEN LOCOCOR = 'Via pública' THEN 1 END) / COUNT(*)) * 100, 2) AS percent_via_publica,\n",
    "      COUNT(*) AS total_linhas\n",
    "FROM \n",
    "      suicidios_br_gold.ocorrencias_suicidios"
   ]
  },
  {
   "cell_type": "markdown",
   "metadata": {
    "application/vnd.databricks.v1+cell": {
     "cellMetadata": {
      "byteLimit": 2048000,
      "rowLimit": 10000
     },
     "inputWidgets": {},
     "nuid": "de36079f-6dc9-4cd3-a1fe-953213e1ab63",
     "showTitle": false,
     "tableResultSettingsMap": {},
     "title": ""
    }
   },
   "source": [
    "**Análise da pergunta: Locais onde mais se cometeram suicídios**\n",
    "\n",
    "Pode-se observar que 60% do total de suicídios ocorream no **domicílio**.\n",
    "\n",
    "Trata-se de um cenário muito crítico, visto que é mais difícil prever a ocorrência de um suicídio dentro dos domicílios. Além disso, não temos dados suficientes para saber se estas pessoas vivem sozinhas e, em caso positivo, torna-se um problema ainda mais desafiador."
   ]
  },
  {
   "cell_type": "markdown",
   "metadata": {
    "application/vnd.databricks.v1+cell": {
     "cellMetadata": {
      "byteLimit": 2048000,
      "rowLimit": 10000
     },
     "inputWidgets": {},
     "nuid": "a124bb6c-367a-4886-854f-04aff7fcbc7d",
     "showTitle": false,
     "tableResultSettingsMap": {},
     "title": ""
    }
   },
   "source": [
    "## 10. Qual o período do ano em que as pessoas mais cometeram suicídio? É um comportamento que se repete em todos os anos?"
   ]
  },
  {
   "cell_type": "code",
   "execution_count": 0,
   "metadata": {
    "application/vnd.databricks.v1+cell": {
     "cellMetadata": {
      "byteLimit": 2048000,
      "implicitDf": true,
      "rowLimit": 10000
     },
     "inputWidgets": {},
     "nuid": "9a761df6-f16e-4ad9-9825-3f48428c37e3",
     "showTitle": true,
     "tableResultSettingsMap": {},
     "title": "Período do ano em que as pessoas mais cometeram suicídio"
    }
   },
   "outputs": [
    {
     "output_type": "display_data",
     "data": {
      "text/html": [
       "<style scoped>\n",
       "  .table-result-container {\n",
       "    max-height: 300px;\n",
       "    overflow: auto;\n",
       "  }\n",
       "  table, th, td {\n",
       "    border: 1px solid black;\n",
       "    border-collapse: collapse;\n",
       "  }\n",
       "  th, td {\n",
       "    padding: 5px;\n",
       "  }\n",
       "  th {\n",
       "    text-align: left;\n",
       "  }\n",
       "</style><div class='table-result-container'><table class='table-result'><thead style='background-color: white'><tr><th>count(1)</th><th>ano</th><th>mes</th></tr></thead><tbody><tr><td>851</td><td>2010</td><td>1</td></tr><tr><td>726</td><td>2010</td><td>2</td></tr><tr><td>803</td><td>2010</td><td>3</td></tr><tr><td>757</td><td>2010</td><td>4</td></tr><tr><td>810</td><td>2010</td><td>5</td></tr><tr><td>702</td><td>2010</td><td>6</td></tr><tr><td>747</td><td>2010</td><td>7</td></tr><tr><td>791</td><td>2010</td><td>8</td></tr><tr><td>772</td><td>2010</td><td>9</td></tr><tr><td>860</td><td>2010</td><td>10</td></tr><tr><td>796</td><td>2010</td><td>11</td></tr><tr><td>861</td><td>2010</td><td>12</td></tr><tr><td>817</td><td>2011</td><td>1</td></tr><tr><td>759</td><td>2011</td><td>2</td></tr><tr><td>848</td><td>2011</td><td>3</td></tr><tr><td>845</td><td>2011</td><td>4</td></tr><tr><td>831</td><td>2011</td><td>5</td></tr><tr><td>757</td><td>2011</td><td>6</td></tr><tr><td>807</td><td>2011</td><td>7</td></tr><tr><td>838</td><td>2011</td><td>8</td></tr><tr><td>820</td><td>2011</td><td>9</td></tr><tr><td>825</td><td>2011</td><td>10</td></tr><tr><td>801</td><td>2011</td><td>11</td></tr><tr><td>934</td><td>2011</td><td>12</td></tr><tr><td>882</td><td>2012</td><td>1</td></tr><tr><td>914</td><td>2012</td><td>2</td></tr><tr><td>841</td><td>2012</td><td>3</td></tr><tr><td>856</td><td>2012</td><td>4</td></tr><tr><td>803</td><td>2012</td><td>5</td></tr><tr><td>770</td><td>2012</td><td>6</td></tr><tr><td>846</td><td>2012</td><td>7</td></tr><tr><td>826</td><td>2012</td><td>8</td></tr><tr><td>897</td><td>2012</td><td>9</td></tr><tr><td>894</td><td>2012</td><td>10</td></tr><tr><td>878</td><td>2012</td><td>11</td></tr><tr><td>959</td><td>2012</td><td>12</td></tr><tr><td>925</td><td>2013</td><td>1</td></tr><tr><td>882</td><td>2013</td><td>2</td></tr><tr><td>938</td><td>2013</td><td>3</td></tr><tr><td>854</td><td>2013</td><td>4</td></tr><tr><td>895</td><td>2013</td><td>5</td></tr><tr><td>830</td><td>2013</td><td>6</td></tr><tr><td>802</td><td>2013</td><td>7</td></tr><tr><td>857</td><td>2013</td><td>8</td></tr><tr><td>905</td><td>2013</td><td>9</td></tr><tr><td>910</td><td>2013</td><td>10</td></tr><tr><td>841</td><td>2013</td><td>11</td></tr><tr><td>940</td><td>2013</td><td>12</td></tr><tr><td>931</td><td>2014</td><td>1</td></tr><tr><td>882</td><td>2014</td><td>2</td></tr><tr><td>958</td><td>2014</td><td>3</td></tr><tr><td>900</td><td>2014</td><td>4</td></tr><tr><td>826</td><td>2014</td><td>5</td></tr><tr><td>805</td><td>2014</td><td>6</td></tr><tr><td>755</td><td>2014</td><td>7</td></tr><tr><td>939</td><td>2014</td><td>8</td></tr><tr><td>920</td><td>2014</td><td>9</td></tr><tr><td>903</td><td>2014</td><td>10</td></tr><tr><td>916</td><td>2014</td><td>11</td></tr><tr><td>948</td><td>2014</td><td>12</td></tr><tr><td>1051</td><td>2015</td><td>1</td></tr><tr><td>855</td><td>2015</td><td>2</td></tr><tr><td>948</td><td>2015</td><td>3</td></tr><tr><td>935</td><td>2015</td><td>4</td></tr><tr><td>904</td><td>2015</td><td>5</td></tr><tr><td>869</td><td>2015</td><td>6</td></tr><tr><td>856</td><td>2015</td><td>7</td></tr><tr><td>917</td><td>2015</td><td>8</td></tr><tr><td>902</td><td>2015</td><td>9</td></tr><tr><td>995</td><td>2015</td><td>10</td></tr><tr><td>925</td><td>2015</td><td>11</td></tr><tr><td>1054</td><td>2015</td><td>12</td></tr><tr><td>942</td><td>2016</td><td>1</td></tr><tr><td>930</td><td>2016</td><td>2</td></tr><tr><td>929</td><td>2016</td><td>3</td></tr><tr><td>920</td><td>2016</td><td>4</td></tr><tr><td>930</td><td>2016</td><td>5</td></tr><tr><td>881</td><td>2016</td><td>6</td></tr><tr><td>928</td><td>2016</td><td>7</td></tr><tr><td>912</td><td>2016</td><td>8</td></tr><tr><td>964</td><td>2016</td><td>9</td></tr><tr><td>1049</td><td>2016</td><td>10</td></tr><tr><td>1017</td><td>2016</td><td>11</td></tr><tr><td>1053</td><td>2016</td><td>12</td></tr><tr><td>1060</td><td>2017</td><td>1</td></tr><tr><td>967</td><td>2017</td><td>2</td></tr><tr><td>1058</td><td>2017</td><td>3</td></tr><tr><td>923</td><td>2017</td><td>4</td></tr><tr><td>1034</td><td>2017</td><td>5</td></tr><tr><td>934</td><td>2017</td><td>6</td></tr><tr><td>940</td><td>2017</td><td>7</td></tr><tr><td>1072</td><td>2017</td><td>8</td></tr><tr><td>1141</td><td>2017</td><td>9</td></tr><tr><td>1213</td><td>2017</td><td>10</td></tr><tr><td>1065</td><td>2017</td><td>11</td></tr><tr><td>1114</td><td>2017</td><td>12</td></tr><tr><td>1082</td><td>2018</td><td>1</td></tr><tr><td>958</td><td>2018</td><td>2</td></tr><tr><td>1134</td><td>2018</td><td>3</td></tr><tr><td>1072</td><td>2018</td><td>4</td></tr><tr><td>1046</td><td>2018</td><td>5</td></tr><tr><td>974</td><td>2018</td><td>6</td></tr><tr><td>1029</td><td>2018</td><td>7</td></tr><tr><td>1040</td><td>2018</td><td>8</td></tr><tr><td>1086</td><td>2018</td><td>9</td></tr><tr><td>1095</td><td>2018</td><td>10</td></tr><tr><td>1095</td><td>2018</td><td>11</td></tr><tr><td>1153</td><td>2018</td><td>12</td></tr><tr><td>1118</td><td>2019</td><td>1</td></tr><tr><td>1032</td><td>2019</td><td>2</td></tr><tr><td>1225</td><td>2019</td><td>3</td></tr><tr><td>1124</td><td>2019</td><td>4</td></tr><tr><td>1149</td><td>2019</td><td>5</td></tr><tr><td>1057</td><td>2019</td><td>6</td></tr><tr><td>1089</td><td>2019</td><td>7</td></tr><tr><td>1107</td><td>2019</td><td>8</td></tr><tr><td>1176</td><td>2019</td><td>9</td></tr><tr><td>1136</td><td>2019</td><td>10</td></tr><tr><td>1152</td><td>2019</td><td>11</td></tr><tr><td>1189</td><td>2019</td><td>12</td></tr></tbody></table></div>"
      ]
     },
     "metadata": {
      "application/vnd.databricks.v1+output": {
       "addedWidgets": {},
       "aggData": [],
       "aggError": "",
       "aggOverflow": false,
       "aggSchema": [],
       "aggSeriesLimitReached": false,
       "aggType": "",
       "arguments": {},
       "columnCustomDisplayInfos": {},
       "data": [
        [
         851,
         2010,
         1
        ],
        [
         726,
         2010,
         2
        ],
        [
         803,
         2010,
         3
        ],
        [
         757,
         2010,
         4
        ],
        [
         810,
         2010,
         5
        ],
        [
         702,
         2010,
         6
        ],
        [
         747,
         2010,
         7
        ],
        [
         791,
         2010,
         8
        ],
        [
         772,
         2010,
         9
        ],
        [
         860,
         2010,
         10
        ],
        [
         796,
         2010,
         11
        ],
        [
         861,
         2010,
         12
        ],
        [
         817,
         2011,
         1
        ],
        [
         759,
         2011,
         2
        ],
        [
         848,
         2011,
         3
        ],
        [
         845,
         2011,
         4
        ],
        [
         831,
         2011,
         5
        ],
        [
         757,
         2011,
         6
        ],
        [
         807,
         2011,
         7
        ],
        [
         838,
         2011,
         8
        ],
        [
         820,
         2011,
         9
        ],
        [
         825,
         2011,
         10
        ],
        [
         801,
         2011,
         11
        ],
        [
         934,
         2011,
         12
        ],
        [
         882,
         2012,
         1
        ],
        [
         914,
         2012,
         2
        ],
        [
         841,
         2012,
         3
        ],
        [
         856,
         2012,
         4
        ],
        [
         803,
         2012,
         5
        ],
        [
         770,
         2012,
         6
        ],
        [
         846,
         2012,
         7
        ],
        [
         826,
         2012,
         8
        ],
        [
         897,
         2012,
         9
        ],
        [
         894,
         2012,
         10
        ],
        [
         878,
         2012,
         11
        ],
        [
         959,
         2012,
         12
        ],
        [
         925,
         2013,
         1
        ],
        [
         882,
         2013,
         2
        ],
        [
         938,
         2013,
         3
        ],
        [
         854,
         2013,
         4
        ],
        [
         895,
         2013,
         5
        ],
        [
         830,
         2013,
         6
        ],
        [
         802,
         2013,
         7
        ],
        [
         857,
         2013,
         8
        ],
        [
         905,
         2013,
         9
        ],
        [
         910,
         2013,
         10
        ],
        [
         841,
         2013,
         11
        ],
        [
         940,
         2013,
         12
        ],
        [
         931,
         2014,
         1
        ],
        [
         882,
         2014,
         2
        ],
        [
         958,
         2014,
         3
        ],
        [
         900,
         2014,
         4
        ],
        [
         826,
         2014,
         5
        ],
        [
         805,
         2014,
         6
        ],
        [
         755,
         2014,
         7
        ],
        [
         939,
         2014,
         8
        ],
        [
         920,
         2014,
         9
        ],
        [
         903,
         2014,
         10
        ],
        [
         916,
         2014,
         11
        ],
        [
         948,
         2014,
         12
        ],
        [
         1051,
         2015,
         1
        ],
        [
         855,
         2015,
         2
        ],
        [
         948,
         2015,
         3
        ],
        [
         935,
         2015,
         4
        ],
        [
         904,
         2015,
         5
        ],
        [
         869,
         2015,
         6
        ],
        [
         856,
         2015,
         7
        ],
        [
         917,
         2015,
         8
        ],
        [
         902,
         2015,
         9
        ],
        [
         995,
         2015,
         10
        ],
        [
         925,
         2015,
         11
        ],
        [
         1054,
         2015,
         12
        ],
        [
         942,
         2016,
         1
        ],
        [
         930,
         2016,
         2
        ],
        [
         929,
         2016,
         3
        ],
        [
         920,
         2016,
         4
        ],
        [
         930,
         2016,
         5
        ],
        [
         881,
         2016,
         6
        ],
        [
         928,
         2016,
         7
        ],
        [
         912,
         2016,
         8
        ],
        [
         964,
         2016,
         9
        ],
        [
         1049,
         2016,
         10
        ],
        [
         1017,
         2016,
         11
        ],
        [
         1053,
         2016,
         12
        ],
        [
         1060,
         2017,
         1
        ],
        [
         967,
         2017,
         2
        ],
        [
         1058,
         2017,
         3
        ],
        [
         923,
         2017,
         4
        ],
        [
         1034,
         2017,
         5
        ],
        [
         934,
         2017,
         6
        ],
        [
         940,
         2017,
         7
        ],
        [
         1072,
         2017,
         8
        ],
        [
         1141,
         2017,
         9
        ],
        [
         1213,
         2017,
         10
        ],
        [
         1065,
         2017,
         11
        ],
        [
         1114,
         2017,
         12
        ],
        [
         1082,
         2018,
         1
        ],
        [
         958,
         2018,
         2
        ],
        [
         1134,
         2018,
         3
        ],
        [
         1072,
         2018,
         4
        ],
        [
         1046,
         2018,
         5
        ],
        [
         974,
         2018,
         6
        ],
        [
         1029,
         2018,
         7
        ],
        [
         1040,
         2018,
         8
        ],
        [
         1086,
         2018,
         9
        ],
        [
         1095,
         2018,
         10
        ],
        [
         1095,
         2018,
         11
        ],
        [
         1153,
         2018,
         12
        ],
        [
         1118,
         2019,
         1
        ],
        [
         1032,
         2019,
         2
        ],
        [
         1225,
         2019,
         3
        ],
        [
         1124,
         2019,
         4
        ],
        [
         1149,
         2019,
         5
        ],
        [
         1057,
         2019,
         6
        ],
        [
         1089,
         2019,
         7
        ],
        [
         1107,
         2019,
         8
        ],
        [
         1176,
         2019,
         9
        ],
        [
         1136,
         2019,
         10
        ],
        [
         1152,
         2019,
         11
        ],
        [
         1189,
         2019,
         12
        ]
       ],
       "datasetInfos": [],
       "dbfsResultPath": null,
       "isJsonSchema": true,
       "metadata": {},
       "overflow": false,
       "plotOptions": {
        "customPlotOptions": {},
        "displayType": "table",
        "pivotAggregation": null,
        "pivotColumns": null,
        "xColumns": null,
        "yColumns": null
       },
       "removedWidgets": [],
       "schema": [
        {
         "metadata": "{\"__autoGeneratedAlias\":\"true\"}",
         "name": "count(1)",
         "type": "\"long\""
        },
        {
         "metadata": "{}",
         "name": "ano",
         "type": "\"integer\""
        },
        {
         "metadata": "{}",
         "name": "mes",
         "type": "\"integer\""
        }
       ],
       "type": "table"
      }
     },
     "output_type": "display_data"
    }
   ],
   "source": [
    "%sql\n",
    "SELECT COUNT(1), year(DTOBITO) as ano, month(DTOBITO) as mes\n",
    "FROM suicidios_br_gold.ocorrencias_suicidios\n",
    "GROUP BY ano, mes\n",
    "ORDER BY ano, mes"
   ]
  },
  {
   "cell_type": "markdown",
   "metadata": {
    "application/vnd.databricks.v1+cell": {
     "cellMetadata": {
      "byteLimit": 2048000,
      "rowLimit": 10000
     },
     "inputWidgets": {},
     "nuid": "98f2c1d1-d53c-4251-a47b-0b8e19dd1cf6",
     "showTitle": false,
     "tableResultSettingsMap": {},
     "title": ""
    }
   },
   "source": [
    "![](https://github.com/andressapedrosa/data_engineering/blob/main/grafico_distribuicao_anos_meses.jpg?raw=true)"
   ]
  },
  {
   "cell_type": "markdown",
   "metadata": {
    "application/vnd.databricks.v1+cell": {
     "cellMetadata": {
      "byteLimit": 2048000,
      "rowLimit": 10000
     },
     "inputWidgets": {},
     "nuid": "e16c7d84-def7-4574-b9f4-681c6db041ff",
     "showTitle": false,
     "tableResultSettingsMap": {},
     "title": ""
    }
   },
   "source": [
    "**Análise da pergunta: Período do ano em que as pessoas mais cometem suicídio**\n",
    "\n",
    "Pode-se observar que ao longo dos anos há um **aparente padrão**: **picos de suicídio** ocorreram nos meses de **Março, Maio e Outubro**. Além disso, há uma tendência de aumento no fim do ano (Dezembro).\n",
    "\n",
    "Já os meses de **Fevereiro, Junho e Novembro** apresentam **queda** no número de suicídios.\n",
    "\n",
    "Tais dados analisados de forma isolada infelizmente não são suficientes para entender as possíveis causas desse padrão. São necessários mais dados relacionados a cada um dos respectivos períodos."
   ]
  },
  {
   "cell_type": "markdown",
   "metadata": {
    "application/vnd.databricks.v1+cell": {
     "cellMetadata": {
      "byteLimit": 2048000,
      "rowLimit": 10000
     },
     "inputWidgets": {},
     "nuid": "75aeb953-03cf-44cb-abfc-bfd749719886",
     "showTitle": false,
     "tableResultSettingsMap": {},
     "title": ""
    }
   },
   "source": [
    "## 11. Quais são as TOP 5 causas mais frequentes de suicídios?"
   ]
  },
  {
   "cell_type": "code",
   "execution_count": 0,
   "metadata": {
    "application/vnd.databricks.v1+cell": {
     "cellMetadata": {
      "byteLimit": 2048000,
      "implicitDf": true,
      "rowLimit": 10000
     },
     "inputWidgets": {},
     "nuid": "98d39665-6785-4d1b-9a0d-8f32423893e0",
     "showTitle": true,
     "tableResultSettingsMap": {},
     "title": "TOP 5 causas mais frequentes de suicídios"
    }
   },
   "outputs": [
    {
     "output_type": "display_data",
     "data": {
      "text/html": [
       "<style scoped>\n",
       "  .table-result-container {\n",
       "    max-height: 300px;\n",
       "    overflow: auto;\n",
       "  }\n",
       "  table, th, td {\n",
       "    border: 1px solid black;\n",
       "    border-collapse: collapse;\n",
       "  }\n",
       "  th, td {\n",
       "    padding: 5px;\n",
       "  }\n",
       "  th {\n",
       "    text-align: left;\n",
       "  }\n",
       "</style><div class='table-result-container'><table class='table-result'><thead style='background-color: white'><tr><th>count(1)</th><th>DESCRICAO</th></tr></thead><tbody><tr><td>53399</td><td>Lesão autoprovocada intencionalmente por enforcamento, estrangulamento e sufocação - residência</td></tr><tr><td>11877</td><td>Lesão autoprovocada intencionalmente por enforcamento, estrangulamento e sufocação - local não especificado</td></tr><tr><td>3599</td><td>Lesão autoprovocada intencionalmente por disparo de outra arma de fogo e de arma de fogo não especificada - residência</td></tr><tr><td>3425</td><td>Lesão autoprovocada intencionalmente por enforcamento, estrangulamento e sufocação - outros locais especificados</td></tr><tr><td>2609</td><td>Lesão autoprovocada intencionalmente por enforcamento, estrangulamento e sufocação - rua e estrada</td></tr></tbody></table></div>"
      ]
     },
     "metadata": {
      "application/vnd.databricks.v1+output": {
       "addedWidgets": {},
       "aggData": [],
       "aggError": "",
       "aggOverflow": false,
       "aggSchema": [],
       "aggSeriesLimitReached": false,
       "aggType": "",
       "arguments": {},
       "columnCustomDisplayInfos": {},
       "data": [
        [
         53399,
         "Lesão autoprovocada intencionalmente por enforcamento, estrangulamento e sufocação - residência"
        ],
        [
         11877,
         "Lesão autoprovocada intencionalmente por enforcamento, estrangulamento e sufocação - local não especificado"
        ],
        [
         3599,
         "Lesão autoprovocada intencionalmente por disparo de outra arma de fogo e de arma de fogo não especificada - residência"
        ],
        [
         3425,
         "Lesão autoprovocada intencionalmente por enforcamento, estrangulamento e sufocação - outros locais especificados"
        ],
        [
         2609,
         "Lesão autoprovocada intencionalmente por enforcamento, estrangulamento e sufocação - rua e estrada"
        ]
       ],
       "datasetInfos": [],
       "dbfsResultPath": null,
       "isJsonSchema": true,
       "metadata": {},
       "overflow": false,
       "plotOptions": {
        "customPlotOptions": {},
        "displayType": "table",
        "pivotAggregation": null,
        "pivotColumns": null,
        "xColumns": null,
        "yColumns": null
       },
       "removedWidgets": [],
       "schema": [
        {
         "metadata": "{\"__autoGeneratedAlias\":\"true\"}",
         "name": "count(1)",
         "type": "\"long\""
        },
        {
         "metadata": "{}",
         "name": "DESCRICAO",
         "type": "\"string\""
        }
       ],
       "type": "table"
      }
     },
     "output_type": "display_data"
    }
   ],
   "source": [
    "%sql\n",
    "SELECT \n",
    "      COUNT(1), DESCRICAO\n",
    "FROM \n",
    "      suicidios_br_gold.ocorrencias_suicidios\n",
    "GROUP BY \n",
    "      DESCRICAO\n",
    "ORDER BY \n",
    "      count(1) desc\n",
    "LIMIT 5"
   ]
  },
  {
   "cell_type": "markdown",
   "metadata": {
    "application/vnd.databricks.v1+cell": {
     "cellMetadata": {
      "byteLimit": 2048000,
      "rowLimit": 10000
     },
     "inputWidgets": {},
     "nuid": "746b53f5-27a5-40ed-9749-e7c59c100919",
     "showTitle": false,
     "tableResultSettingsMap": {},
     "title": ""
    }
   },
   "source": [
    "**Análise da pergunta: TOP 5 causas mais frequentes de suicídios**\n",
    "\n",
    "Pode-se observar que 47% do total de suicídios cometidos entre 2010 e 2019 foram provocados por **enforcamento, estrangulamento e sufocação na própria residência**.\n",
    "\n",
    "Trata-se de um cenário muito crítico, visto que a privacidade do ambiente doméstico dificulta a prevenção e intervenção. Além disso, não temos dados suficientes para saber se estas pessoas viviam sozinhas e, em caso positivo, torna-se um problema ainda mais desafiador.\n"
   ]
  },
  {
   "cell_type": "markdown",
   "metadata": {
    "application/vnd.databricks.v1+cell": {
     "cellMetadata": {
      "byteLimit": 2048000,
      "rowLimit": 10000
     },
     "inputWidgets": {},
     "nuid": "e3681e1c-d28d-4e27-9a1a-5df293d51a58",
     "showTitle": false,
     "tableResultSettingsMap": {},
     "title": ""
    }
   },
   "source": [
    "## 12. Para cada ano, quais as TOP 3 causas mais frequentes de suicídios? Há um padrão de comportamento ao longo dos anos?"
   ]
  },
  {
   "cell_type": "code",
   "execution_count": 0,
   "metadata": {
    "application/vnd.databricks.v1+cell": {
     "cellMetadata": {
      "byteLimit": 2048000,
      "implicitDf": true,
      "rowLimit": 10000
     },
     "inputWidgets": {},
     "nuid": "4129b0a2-bd46-43c7-8681-8da18fe1f6db",
     "showTitle": true,
     "tableResultSettingsMap": {},
     "title": "Para cada ano, quais as TOP 3 causas mais frequentes de suicídios"
    }
   },
   "outputs": [
    {
     "output_type": "display_data",
     "data": {
      "text/html": [
       "<style scoped>\n",
       "  .table-result-container {\n",
       "    max-height: 300px;\n",
       "    overflow: auto;\n",
       "  }\n",
       "  table, th, td {\n",
       "    border: 1px solid black;\n",
       "    border-collapse: collapse;\n",
       "  }\n",
       "  th, td {\n",
       "    padding: 5px;\n",
       "  }\n",
       "  th {\n",
       "    text-align: left;\n",
       "  }\n",
       "</style><div class='table-result-container'><table class='table-result'><thead style='background-color: white'><tr><th>quantidade</th><th>ano</th><th>DESCRICAO</th></tr></thead><tbody><tr><td>3892</td><td>2010</td><td>Lesão autoprovocada intencionalmente por enforcamento, estrangulamento e sufocação - residência</td></tr><tr><td>1066</td><td>2010</td><td>Lesão autoprovocada intencionalmente por enforcamento, estrangulamento e sufocação - local não especificado</td></tr><tr><td>354</td><td>2010</td><td>Auto-intoxicação por e exposição, intencional, a pesticidas - local não especificado</td></tr><tr><td>4056</td><td>2011</td><td>Lesão autoprovocada intencionalmente por enforcamento, estrangulamento e sufocação - residência</td></tr><tr><td>1279</td><td>2011</td><td>Lesão autoprovocada intencionalmente por enforcamento, estrangulamento e sufocação - local não especificado</td></tr><tr><td>366</td><td>2011</td><td>Auto-intoxicação por e exposição, intencional, a pesticidas - local não especificado</td></tr><tr><td>4460</td><td>2012</td><td>Lesão autoprovocada intencionalmente por enforcamento, estrangulamento e sufocação - residência</td></tr><tr><td>1342</td><td>2012</td><td>Lesão autoprovocada intencionalmente por enforcamento, estrangulamento e sufocação - local não especificado</td></tr><tr><td>347</td><td>2012</td><td>Lesão autoprovocada intencionalmente por disparo de outra arma de fogo e de arma de fogo não especificada - residência</td></tr><tr><td>4695</td><td>2013</td><td>Lesão autoprovocada intencionalmente por enforcamento, estrangulamento e sufocação - residência</td></tr><tr><td>1365</td><td>2013</td><td>Lesão autoprovocada intencionalmente por enforcamento, estrangulamento e sufocação - local não especificado</td></tr><tr><td>360</td><td>2013</td><td>Lesão autoprovocada intencionalmente por disparo de outra arma de fogo e de arma de fogo não especificada - residência</td></tr><tr><td>4921</td><td>2014</td><td>Lesão autoprovocada intencionalmente por enforcamento, estrangulamento e sufocação - residência</td></tr><tr><td>1217</td><td>2014</td><td>Lesão autoprovocada intencionalmente por enforcamento, estrangulamento e sufocação - local não especificado</td></tr><tr><td>344</td><td>2014</td><td>Lesão autoprovocada intencionalmente por disparo de outra arma de fogo e de arma de fogo não especificada - residência</td></tr><tr><td>5399</td><td>2015</td><td>Lesão autoprovocada intencionalmente por enforcamento, estrangulamento e sufocação - residência</td></tr><tr><td>1220</td><td>2015</td><td>Lesão autoprovocada intencionalmente por enforcamento, estrangulamento e sufocação - local não especificado</td></tr><tr><td>337</td><td>2015</td><td>Lesão autoprovocada intencionalmente por disparo de outra arma de fogo e de arma de fogo não especificada - residência</td></tr><tr><td>5536</td><td>2016</td><td>Lesão autoprovocada intencionalmente por enforcamento, estrangulamento e sufocação - residência</td></tr><tr><td>1191</td><td>2016</td><td>Lesão autoprovocada intencionalmente por enforcamento, estrangulamento e sufocação - local não especificado</td></tr><tr><td>368</td><td>2016</td><td>Lesão autoprovocada intencionalmente por enforcamento, estrangulamento e sufocação - outros locais especificados</td></tr><tr><td>6461</td><td>2017</td><td>Lesão autoprovocada intencionalmente por enforcamento, estrangulamento e sufocação - residência</td></tr><tr><td>1063</td><td>2017</td><td>Lesão autoprovocada intencionalmente por enforcamento, estrangulamento e sufocação - local não especificado</td></tr><tr><td>410</td><td>2017</td><td>Lesão autoprovocada intencionalmente por enforcamento, estrangulamento e sufocação - outros locais especificados</td></tr><tr><td>6697</td><td>2018</td><td>Lesão autoprovocada intencionalmente por enforcamento, estrangulamento e sufocação - residência</td></tr><tr><td>1028</td><td>2018</td><td>Lesão autoprovocada intencionalmente por enforcamento, estrangulamento e sufocação - local não especificado</td></tr><tr><td>502</td><td>2018</td><td>Lesão autoprovocada intencionalmente por enforcamento, estrangulamento e sufocação - outros locais especificados</td></tr><tr><td>7282</td><td>2019</td><td>Lesão autoprovocada intencionalmente por enforcamento, estrangulamento e sufocação - residência</td></tr><tr><td>1106</td><td>2019</td><td>Lesão autoprovocada intencionalmente por enforcamento, estrangulamento e sufocação - local não especificado</td></tr><tr><td>503</td><td>2019</td><td>Lesão autoprovocada intencionalmente por enforcamento, estrangulamento e sufocação - outros locais especificados</td></tr></tbody></table></div>"
      ]
     },
     "metadata": {
      "application/vnd.databricks.v1+output": {
       "addedWidgets": {},
       "aggData": [],
       "aggError": "",
       "aggOverflow": false,
       "aggSchema": [],
       "aggSeriesLimitReached": false,
       "aggType": "",
       "arguments": {},
       "columnCustomDisplayInfos": {},
       "data": [
        [
         3892,
         2010,
         "Lesão autoprovocada intencionalmente por enforcamento, estrangulamento e sufocação - residência"
        ],
        [
         1066,
         2010,
         "Lesão autoprovocada intencionalmente por enforcamento, estrangulamento e sufocação - local não especificado"
        ],
        [
         354,
         2010,
         "Auto-intoxicação por e exposição, intencional, a pesticidas - local não especificado"
        ],
        [
         4056,
         2011,
         "Lesão autoprovocada intencionalmente por enforcamento, estrangulamento e sufocação - residência"
        ],
        [
         1279,
         2011,
         "Lesão autoprovocada intencionalmente por enforcamento, estrangulamento e sufocação - local não especificado"
        ],
        [
         366,
         2011,
         "Auto-intoxicação por e exposição, intencional, a pesticidas - local não especificado"
        ],
        [
         4460,
         2012,
         "Lesão autoprovocada intencionalmente por enforcamento, estrangulamento e sufocação - residência"
        ],
        [
         1342,
         2012,
         "Lesão autoprovocada intencionalmente por enforcamento, estrangulamento e sufocação - local não especificado"
        ],
        [
         347,
         2012,
         "Lesão autoprovocada intencionalmente por disparo de outra arma de fogo e de arma de fogo não especificada - residência"
        ],
        [
         4695,
         2013,
         "Lesão autoprovocada intencionalmente por enforcamento, estrangulamento e sufocação - residência"
        ],
        [
         1365,
         2013,
         "Lesão autoprovocada intencionalmente por enforcamento, estrangulamento e sufocação - local não especificado"
        ],
        [
         360,
         2013,
         "Lesão autoprovocada intencionalmente por disparo de outra arma de fogo e de arma de fogo não especificada - residência"
        ],
        [
         4921,
         2014,
         "Lesão autoprovocada intencionalmente por enforcamento, estrangulamento e sufocação - residência"
        ],
        [
         1217,
         2014,
         "Lesão autoprovocada intencionalmente por enforcamento, estrangulamento e sufocação - local não especificado"
        ],
        [
         344,
         2014,
         "Lesão autoprovocada intencionalmente por disparo de outra arma de fogo e de arma de fogo não especificada - residência"
        ],
        [
         5399,
         2015,
         "Lesão autoprovocada intencionalmente por enforcamento, estrangulamento e sufocação - residência"
        ],
        [
         1220,
         2015,
         "Lesão autoprovocada intencionalmente por enforcamento, estrangulamento e sufocação - local não especificado"
        ],
        [
         337,
         2015,
         "Lesão autoprovocada intencionalmente por disparo de outra arma de fogo e de arma de fogo não especificada - residência"
        ],
        [
         5536,
         2016,
         "Lesão autoprovocada intencionalmente por enforcamento, estrangulamento e sufocação - residência"
        ],
        [
         1191,
         2016,
         "Lesão autoprovocada intencionalmente por enforcamento, estrangulamento e sufocação - local não especificado"
        ],
        [
         368,
         2016,
         "Lesão autoprovocada intencionalmente por enforcamento, estrangulamento e sufocação - outros locais especificados"
        ],
        [
         6461,
         2017,
         "Lesão autoprovocada intencionalmente por enforcamento, estrangulamento e sufocação - residência"
        ],
        [
         1063,
         2017,
         "Lesão autoprovocada intencionalmente por enforcamento, estrangulamento e sufocação - local não especificado"
        ],
        [
         410,
         2017,
         "Lesão autoprovocada intencionalmente por enforcamento, estrangulamento e sufocação - outros locais especificados"
        ],
        [
         6697,
         2018,
         "Lesão autoprovocada intencionalmente por enforcamento, estrangulamento e sufocação - residência"
        ],
        [
         1028,
         2018,
         "Lesão autoprovocada intencionalmente por enforcamento, estrangulamento e sufocação - local não especificado"
        ],
        [
         502,
         2018,
         "Lesão autoprovocada intencionalmente por enforcamento, estrangulamento e sufocação - outros locais especificados"
        ],
        [
         7282,
         2019,
         "Lesão autoprovocada intencionalmente por enforcamento, estrangulamento e sufocação - residência"
        ],
        [
         1106,
         2019,
         "Lesão autoprovocada intencionalmente por enforcamento, estrangulamento e sufocação - local não especificado"
        ],
        [
         503,
         2019,
         "Lesão autoprovocada intencionalmente por enforcamento, estrangulamento e sufocação - outros locais especificados"
        ]
       ],
       "datasetInfos": [],
       "dbfsResultPath": null,
       "isJsonSchema": true,
       "metadata": {},
       "overflow": false,
       "plotOptions": {
        "customPlotOptions": {},
        "displayType": "table",
        "pivotAggregation": null,
        "pivotColumns": null,
        "xColumns": null,
        "yColumns": null
       },
       "removedWidgets": [],
       "schema": [
        {
         "metadata": "{}",
         "name": "quantidade",
         "type": "\"long\""
        },
        {
         "metadata": "{}",
         "name": "ano",
         "type": "\"integer\""
        },
        {
         "metadata": "{}",
         "name": "DESCRICAO",
         "type": "\"string\""
        }
       ],
       "type": "table"
      }
     },
     "output_type": "display_data"
    }
   ],
   "source": [
    "%sql\n",
    "WITH causas_suicidios_por_ano AS (\n",
    "  SELECT\n",
    "    COUNT(1) as quantidade, year(DTOBITO) as ano, DESCRICAO\n",
    "  FROM\n",
    "    suicidios_br_gold.ocorrencias_suicidios\n",
    "  GROUP BY\n",
    "    ano, DESCRICAO\n",
    "),\n",
    "top_3_cids_ano AS (\n",
    "  SELECT\n",
    "    quantidade,\n",
    "    ano,\n",
    "    DESCRICAO,\n",
    "    ROW_NUMBER() OVER (PARTITION BY ano ORDER BY quantidade DESC) AS rank_cid\n",
    "  FROM\n",
    "    causas_suicidios_por_ano\n",
    ")\n",
    "\n",
    "SELECT \n",
    "      quantidade, ano, DESCRICAO\n",
    "FROM \n",
    "      top_3_cids_ano\n",
    "where \n",
    "      rank_cid <= 3\n",
    "ORDER BY \n",
    "      ano"
   ]
  },
  {
   "cell_type": "markdown",
   "metadata": {
    "application/vnd.databricks.v1+cell": {
     "cellMetadata": {
      "byteLimit": 2048000,
      "rowLimit": 10000
     },
     "inputWidgets": {},
     "nuid": "bcd3ee34-c6df-4605-a0da-5fdd8dd5559a",
     "showTitle": false,
     "tableResultSettingsMap": {},
     "title": ""
    }
   },
   "source": [
    "**Análise da pergunta: Para cada ano, quais as TOP 3 causas mais frequentes de suicídios?**\n",
    "\n",
    "Conforme visto anteriormente, os 3 CIDs indicados abaixo são as maiores causas de suicídios:\n",
    "- Lesão autoprovocada intencionalmente por **enforcamento, estrangulamento e sufocação - residência**\n",
    "- Lesão autoprovocada intencionalmente por **enforcamento, estrangulamento e sufocação - local não especificado**\n",
    "- Lesão autoprovocada intencionalmente por **disparo de outra arma de fogo e de arma de fogo não especificada - residência**\n",
    "\n",
    "De acordo com a tabela anterior, percebemos os seguintes padrões:\n",
    "\n",
    "- **Anos que seguem um determinado padrão**:\n",
    "  - **2012, 2013, 2014, 2016, 2017, 2018**\n",
    "    - Apresentam enforcamento como 1ª e 2ª causas em residência e local não especificado.\n",
    "\n",
    "- **Anos que fugiram do padrão**:\n",
    "  - **2010, 2011**\n",
    "    - Uso de pesticidas como 3ª causa\n",
    "  - **2015**\n",
    "    - Arma de fogo como 3ª causa\n",
    "  - **2019**\n",
    "    - Local “outros locais especificados” como 3ª causa\n"
   ]
  },
  {
   "cell_type": "markdown",
   "metadata": {
    "application/vnd.databricks.v1+cell": {
     "cellMetadata": {
      "byteLimit": 2048000,
      "rowLimit": 10000
     },
     "inputWidgets": {},
     "nuid": "afb612d9-7afc-443c-a898-f68561ee97e3",
     "showTitle": false,
     "tableResultSettingsMap": {},
     "title": ""
    }
   },
   "source": [
    "# Autoavaliação\n",
    "\n",
    "Este trabalho foi bem desafiador e, ao mesmo tempo, bastante enriquecedor em termos de conhecimento, tanto a nível técnico quanto de negócio também.\n",
    "Sou da área de tecnologia, presto serviço para o setor de Saúde e foi muito interessante aprofundar meus conhecimentos nesta área de negócio também.\n",
    "\n",
    "Consegui atingir os objetivos traçados no início deste projeto, mas tive dificuldade em encontrar outros datasets para compor meu modelo de dados. Sei que este trabalho ainda tem muito a evoluir! Infelizmente os resultados das análises feitas não são conclusivos para entender o que de fato causou o alto número de suicídios e que só aumentou ao longo dos anos.\n",
    "\n",
    "Informações extras que eu entendo que ajudariam na análise:\n",
    "- faixa salarial dos indivíduos\n",
    "- indicativo se está empregado ou desempregado\n",
    "- número de pessoas com quem vive (para identificar se a pessoa mora ou não sozinha)\n",
    "- indicativo de depressão (se possui ou não)\n",
    "\n",
    "Para projetos futuros, penso na evolução deste trabalho enriquecendo o modelo com mais informações relevantes, como estas listadas acima. Da mesma maneira, vejo a possibilidade de ajustar esse trabalho para criar um modelo de dados em esquema estrela:\n",
    "- tabela FATO_OCORRENCIAS_SUICIDIOS\n",
    "- tabela DIM_TEMPO\n",
    "- tabela DIM_UF (para os estados brasileiros)\n",
    "- tabela DIM_SEXO\n",
    "- tabela DIM_RACACOR"
   ]
  }
 ],
 "metadata": {
  "application/vnd.databricks.v1+notebook": {
   "computePreferences": null,
   "dashboards": [],
   "environmentMetadata": {
    "base_environment": "",
    "environment_version": "1"
   },
   "inputWidgetPreferences": null,
   "language": "python",
   "notebookMetadata": {
    "mostRecentlyExecutedCommandWithImplicitDF": {
     "commandId": 2249737287263758,
     "dataframes": [
      "_sqldf"
     ]
    },
    "pythonIndentUnit": 4
   },
   "notebookName": "MVP_PUC_Suicidios_BR_2010_2019",
   "widgets": {}
  }
 },
 "nbformat": 4,
 "nbformat_minor": 0
}